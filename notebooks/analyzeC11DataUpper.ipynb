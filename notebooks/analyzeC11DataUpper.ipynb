{
 "cells": [
  {
   "cell_type": "code",
   "execution_count": 1,
   "metadata": {
    "collapsed": true
   },
   "outputs": [],
   "source": [
    "%matplotlib inline\n",
    "from scipy.io import loadmat,savemat\n",
    "from scipy.linalg import *\n",
    "from numpy import *\n",
    "from os import listdir\n",
    "import pickle,operator\n",
    "import matplotlib.pyplot as plt\n",
    "from sklearn.utils import shuffle\n",
    "from sklearn.ensemble import RandomForestClassifier,RandomForestRegressor"
   ]
  },
  {
   "cell_type": "code",
   "execution_count": 3,
   "metadata": {},
   "outputs": [],
   "source": [
    "titaniumDat = loadmat('alphatitaniumsmall.mat')\n",
    "volumefraction = constraint = titaniumDat['volumefraction'][0]"
   ]
  },
  {
   "cell_type": "markdown",
   "metadata": {},
   "source": [
    "### <font color=\"red\">Objective: Maximize the stiffness coefficient C11</font>\n",
    "\n",
    "### <font color=\"orange\"> Design Constraint: C12 stiffness coefficient should be greater than 75 GPa.</font>\n",
    "\n",
    "\n",
    "### <font color=\"green\">max C11</font>\n",
    "subject to :\n",
    "###  C12>75 GPa and C12< 78 GPa\n",
    "\n"
   ]
  },
  {
   "cell_type": "code",
   "execution_count": 4,
   "metadata": {
    "collapsed": true
   },
   "outputs": [],
   "source": [
    "C11_limit = (75,78)\n",
    "alpha_limit = {'C11':(161,165), 'C12':C11_limit}"
   ]
  },
  {
   "cell_type": "markdown",
   "metadata": {},
   "source": [
    "### <font color=\"teal\">Optimum polycrystal solution C11 =  167.8562  GPa</font>\n",
    "#### with \n",
    "##### <font color=\"blue\">C12 = 75.2360 GPa</font>"
   ]
  },
  {
   "cell_type": "code",
   "execution_count": 5,
   "metadata": {
    "collapsed": true
   },
   "outputs": [],
   "source": [
    "def FiveSig(x):\n",
    "    return float(\"{0:.5f}\".format(x))"
   ]
  },
  {
   "cell_type": "code",
   "execution_count": 6,
   "metadata": {
    "collapsed": true
   },
   "outputs": [],
   "source": [
    "def Plot(x,y,labelX=\"\",labelY=\"\",title=\"\"):\n",
    "    plt.plot(x,y)\n",
    "    plt.xlabel(labelX)\n",
    "    plt.ylabel(labelY)\n",
    "    plt.title(title)"
   ]
  },
  {
   "cell_type": "code",
   "execution_count": 7,
   "metadata": {
    "collapsed": true
   },
   "outputs": [],
   "source": [
    "def loadData(name,path):\n",
    "    '''\n",
    "    This loads a pickle file and returns the content which is a DICTIONARY object in our case.\n",
    "    '''\n",
    "    if \".pkl\" in name:\n",
    "            name = name.split(\".pkl\")[0]\n",
    "    if \"/\" in name:\n",
    "            name = name.split(\"/\",1)[1]\n",
    "\n",
    "    with open(path+\"/\"+name + '.pkl', 'rb') as f:\n",
    "          return pickle.load(f)\n",
    "\n",
    "def saveData(obj, name,path):\n",
    "    '''\n",
    "    This saves a object into a pickle file. In our case, it is generally a DICTIONARY object.\n",
    "    '''\n",
    "\n",
    "    with open(path+\"/\"+name + '.pkl', 'wb') as f:\n",
    "            pickle.dump(obj, f)#, pickle.HIGHEST_PROTOCOL)\n",
    "            \n",
    "def loadNumpy(name,path='numpyData'):\n",
    "    fullPath = path+'/'+name+'.npy'\n",
    "    return load(fullPath)\n",
    "    \n",
    "\n",
    "def saveNumpy(obj, name, path='numpyData'):\n",
    "    fullPath = path+'/'+name\n",
    "    save(fullPath, obj)\n",
    "    print name,'saved successfully in',path"
   ]
  },
  {
   "cell_type": "code",
   "execution_count": 8,
   "metadata": {
    "collapsed": true
   },
   "outputs": [],
   "source": [
    "def getC12(odf):\n",
    "\n",
    "    C = stiffness.dot(odf).reshape(6,6);  # averaged stiffness matrix\n",
    "    C12 = C[0][1]\n",
    "    return C12"
   ]
  },
  {
   "cell_type": "code",
   "execution_count": 9,
   "metadata": {
    "collapsed": true
   },
   "outputs": [],
   "source": [
    "def getSum(odf):\n",
    "    Sum = 0\n",
    "    for i in range(50):\n",
    "        Sum += volumefraction[i]*odf[i]\n",
    "    return Sum\n",
    "\n",
    "def checkSum(odf):\n",
    "    Sum = FiveSig(getSum(odf))\n",
    "    if Sum !=1.0:\n",
    "        return False\n",
    "    else:\n",
    "        return True"
   ]
  },
  {
   "cell_type": "code",
   "execution_count": 10,
   "metadata": {
    "collapsed": true
   },
   "outputs": [],
   "source": [
    "def posOdf(odf):\n",
    "    return nonzero(odf)[0].tolist()"
   ]
  },
  {
   "cell_type": "markdown",
   "metadata": {},
   "source": [
    "### <font color=\"purple\">Sorting the solutions for finding near-optimal solutions</font>\n"
   ]
  },
  {
   "cell_type": "code",
   "execution_count": 12,
   "metadata": {},
   "outputs": [],
   "source": [
    "data = []\n",
    "\n",
    "Filename = []\n",
    "for File in listdir('C11UpperData'):\n",
    "\n",
    "    Filename += [File]\n",
    "    data += [loadmat('C11UpperData/'+File)]\n",
    "\n"
   ]
  },
  {
   "cell_type": "code",
   "execution_count": 13,
   "metadata": {},
   "outputs": [
    {
     "data": {
      "text/plain": [
       "391"
      ]
     },
     "execution_count": 13,
     "metadata": {},
     "output_type": "execute_result"
    }
   ],
   "source": [
    "len(data[0]['Data'][0])"
   ]
  },
  {
   "cell_type": "code",
   "execution_count": 19,
   "metadata": {
    "collapsed": true
   },
   "outputs": [],
   "source": [
    "opts = []\n",
    "odfs = []\n",
    "constraints = []\n",
    "# sortedOpts = []\n",
    "# sortedConstraints = []\n",
    "\n",
    "maxOdf = [[0]*50]*len(data)#, maxOdf]#, maxOdf]#, maxOdf]\n",
    "maxOpt = [0]*len(data)#4\n",
    "maxConstraint = [0]*len(data)\n",
    "\n",
    "count = 0\n",
    "total = 0\n",
    "\n",
    "for i in range(len(data)):\n",
    "    for odf in data[i]['Data']:\n",
    "        \n",
    "        odf = odf.tolist()\n",
    "        opts += [odf[50]]\n",
    "        constraints += [odf[51]]\n",
    "        \n",
    "        odfs += [odf[:50]]\n",
    "        \n",
    "        total += 1\n",
    "        \n",
    "        if checkSum(odf[:50]):\n",
    "            count += 1\n",
    "\n",
    "        if odf[50]>maxOpt[i]:\n",
    "            maxOpt[i] = odf[50]\n",
    "            maxConstraint[i] = odf[51]\n",
    "            maxOdf[i] = odf[:50]"
   ]
  },
  {
   "cell_type": "code",
   "execution_count": 20,
   "metadata": {
    "collapsed": true
   },
   "outputs": [],
   "source": [
    "combined = zip(constraints,opts,odfs)\n",
    "combined.sort(key=lambda x:map(int, str(float(x[1])).split(\".\")), reverse=True)\n",
    "constraints[:],opts[:],odfs[:] = zip(*combined)"
   ]
  },
  {
   "cell_type": "code",
   "execution_count": 23,
   "metadata": {},
   "outputs": [
    {
     "name": "stdout",
     "output_type": "stream",
     "text": [
      "sortedConstraints_C11 saved successfully in numpyData\n",
      "sortedOdfs_C11 saved successfully in numpyData\n",
      "sortedOpts_C11 saved successfully in numpyData\n"
     ]
    }
   ],
   "source": [
    "saveNumpy(constraints,'sortedConstraints_C11')\n",
    "saveNumpy(odfs,'sortedOdfs_C11')\n",
    "saveNumpy(opts,'sortedOpts_C11')"
   ]
  },
  {
   "cell_type": "markdown",
   "metadata": {},
   "source": [
    "### <font color = \"orange\"> Solutions close to LP solution </font>"
   ]
  },
  {
   "cell_type": "code",
   "execution_count": 40,
   "metadata": {},
   "outputs": [
    {
     "data": {
      "text/plain": [
       "(166.177638, 167.016919, 167.6883438, 167.83941438)"
      ]
     },
     "execution_count": 40,
     "metadata": {},
     "output_type": "execute_result"
    }
   ],
   "source": [
    "LP = 167.8562\n",
    "limit1 = 0.99 *LP\n",
    "limit2 = 0.995 *LP\n",
    "limit3 = 0.999 * LP\n",
    "limit4 = 0.9999 * LP\n",
    "limit1,limit2,limit3,limit4"
   ]
  },
  {
   "cell_type": "code",
   "execution_count": 41,
   "metadata": {},
   "outputs": [
    {
     "name": "stdout",
     "output_type": "stream",
     "text": [
      "3544 237 30 3\n"
     ]
    }
   ],
   "source": [
    "count1,count2,count3,count4 = 0,0,0,0\n",
    "flag,i = True,-1\n",
    "flag1,flag2 = -1,-1\n",
    "while flag:\n",
    "    i+=1\n",
    "    if opts[i]>limit1:\n",
    "        count1 += 1\n",
    "        if opts[i]>limit2:\n",
    "            count2 += 1\n",
    "            if opts[i]>limit3:\n",
    "                count3 += 1\n",
    "                if opts[i]>limit4:\n",
    "                    count4 += 1\n",
    "    else:\n",
    "        flag = False\n",
    "\n",
    "print count1, count2, count3,count4"
   ]
  },
  {
   "cell_type": "markdown",
   "metadata": {},
   "source": [
    "### <font color=\"teal\"> Other Odf combinations </font>"
   ]
  },
  {
   "cell_type": "code",
   "execution_count": 46,
   "metadata": {},
   "outputs": [
    {
     "name": "stdout",
     "output_type": "stream",
     "text": [
      "8 [0, 20, 29]\n",
      "20 [0, 9, 29, 37]\n",
      "35 [0, 27, 29]\n",
      "36 [0, 7, 29]\n",
      "37 [0, 11, 26, 29]\n",
      "40 [0, 29, 32]\n",
      "44 [0, 10, 24, 29]\n",
      "46 [0, 29, 47]\n"
     ]
    }
   ],
   "source": [
    "otherSols = []\n",
    "for i in range(50):\n",
    "    pos_odf = posOdf(odfs[i])\n",
    "    if  pos_odf != [0, 29]:\n",
    "        print i,pos_odf"
   ]
  },
  {
   "cell_type": "markdown",
   "metadata": {},
   "source": [
    "### <font color=\"green\"> Random Forest Regression to find the top features for determining value </font> "
   ]
  },
  {
   "cell_type": "code",
   "execution_count": 48,
   "metadata": {
    "collapsed": true
   },
   "outputs": [],
   "source": [
    "edgeOdfs = odfs[:5000]+odfs[-5000:]\n",
    "edgeLabels = opts[:5000]+opts[-5000:]\n",
    "\n",
    "edgeOdfs,edgeLabels = shuffle(edgeOdfs,edgeLabels)"
   ]
  },
  {
   "cell_type": "code",
   "execution_count": 50,
   "metadata": {},
   "outputs": [
    {
     "name": "stdout",
     "output_type": "stream",
     "text": [
      "4 : 0.517520455566\n",
      "3 : 0.480709514167\n",
      "29 : 0.00171514648206\n",
      "11 : 5.48837848748e-05\n"
     ]
    }
   ],
   "source": [
    "clf = RandomForestRegressor(max_depth=2, random_state=0)\n",
    "clf.fit(edgeOdfs, edgeLabels)\n",
    "features = clf.feature_importances_\n",
    "indices = argsort(features)[::-1]\n",
    "values = sorted(features, reverse=True)\n",
    "for i in range(4):\n",
    "    print indices[i], ':',values[i]"
   ]
  },
  {
   "cell_type": "markdown",
   "metadata": {},
   "source": [
    "### <font color=\"magenta\"> Plots </font>"
   ]
  },
  {
   "cell_type": "code",
   "execution_count": 24,
   "metadata": {},
   "outputs": [
    {
     "data": {
      "image/png": "[encoded data removed]",
      "text/plain": [
       "<matplotlib.figure.Figure at 0x119785790>"
      ]
     },
     "metadata": {},
     "output_type": "display_data"
    }
   ],
   "source": [
    "plt.hist(opts,bins=150)\n",
    "plt.title(\"Frequency Distribution of C11\")\n",
    "plt.xlabel(\"C11\")\n",
    "plt.ylabel(\"Frequency\")\n",
    "plt.show()"
   ]
  },
  {
   "cell_type": "code",
   "execution_count": 15,
   "metadata": {},
   "outputs": [
    {
     "name": "stdout",
     "output_type": "stream",
     "text": [
      "0 C11_first4Generator_100000.mat 166.93191721 75.1231506878\n",
      "1 C11_first5Generator_1000000.mat 166.584798468 75.0268834006\n",
      "2 C11_first6Generator_20000.mat 166.089132765 75.2459881999\n",
      "3 C11_first7Generator_40000.mat 165.503543442 75.084243082\n",
      "4 C11_SmallPartition12_100000.mat 165.371825616 75.0221308183\n",
      "5 C11_SmallPartition15_100000.mat 164.507248324 75.2602581336\n",
      "6 C11_SmallPartition2_150000.mat 167.828929238 75.015094798\n",
      "7 C11_SmallPartition2_300000.mat 167.779424738 75.0425390511\n",
      "8 C11_SmallPartition2_5000000.mat 167.854859813 75.0007194329\n",
      "9 C11_SmallPartition3_300000.mat 167.503662405 75.0975896265\n",
      "10 C11_SmallPartition3_5000000.mat 167.806524039 75.0138587938\n",
      "11 C11_SmallPartition4_300000.mat 167.171631144 75.1946370314\n",
      "12 C11_SmallPartition4_5000000.mat 167.737438313 75.0135342635\n",
      "13 C11_SmallPartition5_100000.mat 167.288739258 75.1066871266\n",
      "14 C11_SmallPartition5_300000.mat 166.982447955 75.044842377\n",
      "15 C11_SmallPartition6_100000.mat 166.620159578 75.0781259976\n",
      "16 C11_SmallPartition7_100000.mat 166.398821773 75.025797088\n",
      "17 C11_SmallPartition8_300000.mat 166.307745721 75.186430934\n",
      "18 C11_SmallPartition9_300000.mat 166.316952476 75.0018249048\n",
      "19 data_SmallPartition2_1000.mat 165.647651372 75.3985004487\n"
     ]
    }
   ],
   "source": [
    "for i in range(len(data)):\n",
    "    print i,Filename[i],maxOpt[i],maxConstraint[i]"
   ]
  },
  {
   "cell_type": "code",
   "execution_count": 26,
   "metadata": {
    "collapsed": true
   },
   "outputs": [],
   "source": [
    "indices = list(range(50))"
   ]
  },
  {
   "cell_type": "code",
   "execution_count": 27,
   "metadata": {
    "collapsed": true
   },
   "outputs": [],
   "source": [
    "List = []\n",
    "for i in range(50):\n",
    "    List += [0]\n",
    "    \n",
    "for odf in odfs:\n",
    "    nz = nonzero(odf)[0].tolist()\n",
    "    for elem in nz:\n",
    "        List[elem] += 1\n",
    "\n",
    "average = []\n",
    "for i in indices:\n",
    "    average += [float(List[i])/float(len(odfs))]"
   ]
  },
  {
   "cell_type": "code",
   "execution_count": 28,
   "metadata": {},
   "outputs": [
    {
     "data": {
      "image/png": "[encoded data removed]",
      "text/plain": [
       "<matplotlib.figure.Figure at 0x18fb0ae10>"
      ]
     },
     "metadata": {},
     "output_type": "display_data"
    }
   ],
   "source": [
    "Plot(indices, average,\"ODF dimension\",\"fraction of non-zero values\",\"all ODFs\")"
   ]
  },
  {
   "cell_type": "code",
   "execution_count": 30,
   "metadata": {
    "collapsed": true
   },
   "outputs": [],
   "source": [
    "topOdfs = odfs[:5000]\n",
    "topList = []\n",
    "for i in range(50):\n",
    "    topList += [0]\n",
    "    \n",
    "for odf in topOdfs:\n",
    "    nz = nonzero(odf)[0].tolist()\n",
    "    for elem in nz:\n",
    "        topList[elem] += 1\n",
    "\n",
    "topAverage = []\n",
    "for i in indices:\n",
    "    topAverage += [float(topList[i])/float(len(topOdfs))]"
   ]
  },
  {
   "cell_type": "code",
   "execution_count": 31,
   "metadata": {},
   "outputs": [
    {
     "data": {
      "image/png": "[encoded data removed]",
      "text/plain": [
       "<matplotlib.figure.Figure at 0x18d568b10>"
      ]
     },
     "metadata": {},
     "output_type": "display_data"
    }
   ],
   "source": [
    "Plot(indices, topAverage,\"ODF dimension\",\"fraction of non-zero values\",\"all ODFs\")"
   ]
  },
  {
   "cell_type": "code",
   "execution_count": 32,
   "metadata": {
    "collapsed": true
   },
   "outputs": [],
   "source": [
    "bestOdfs = odfs[:500]\n",
    "bestList = []\n",
    "for i in range(50):\n",
    "    bestList += [0]\n",
    "    \n",
    "for odf in bestOdfs:\n",
    "    nz = nonzero(odf)[0].tolist()\n",
    "    for elem in nz:\n",
    "        bestList[elem] += 1\n",
    "\n",
    "bestAverage = []\n",
    "for i in indices:\n",
    "    bestAverage += [float(bestList[i])/float(len(bestOdfs))]"
   ]
  },
  {
   "cell_type": "code",
   "execution_count": 34,
   "metadata": {},
   "outputs": [
    {
     "data": {
      "image/png": "[encoded data removed]",
      "text/plain": [
       "<matplotlib.figure.Figure at 0x18ed77350>"
      ]
     },
     "metadata": {},
     "output_type": "display_data"
    }
   ],
   "source": [
    "Plot(indices,bestAverage,\"ODF dimension\",\"fraction of non-zero values\",\"all ODFs\")"
   ]
  },
  {
   "cell_type": "code",
   "execution_count": 21,
   "metadata": {
    "collapsed": true
   },
   "outputs": [],
   "source": [
    "maxVal = {'odf':odfs[0]}\n",
    "savemat('betterSol.mat',maxVal)"
   ]
  },
  {
   "cell_type": "code",
   "execution_count": 24,
   "metadata": {},
   "outputs": [
    {
     "data": {
      "text/plain": [
       "[(0, 0.49405),\n",
       " (1, 0.3258),\n",
       " (6, 0.25425),\n",
       " (7, 0.2515),\n",
       " (11, 0.2465),\n",
       " (10, 0.24575),\n",
       " (29, 0.1234),\n",
       " (12, 0.1005),\n",
       " (13, 0.0989),\n",
       " (47, 0.0679)]"
      ]
     },
     "execution_count": 24,
     "metadata": {},
     "output_type": "execute_result"
    }
   ],
   "source": [
    "dictionary = {}\n",
    "for i in range(len(indices)):\n",
    "    dictionary[indices[i]]=topAverage[i]\n",
    "sorted_dict = sorted(dictionary.items(), key=operator.itemgetter(1),reverse=True)\n",
    "sorted_dict[:10]"
   ]
  },
  {
   "cell_type": "code",
   "execution_count": 26,
   "metadata": {},
   "outputs": [
    {
     "data": {
      "text/plain": [
       "[(0, 0.697),\n",
       " (10, 0.3585),\n",
       " (11, 0.3445),\n",
       " (1, 0.3175),\n",
       " (29, 0.2935),\n",
       " (6, 0.111),\n",
       " (7, 0.11)]"
      ]
     },
     "execution_count": 26,
     "metadata": {},
     "output_type": "execute_result"
    }
   ],
   "source": [
    "dictionary = {}\n",
    "for i in range(len(indices)):\n",
    "    dictionary[indices[i]]=bestAverage[i]\n",
    "sorted_dict = sorted(dictionary.items(), key=operator.itemgetter(1),reverse=True)\n",
    "sorted_dict[:7]"
   ]
  },
  {
   "cell_type": "markdown",
   "metadata": {},
   "source": [
    "## <font color=\"magenta\"> Ideas for analysis </font>\n",
    "\n",
    "#### Look at the top Solutions\n",
    "#### Decision Tree and bounds\n",
    "#### Importance Sampling and Time Reduction \n",
    "#### Pattern search and trust region search "
   ]
  },
  {
   "cell_type": "markdown",
   "metadata": {},
   "source": [
    "### <font color=\"crimson\"> How do I represent this diversity in a paper </font>"
   ]
  },
  {
   "cell_type": "markdown",
   "metadata": {},
   "source": [
    "#### <font color=\"purple\"> Almost all the solutions have 0 in them </font>"
   ]
  },
  {
   "cell_type": "markdown",
   "metadata": {},
   "source": [
    "### <font color=\"red\"> What does it mean non-zero odfs percentage ? Does all good solutions have 0 as one of the dimensions ? </font>"
   ]
  },
  {
   "cell_type": "code",
   "execution_count": 28,
   "metadata": {},
   "outputs": [
    {
     "data": {
      "text/plain": [
       "(167.7442339458098,\n",
       " [15.984265320842537,\n",
       "  0.0,\n",
       "  0.0,\n",
       "  0.0,\n",
       "  0.0,\n",
       "  0.0,\n",
       "  0.0,\n",
       "  0.0,\n",
       "  0.0,\n",
       "  0.0,\n",
       "  0.0,\n",
       "  0.0,\n",
       "  0.0,\n",
       "  0.0,\n",
       "  0.0,\n",
       "  0.0,\n",
       "  0.0,\n",
       "  0.0,\n",
       "  0.0,\n",
       "  0.0,\n",
       "  0.0,\n",
       "  0.0,\n",
       "  0.0,\n",
       "  0.0,\n",
       "  0.0,\n",
       "  0.0,\n",
       "  0.0,\n",
       "  0.0,\n",
       "  0.0,\n",
       "  50.3182621026604,\n",
       "  0.0,\n",
       "  0.0,\n",
       "  0.0,\n",
       "  0.0,\n",
       "  0.0,\n",
       "  0.0,\n",
       "  0.0,\n",
       "  0.0,\n",
       "  0.0,\n",
       "  0.0,\n",
       "  0.0,\n",
       "  0.0,\n",
       "  0.0,\n",
       "  0.0,\n",
       "  0.0,\n",
       "  0.0,\n",
       "  0.0,\n",
       "  0.0,\n",
       "  0.0,\n",
       "  0.0])"
      ]
     },
     "execution_count": 28,
     "metadata": {},
     "output_type": "execute_result"
    }
   ],
   "source": [
    "opts[19],odfs[19]"
   ]
  },
  {
   "cell_type": "markdown",
   "metadata": {},
   "source": [
    "### <font color=\"blue\">IDEAS</font>\n",
    "\n",
    "#### <font color=\"maroon\"> Prediction ? would it make it faster </font>\n",
    "#### <font color=\"maroon\"> Find top features using decision tree/random forest </font>\n",
    "#### <font color=\"maroon\"> Get the bounds on top features using decision tree </font>\n",
    "#### <font color=\"maroon\"> Use it either for pattern search or even intelligent sampling</font>\n",
    "#### <font color =\"maroon\"> The idea we thought for multiple solutions. It is there in multiple solutions Notebook (Galfenol)</font>"
   ]
  },
  {
   "cell_type": "markdown",
   "metadata": {},
   "source": [
    "### <font color=\"red\">STATS</font> "
   ]
  },
  {
   "cell_type": "markdown",
   "metadata": {},
   "source": [
    "<font color=\"purple\">  </font>"
   ]
  }
 ],
 "metadata": {
  "anaconda-cloud": {},
  "kernelspec": {
   "display_name": "Python 2",
   "language": "python",
   "name": "python2"
  },
  "language_info": {
   "codemirror_mode": {
    "name": "ipython",
    "version": 2
   },
   "file_extension": ".py",
   "mimetype": "text/x-python",
   "name": "python",
   "nbconvert_exporter": "python",
   "pygments_lexer": "ipython2",
   "version": "2.7.13"
  }
 },
 "nbformat": 4,
 "nbformat_minor": 1
}
