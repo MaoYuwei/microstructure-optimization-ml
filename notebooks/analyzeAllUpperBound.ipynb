{
 "cells": [
  {
   "cell_type": "code",
   "execution_count": 2,
   "metadata": {
    "collapsed": true
   },
   "outputs": [],
   "source": [
    "%matplotlib inline\n",
    "from scipy.io import loadmat,savemat\n",
    "from scipy.linalg import *\n",
    "from numpy import *\n",
    "from os import listdir\n",
    "from random import choice\n",
    "import pickle,operator,pandas\n",
    "import matplotlib.pyplot as plt"
   ]
  },
  {
   "cell_type": "code",
   "execution_count": 1,
   "metadata": {
    "collapsed": true
   },
   "outputs": [],
   "source": [
    "import matplotlib as mpl\n",
    "\n",
    "#To make sure we have always the same matplotlib settings\n",
    "#(the ones in comments are the ipython notebook settings)\n",
    "\n",
    "mpl.rcParams['figure.figsize']=(8.0,6.0)    #(6.0,4.0)\n",
    "mpl.rcParams['font.size']=12                #10 \n",
    "mpl.rcParams['savefig.dpi']=100             #72 \n",
    "mpl.rcParams['figure.subplot.bottom']=.1    #.125"
   ]
  },
  {
   "cell_type": "code",
   "execution_count": 3,
   "metadata": {
    "collapsed": true
   },
   "outputs": [],
   "source": [
    "def loadData(name,path):\n",
    "    '''\n",
    "    This loads a pickle file and returns the content which is a DICTIONARY object in our case.\n",
    "    '''\n",
    "    if \".pkl\" in name:\n",
    "            name = name.split(\".pkl\")[0]\n",
    "    if \"/\" in name:\n",
    "            name = name.split(\"/\",1)[1]\n",
    "\n",
    "    with open(path+\"/\"+name + '.pkl', 'rb') as f:\n",
    "          return pickle.load(f)\n",
    "\n",
    "def saveData(obj, name,path):\n",
    "    '''\n",
    "    This saves a object into a pickle file. In our case, it is generally a DICTIONARY object.\n",
    "    '''\n",
    "\n",
    "    with open(path+\"/\"+name + '.pkl', 'wb') as f:\n",
    "            pickle.dump(obj, f)#, pickle.HIGHEST_PROTOCOL)\n",
    "\n",
    "def loadNumpy(name,path='numpyData'):\n",
    "    fullPath = path+'/'+name+'.npy'\n",
    "    return load(fullPath)\n",
    "    \n",
    "\n",
    "def saveNumpy(obj, name, path='numpyData'):\n",
    "    fullPath = path+'/'+name\n",
    "    save(fullPath, obj)\n",
    "    print name,'saved successfully in',path"
   ]
  },
  {
   "cell_type": "markdown",
   "metadata": {
    "collapsed": true
   },
   "source": [
    "### Alpha"
   ]
  },
  {
   "cell_type": "markdown",
   "metadata": {},
   "source": [
    "### C11"
   ]
  },
  {
   "cell_type": "markdown",
   "metadata": {},
   "source": [
    "### Yield for Buckling"
   ]
  },
  {
   "cell_type": "code",
   "execution_count": null,
   "metadata": {
    "collapsed": true
   },
   "outputs": [],
   "source": []
  }
 ],
 "metadata": {
  "kernelspec": {
   "display_name": "Python 2",
   "language": "python",
   "name": "python2"
  },
  "language_info": {
   "codemirror_mode": {
    "name": "ipython",
    "version": 2
   },
   "file_extension": ".py",
   "mimetype": "text/x-python",
   "name": "python",
   "nbconvert_exporter": "python",
   "pygments_lexer": "ipython2",
   "version": "2.7.13"
  }
 },
 "nbformat": 4,
 "nbformat_minor": 2
}
