{
 "cells": [
  {
   "cell_type": "code",
   "execution_count": 1,
   "metadata": {
    "collapsed": true
   },
   "outputs": [],
   "source": [
    "sat = 0; \n",
    "count = 0;\n",
    "propFunc = @main_alpha_Ti;\n",
    "odfs = [];\n",
    "Data = [];\n",
    "notSat = [];\n",
    "\n",
    "data_RandEvery5 = [];\n",
    "odfDim = 50;"
   ]
  },
  {
   "cell_type": "markdown",
   "metadata": {},
   "source": [
    "### constraint is volume fraction for the microstructure"
   ]
  },
  {
   "cell_type": "code",
   "execution_count": 2,
   "metadata": {
    "collapsed": true
   },
   "outputs": [],
   "source": [
    "constraint = [ 0.03153236,  0.08391342,  0.02473832,  0.02473832,  0.02473832,\n",
    "        0.02473832,  0.02473832,  0.02473832,  0.02473832,  0.02473832,\n",
    "        0.02473832,  0.02473832,  0.02473832,  0.02473832,  0.01320576,\n",
    "        0.01320576,  0.01320576,  0.01320576,  0.01320576,  0.01320576,\n",
    "        0.01320576,  0.01320576,  0.01320576,  0.01320576,  0.01320576,\n",
    "        0.01320576,  0.00985683,  0.00985683,  0.00985683,  0.00985683,\n",
    "        0.00985683,  0.00985683,  0.01016979,  0.01016979,  0.01016979,\n",
    "        0.01016979,  0.01016979,  0.01016979,  0.01016979,  0.01016979,\n",
    "        0.01016979,  0.01016979,  0.01016979,  0.01016979,  0.01197505,\n",
    "        0.01197505,  0.01197505,  0.01197505,  0.01197505,  0.01197505];"
   ]
  },
  {
   "cell_type": "code",
   "execution_count": 3,
   "metadata": {
    "collapsed": true
   },
   "outputs": [],
   "source": [
    "constraint "
   ]
  },
  {
   "cell_type": "code",
   "execution_count": 4,
   "metadata": {},
   "outputs": [
    {
     "name": "stderr",
     "output_type": "stream",
     "text": [
      "\u001b[0;31mInner matrix dimensions must agree.\n",
      "\u001b[0m"
     ]
    }
   ],
   "source": [
    "for i = 1:randsize\n",
    "\n",
    "  remainFac = 1:1:odfDim-1;\n",
    "  setFac = zeros(1,odfDim-1);\n",
    "  thsd = 1;\n",
    "\n",
    "  outerLp = 1;\n",
    "  while isempty(remainFac) == 0\n",
    "\n",
    "        if length(remainFac) < 5\n",
    "            r = 1;\n",
    "        else\n",
    "            r = 5;\n",
    "        end\n",
    "\n",
    "        randDraw = randsample(length(remainFac),r);\n",
    "        randFac = remainFac(randDraw);\n",
    "        remainFac(randDraw) = [];\n",
    "\n",
    "        randFacRand = rand(1,r).*thsd;\n",
    "\n",
    "        innerLp(outerLp) = 1;\n",
    "        while sum(randFacRand) > thsd\n",
    "            randFacRand = rand(1,r).*thsd;\n",
    "            innerLp(outerLp) = innerLp(outerLp) + 1;\n",
    "        end\n",
    "\n",
    "        thVector(outerLp) = thsd;\n",
    "\n",
    "        thsd = thsd - sum(randFacRand);\n",
    "\n",
    "        setFac(randFac) = randFacRand./constraint(randFac);\n",
    "\n",
    "        outerLp = outerLp + 1;\n",
    "    end\n",
    "\n",
    "      odf = [setFac,thsd/constraint(end)];\n",
    "      if (odf>=0) == true(1,length(odf))\n",
    "          [val,C11,C12] = propFunc(odf);\n",
    "          println(C11);\n",
    "          println(C12)\n",
    "          if val == -10000;\n",
    "              count = count + 1;\n",
    "              notSat = [notSat;odf];\n",
    "            else\n",
    "    \t        sat = sat + 1;\n",
    "    \t         disp(strcat('row',num2str(sat),'satisfied....'));\n",
    "               println(C11,'      ',C12,'       ',val);\n",
    "    \t          odfs = [odfs;odf,-val];\n",
    "                Data = [Data;odf,C11,C12,-val];\n",
    "            end\n",
    "\n",
    "\n",
    "        end\n",
    "\n",
    "  end"
   ]
  },
  {
   "cell_type": "code",
   "execution_count": 8,
   "metadata": {},
   "outputs": [
    {
     "name": "stdout",
     "output_type": "stream",
     "text": [
      "ans =\n",
      "\n",
      "    0.0044\n",
      "    0.1834\n",
      "    0.0000\n",
      "    0.0000\n",
      "    8.0115\n",
      "    0.0014\n",
      "   11.1291\n",
      "    0.0051\n",
      "    0.0000\n",
      "    0.0000\n",
      "    0.0000\n",
      "    0.0008\n",
      "    0.1707\n",
      "    0.0000\n",
      "    0.0026\n",
      "    0.0000\n",
      "    0.0000\n",
      "    0.0000\n",
      "    1.8156\n",
      "    0.0000\n",
      "    0.0000\n",
      "    0.8112\n",
      "    0.0000\n",
      "    0.0000\n",
      "    0.0302\n",
      "    0.1196\n",
      "    0.0019\n",
      "    0.0005\n",
      "    0.0832\n",
      "    1.0037\n",
      "    2.5706\n",
      "    0.0021\n",
      "    0.0000\n",
      "    0.1737\n",
      "    0.0000\n",
      "    0.0000\n",
      "    1.4069\n",
      "    0.0000\n",
      "    0.0000\n",
      "   33.7852\n",
      "    0.0000\n",
      "    0.0000\n",
      "    0.0077\n",
      "    0.0043\n",
      "   16.5592\n",
      "    0.0014\n",
      "    1.8486\n",
      "    0.0000\n",
      "    0.0000\n",
      "    0.0000\n"
     ]
    }
   ],
   "source": [
    "odf'"
   ]
  },
  {
   "cell_type": "code",
   "execution_count": 8,
   "metadata": {
    "collapsed": true
   },
   "outputs": [],
   "source": [
    "odf1 = notSat(1,:);\n",
    "odf2 = notSat(2,:);\n",
    "odf4 = notSat(4,:);"
   ]
  },
  {
   "cell_type": "code",
   "execution_count": 51,
   "metadata": {},
   "outputs": [
    {
     "name": "stdout",
     "output_type": "stream",
     "text": [
      "10000\n",
      "\n",
      "opt =\n",
      "\n",
      "      -10000\n",
      "\n",
      "\n",
      "val =\n",
      "\n",
      "      -10000\n",
      "\n",
      "\n",
      "C11 =\n",
      "\n",
      "  156.8567\n",
      "\n",
      "\n",
      "C12 =\n",
      "\n",
      "   79.6112\n"
     ]
    }
   ],
   "source": [
    "[val,C11,C12] = propFunc(odf1)"
   ]
  },
  {
   "cell_type": "code",
   "execution_count": 53,
   "metadata": {},
   "outputs": [
    {
     "name": "stdout",
     "output_type": "stream",
     "text": [
      "10000\n",
      "\n",
      "opt =\n",
      "\n",
      "      -10000\n",
      "\n",
      "\n",
      "val =\n",
      "\n",
      "      -10000\n",
      "\n",
      "\n",
      "C11 =\n",
      "\n",
      "  156.8567\n",
      "\n",
      "\n",
      "C12 =\n",
      "\n",
      "   79.6112\n"
     ]
    }
   ],
   "source": [
    "[val,C11,C12] = alpha_Ti(odf2)"
   ]
  },
  {
   "cell_type": "code",
   "execution_count": 26,
   "metadata": {},
   "outputs": [
    {
     "name": "stdout",
     "output_type": "stream",
     "text": [
      "A =\n",
      "\n",
      "     1     2     3\n",
      "     4     5     6\n",
      "     7     8     9\n",
      "\n",
      "\n",
      "ans =\n",
      "\n",
      "     1\n"
     ]
    }
   ],
   "source": [
    "A = [1 2 3;4 5 6;7 8 9]\n",
    "A(1)"
   ]
  },
  {
   "cell_type": "code",
   "execution_count": 55,
   "metadata": {
    "collapsed": true
   },
   "outputs": [],
   "source": [
    "num=2;"
   ]
  },
  {
   "cell_type": "code",
   "execution_count": 1,
   "metadata": {},
   "outputs": [
    {
     "name": "stdout",
     "output_type": "stream",
     "text": [
      "10000\n",
      "\n",
      "opt =\n",
      "\n",
      "      -10000\n",
      "\n",
      "10000\n",
      "\n",
      "opt =\n",
      "\n",
      "      -10000\n",
      "\n",
      "10000\n",
      "\n",
      "opt =\n",
      "\n",
      "      -10000\n",
      "\n",
      "10000\n",
      "\n",
      "opt =\n",
      "\n",
      "      -10000\n",
      "\n",
      "Elapsed time is 0.171135 seconds.\n",
      "0.17236\n"
     ]
    }
   ],
   "source": [
    "SmallPartition(2,4)\n"
   ]
  },
  {
   "cell_type": "code",
   "execution_count": 1,
   "metadata": {},
   "outputs": [
    {
     "name": "stdout",
     "output_type": "stream",
     "text": [
      "1.8907e-05\n",
      "402.8709\n",
      "183.4454\n",
      "\n",
      "opt =\n",
      "\n",
      "  -1.8907e-05\n",
      "\n",
      "Row1 processed.........\n",
      "1.2747e-05\n",
      "244.3847\n",
      "117.3339\n",
      "\n",
      "opt =\n",
      "\n",
      "  -1.2747e-05\n",
      "\n",
      "Row2 processed.........\n",
      "1.8582e-05\n",
      "335.9156\n",
      "157.8662\n",
      "\n",
      "opt =\n",
      "\n",
      "  -1.8582e-05\n",
      "\n",
      "Row3 processed.........\n",
      "2.6372e-05\n",
      "555.516\n",
      "258.2012\n",
      "\n",
      "opt =\n",
      "\n",
      "  -2.6372e-05\n",
      "\n",
      "Row4 processed.........\n",
      "1.6663e-05\n",
      "317.8643\n",
      "153.7787\n",
      "\n",
      "opt =\n",
      "\n",
      "  -1.6663e-05\n",
      "\n",
      "Row5 processed.........\n",
      "1.5959e-05\n",
      "294.5791\n",
      "139.556\n",
      "\n",
      "opt =\n",
      "\n",
      "  -1.5959e-05\n",
      "\n",
      "Row6 processed.........\n",
      "1.4931e-05\n",
      "333.9644\n",
      "150.7354\n",
      "\n",
      "opt =\n",
      "\n",
      "  -1.4931e-05\n",
      "\n",
      "Row7 processed.........\n",
      "1.6912e-05\n",
      "360.7716\n",
      "163.2531\n",
      "\n",
      "opt =\n",
      "\n",
      "  -1.6912e-05\n",
      "\n",
      "Row8 processed.........\n",
      "1.5065e-05\n",
      "329.5048\n",
      "150.0259\n",
      "\n",
      "opt =\n",
      "\n",
      "  -1.5065e-05\n",
      "\n",
      "Row9 processed.........\n",
      "2.357e-05\n",
      "412.8122\n",
      "201.6976\n",
      "\n",
      "opt =\n",
      "\n",
      "  -2.3570e-05\n",
      "\n",
      "Row10 processed.........\n"
     ]
    }
   ],
   "source": [
    "[odfarray,dataarray] = randSmallPartition(2,10,@alpha_Ti);"
   ]
  },
  {
   "cell_type": "code",
   "execution_count": 6,
   "metadata": {
    "collapsed": true
   },
   "outputs": [],
   "source": [
    "load alphatitaniumsmall"
   ]
  },
  {
   "cell_type": "code",
   "execution_count": 4,
   "metadata": {
    "collapsed": true
   },
   "outputs": [],
   "source": [
    "odf1 = data.notSat(1,1:50);\n",
    "odf2 = data.notSat(2,1:50);\n",
    "odf3 = data.notSat(3,1:50);"
   ]
  },
  {
   "cell_type": "code",
   "execution_count": 15,
   "metadata": {
    "collapsed": true
   },
   "outputs": [],
   "source": [
    "C = reshape(stiffness*odf1',6,6);"
   ]
  },
  {
   "cell_type": "code",
   "execution_count": 8,
   "metadata": {
    "collapsed": true
   },
   "outputs": [],
   "source": [
    "C = reshape(stiffness*odf1',6,6);  % averaged stiffness matrix\n",
    "C11 = C(1,1);\n",
    "C12 = C(1,2);\n"
   ]
  },
  {
   "cell_type": "code",
   "execution_count": 21,
   "metadata": {},
   "outputs": [
    {
     "name": "stdout",
     "output_type": "stream",
     "text": [
      "ans =\n",
      "\n",
      "     2\n"
     ]
    }
   ],
   "source": [
    "length(odf1)"
   ]
  },
  {
   "cell_type": "code",
   "execution_count": 20,
   "metadata": {},
   "outputs": [
    {
     "name": "stdout",
     "output_type": "stream",
     "text": [
      "thermalexpansion =\n",
      "\n",
      "   1.0e-06 *\n",
      "\n",
      "  Columns 1 through 7\n",
      "\n",
      "    0.2855    0.7390    0.2068    0.2286    0.2286    0.2068    0.1826\n",
      "   -0.0000   -0.0000    0.0266    0.0112    0.0112    0.0266    0.0153\n",
      "    0.0000    0.0000    0.0223   -0.0066    0.0066   -0.0223    0.0319\n",
      "   -0.0000   -0.0000    0.0266    0.0112    0.0112    0.0266    0.0153\n",
      "    0.2855    0.7390    0.2020    0.1802    0.1802    0.2020    0.2262\n",
      "   -0.0000    0.0000   -0.0253    0.0330   -0.0330    0.0253   -0.0108\n",
      "    0.0000    0.0000    0.0223   -0.0066    0.0066   -0.0223    0.0319\n",
      "   -0.0000    0.0000   -0.0253    0.0330   -0.0330    0.0253   -0.0108\n",
      "    0.2034    0.5831    0.1988    0.1988    0.1988    0.1988    0.1988\n",
      "\n",
      "  Columns 8 through 14\n",
      "\n",
      "    0.1826    0.2262    0.2262    0.1802    0.1802    0.2020    0.2020\n",
      "    0.0153   -0.0153   -0.0153   -0.0112   -0.0112   -0.0266   -0.0266\n",
      "   -0.0319   -0.0108    0.0108   -0.0330    0.0330   -0.0253    0.0253\n",
      "    0.0153   -0.0153   -0.0153   -0.0112   -0.0112   -0.0266   -0.0266\n",
      "    0.2262    0.1826    0.1826    0.2286    0.2286    0.2068    0.2068\n",
      "    0.0108   -0.0319    0.0319   -0.0066    0.0066   -0.0223    0.0223\n",
      "   -0.0319   -0.0108    0.0108   -0.0330    0.0330   -0.0253    0.0253\n",
      "    0.0108   -0.0319    0.0319   -0.0066    0.0066   -0.0223    0.0223\n",
      "    0.1988    0.1988    0.1988    0.1988    0.1988    0.1988    0.1988\n",
      "\n",
      "  Columns 15 through 21\n",
      "\n",
      "    0.1141    0.1141    0.0995    0.0995    0.1235    0.1235    0.0943\n",
      "    0.0139    0.0139    0.0114    0.0114    0.0025    0.0025   -0.0025\n",
      "    0.0124   -0.0124   -0.0194    0.0194    0.0022   -0.0022    0.0212\n",
      "    0.0139    0.0139    0.0114    0.0114    0.0025    0.0025   -0.0025\n",
      "    0.1038    0.1038    0.1184    0.1184    0.0943    0.0943    0.1235\n",
      "   -0.0173    0.0173    0.0087   -0.0087   -0.0212    0.0212    0.0022\n",
      "    0.0124   -0.0124   -0.0194    0.0194    0.0022   -0.0022    0.0212\n",
      "   -0.0173    0.0173    0.0087   -0.0087   -0.0212    0.0212    0.0022\n",
      "    0.1065    0.1065    0.1065    0.1065    0.1065    0.1065    0.1065\n",
      "\n",
      "  Columns 22 through 28\n",
      "\n",
      "    0.0943    0.1184    0.1184    0.1038    0.1038    0.0837    0.0661\n",
      "   -0.0025   -0.0114   -0.0114   -0.0139   -0.0139    0.0152    0.0152\n",
      "   -0.0212   -0.0087    0.0087    0.0173   -0.0173   -0.0000   -0.0000\n",
      "   -0.0025   -0.0114   -0.0114   -0.0139   -0.0139    0.0152    0.0152\n",
      "    0.1235    0.0995    0.0995    0.1141    0.1141    0.0661    0.0837\n",
      "   -0.0022   -0.0194    0.0194    0.0124   -0.0124    0.0000    0.0000\n",
      "   -0.0212   -0.0087    0.0087    0.0173   -0.0173   -0.0000   -0.0000\n",
      "   -0.0022   -0.0194    0.0194    0.0124   -0.0124    0.0000    0.0000\n",
      "    0.1065    0.1065    0.1065    0.1065    0.1065    0.0923    0.0923\n",
      "\n",
      "  Columns 29 through 35\n",
      "\n",
      "    0.0925    0.0574    0.0837    0.0661    0.0785    0.0933    0.0785\n",
      "   -0.0000    0.0000   -0.0152   -0.0152    0.0171    0.0086    0.0171\n",
      "    0.0000    0.0000   -0.0000    0.0000   -0.0059    0.0022    0.0059\n",
      "   -0.0000    0.0000   -0.0152   -0.0152    0.0171    0.0086    0.0171\n",
      "    0.0574    0.0925    0.0661    0.0837    0.0785    0.0636    0.0785\n",
      "    0.0000   -0.0000   -0.0000    0.0000    0.0059   -0.0081   -0.0059\n",
      "    0.0000    0.0000   -0.0000    0.0000   -0.0059    0.0022    0.0059\n",
      "    0.0000   -0.0000   -0.0000    0.0000    0.0059   -0.0081   -0.0059\n",
      "    0.0923    0.0923    0.0923    0.0923    0.0928    0.0928    0.0928\n",
      "\n",
      "  Columns 36 through 42\n",
      "\n",
      "    0.0933    0.0636    0.0636    0.0933    0.0933    0.0636    0.0636\n",
      "    0.0086    0.0086    0.0086   -0.0086   -0.0086   -0.0086   -0.0086\n",
      "   -0.0022    0.0081   -0.0081    0.0022   -0.0022   -0.0081    0.0081\n",
      "    0.0086    0.0086    0.0086   -0.0086   -0.0086   -0.0086   -0.0086\n",
      "    0.0636    0.0933    0.0933    0.0636    0.0636    0.0933    0.0933\n",
      "    0.0081   -0.0022    0.0022    0.0081   -0.0081   -0.0022    0.0022\n",
      "   -0.0022    0.0081   -0.0081    0.0022   -0.0022   -0.0081    0.0081\n",
      "    0.0081   -0.0022    0.0022    0.0081   -0.0081   -0.0022    0.0022\n",
      "    0.0928    0.0928    0.0928    0.0928    0.0928    0.0928    0.0928\n",
      "\n",
      "  Columns 43 through 49\n",
      "\n",
      "    0.0785    0.0785    0.1017    0.0807    0.1123    0.0702    0.1017\n",
      "   -0.0171   -0.0171    0.0182    0.0182   -0.0000    0.0000   -0.0182\n",
      "   -0.0059    0.0059   -0.0000   -0.0000    0.0000   -0.0000    0.0000\n",
      "   -0.0171   -0.0171    0.0182    0.0182   -0.0000    0.0000   -0.0182\n",
      "    0.0785    0.0785    0.0807    0.1017    0.0702    0.1123    0.0807\n",
      "   -0.0059    0.0059    0.0000    0.0000    0.0000   -0.0000   -0.0000\n",
      "   -0.0059    0.0059   -0.0000   -0.0000    0.0000   -0.0000    0.0000\n",
      "   -0.0059    0.0059    0.0000    0.0000    0.0000   -0.0000   -0.0000\n",
      "    0.0928    0.0928    0.1117    0.1117    0.1117    0.1117    0.1117\n",
      "\n",
      "  Column 50\n",
      "\n",
      "    0.0807\n",
      "   -0.0182\n",
      "    0.0000\n",
      "   -0.0182\n",
      "    0.1017\n",
      "   -0.0000\n",
      "    0.0000\n",
      "   -0.0000\n",
      "    0.1117\n"
     ]
    }
   ],
   "source": [
    "thermalexpansion"
   ]
  },
  {
   "cell_type": "code",
   "execution_count": 4,
   "metadata": {},
   "outputs": [
    {
     "name": "stdout",
     "output_type": "stream",
     "text": [
      "odf1 =\n",
      "\n",
      "  Columns 1 through 7\n",
      "\n",
      "         0   40.4140         0         0         0         0         0\n",
      "\n",
      "  Columns 8 through 14\n",
      "\n",
      "         0         0         0         0         0         0         0\n",
      "\n",
      "  Columns 15 through 21\n",
      "\n",
      "         0         0         0         0         0         0         0\n",
      "\n",
      "  Columns 22 through 28\n",
      "\n",
      "         0         0         0         0         0         0         0\n",
      "\n",
      "  Columns 29 through 35\n",
      "\n",
      "         0         0         0         0         0    0.0171         0\n",
      "\n",
      "  Columns 36 through 42\n",
      "\n",
      "         0         0         0         0         0         0         0\n",
      "\n",
      "  Columns 43 through 49\n",
      "\n",
      "         0         0         0         0         0         0         0\n",
      "\n",
      "  Column 50\n",
      "\n",
      "         0\n"
     ]
    }
   ],
   "source": [
    "odf1 = maximum.odf"
   ]
  },
  {
   "cell_type": "code",
   "execution_count": 9,
   "metadata": {},
   "outputs": [
    {
     "name": "stdout",
     "output_type": "stream",
     "text": [
      "2.9866e-05\n",
      "531.9714\n",
      "269.9957\n",
      "\n",
      "opt =\n",
      "\n",
      "  -2.9866e-05\n"
     ]
    }
   ],
   "source": [
    "alpha = reshape(thermalexpansion*odf1',3,3); % thermal expansion tensor\n",
    "alphaxx = alpha(1,1);\n",
    "opt = alphaxx;\n",
    "if C11<161 ||C12<75\n",
    "    opt = 10000;\n",
    "end\n",
    "println(opt)\n",
    "println(C11)\n",
    "println(C12)\n",
    "opt = -opt"
   ]
  },
  {
   "cell_type": "code",
   "execution_count": 11,
   "metadata": {
    "collapsed": true
   },
   "outputs": [],
   "source": [
    "constraint = [ 0.03153236,  0.08391342,  0.02473832,  0.02473832,  0.02473832,\n",
    "          0.02473832,  0.02473832,  0.02473832,  0.02473832,  0.02473832,\n",
    "          0.02473832,  0.02473832,  0.02473832,  0.02473832,  0.01320576,\n",
    "          0.01320576,  0.01320576,  0.01320576,  0.01320576,  0.01320576,\n",
    "          0.01320576,  0.01320576,  0.01320576,  0.01320576,  0.01320576,\n",
    "          0.01320576,  0.00985683,  0.00985683,  0.00985683,  0.00985683,\n",
    "          0.00985683,  0.00985683,  0.01016979,  0.01016979,  0.01016979,\n",
    "          0.01016979,  0.01016979,  0.01016979,  0.01016979,  0.01016979,\n",
    "          0.01016979,  0.01016979,  0.01016979,  0.01016979,  0.01197505,\n",
    "          0.01197505,  0.01197505,  0.01197505,  0.01197505,  0.01197505];\n",
    "  odfDim = size(constraint,1)*size(constraint,2);\n",
    "  remainFac = 1:1:odfDim-1;\n",
    "  setFac = zeros(1,odfDim-1);\n",
    "  thsd = 1;\n",
    "\n",
    "  outerLp = 1;\n",
    "while isempty(remainFac) == 0\n",
    "\n",
    "      if length(remainFac) < 5\n",
    "          r = 1;\n",
    "      else\n",
    "          r = 5;\n",
    "      end\n",
    "\n",
    "      randDraw = randsample(length(remainFac),r);\n",
    "      randFac = remainFac(randDraw);\n",
    "      remainFac(randDraw) = [];\n",
    "\n",
    "      randFacRand = rand(1,r).*thsd;\n",
    "\n",
    "      innerLp(outerLp) = 1;\n",
    "      while sum(randFacRand) > thsd\n",
    "          randFacRand = rand(1,r).*thsd;\n",
    "          innerLp(outerLp) = innerLp(outerLp) + 1;\n",
    "      end\n",
    "\n",
    "      thVector(outerLp) = thsd;\n",
    "\n",
    "      thsd = thsd - sum(randFacRand);\n",
    "\n",
    "      setFac(randFac) = randFacRand./constraint(randFac);\n",
    "\n",
    "      outerLp = outerLp + 1;\n",
    "  end\n",
    "  odf = [setFac,thsd/constraint(end)];"
   ]
  },
  {
   "cell_type": "code",
   "execution_count": 12,
   "metadata": {},
   "outputs": [
    {
     "name": "stdout",
     "output_type": "stream",
     "text": [
      "odf =\n",
      "\n",
      "  Columns 1 through 7\n",
      "\n",
      "    2.4938   12.1432    0.0000    0.0001    0.0228    1.7584    0.6524\n",
      "\n",
      "  Columns 8 through 14\n",
      "\n",
      "    0.0003    0.0000    0.0000    0.0000    0.0000    0.8228    0.0002\n",
      "\n",
      "  Columns 15 through 21\n",
      "\n",
      "    0.3984    0.0000    0.0427    0.0002    0.1471    0.0000    0.0013\n",
      "\n",
      "  Columns 22 through 28\n",
      "\n",
      "    0.0000    0.0000    0.0000    0.0000    0.0000    0.0000    0.0000\n",
      "\n",
      "  Columns 29 through 35\n",
      "\n",
      "    0.0000    0.0000    0.0000    1.3989    0.0610    0.0000    0.0000\n",
      "\n",
      "  Columns 36 through 42\n",
      "\n",
      "    0.0000   17.3174    0.0457    0.0000    0.0000    0.0000    1.3493\n",
      "\n",
      "  Columns 43 through 49\n",
      "\n",
      "    0.0142    0.5263    0.6014    0.0000    0.0055   29.7185    0.0000\n",
      "\n",
      "  Column 50\n",
      "\n",
      "    0.0000\n"
     ]
    }
   ],
   "source": [
    "odf"
   ]
  },
  {
   "cell_type": "code",
   "execution_count": 4,
   "metadata": {
    "collapsed": true
   },
   "outputs": [],
   "source": [
    "  constraint = [ 0.03153236,  0.08391342,  0.02473832,  0.02473832,  0.02473832,\n",
    "          0.02473832,  0.02473832,  0.02473832,  0.02473832,  0.02473832,\n",
    "          0.02473832,  0.02473832,  0.02473832,  0.02473832,  0.01320576,\n",
    "          0.01320576,  0.01320576,  0.01320576,  0.01320576,  0.01320576,\n",
    "          0.01320576,  0.01320576,  0.01320576,  0.01320576,  0.01320576,\n",
    "          0.01320576,  0.00985683,  0.00985683,  0.00985683,  0.00985683,\n",
    "          0.00985683,  0.00985683,  0.01016979,  0.01016979,  0.01016979,\n",
    "          0.01016979,  0.01016979,  0.01016979,  0.01016979,  0.01016979,\n",
    "          0.01016979,  0.01016979,  0.01016979,  0.01016979,  0.01197505,\n",
    "          0.01197505,  0.01197505,  0.01197505,  0.01197505,  0.01197505]; "
   ]
  },
  {
   "cell_type": "code",
   "execution_count": 9,
   "metadata": {},
   "outputs": [
    {
     "name": "stdout",
     "output_type": "stream",
     "text": [
      "ans =\n",
      "\n",
      "    50\n"
     ]
    }
   ],
   "source": [
    "size(constraint,1)*size(constraint,2)"
   ]
  },
  {
   "cell_type": "code",
   "execution_count": 8,
   "metadata": {},
   "outputs": [
    {
     "name": "stdout",
     "output_type": "stream",
     "text": [
      "ans =\n",
      "\n",
      "  Columns 1 through 7\n",
      "\n",
      "         0         0         0         0         0         0         0\n",
      "\n",
      "  Columns 8 through 14\n",
      "\n",
      "         0         0         0         0         0         0         0\n",
      "\n",
      "  Columns 15 through 21\n",
      "\n",
      "         0         0         0         0         0         0         0\n",
      "\n",
      "  Columns 22 through 28\n",
      "\n",
      "         0         0         0   35.4283         0         0         0\n",
      "\n",
      "  Columns 29 through 35\n",
      "\n",
      "         0         0         0         0         0         0         0\n",
      "\n",
      "  Columns 36 through 42\n",
      "\n",
      "         0         0         0         0         0         0         0\n",
      "\n",
      "  Columns 43 through 49\n",
      "\n",
      "         0         0         0   53.9872         0         0         0\n",
      "\n",
      "  Columns 50 through 51\n",
      "\n",
      "         0    0.0000\n"
     ]
    }
   ],
   "source": [
    "mat = load('Data/data_SmallPartition2_50000.mat');\n",
    "mat.odfs(1,:)"
   ]
  },
  {
   "cell_type": "code",
   "execution_count": 2,
   "metadata": {
    "collapsed": true
   },
   "outputs": [],
   "source": [
    "maximum = load('betterSol.mat');"
   ]
  },
  {
   "cell_type": "code",
   "execution_count": 3,
   "metadata": {},
   "outputs": [
    {
     "name": "stdout",
     "output_type": "stream",
     "text": [
      "ans =\n",
      "\n",
      "  Columns 1 through 7\n",
      "\n",
      "   15.9390         0         0         0         0         0         0\n",
      "\n",
      "  Columns 8 through 14\n",
      "\n",
      "         0         0         0         0         0         0         0\n",
      "\n",
      "  Columns 15 through 21\n",
      "\n",
      "         0         0         0         0         0         0         0\n",
      "\n",
      "  Columns 22 through 28\n",
      "\n",
      "         0         0         0         0         0         0         0\n",
      "\n",
      "  Columns 29 through 35\n",
      "\n",
      "         0   50.4631         0         0         0         0         0\n",
      "\n",
      "  Columns 36 through 42\n",
      "\n",
      "         0         0         0         0         0         0         0\n",
      "\n",
      "  Columns 43 through 49\n",
      "\n",
      "         0         0         0         0         0         0         0\n",
      "\n",
      "  Column 50\n",
      "\n",
      "         0\n"
     ]
    }
   ],
   "source": [
    "maximum.odf"
   ]
  },
  {
   "cell_type": "code",
   "execution_count": 1,
   "metadata": {
    "collapsed": true
   },
   "outputs": [],
   "source": [
    "load alphatitaniumsmall"
   ]
  },
  {
   "cell_type": "code",
   "execution_count": 16,
   "metadata": {},
   "outputs": [
    {
     "name": "stderr",
     "output_type": "stream",
     "text": [
      "\u001b[0;31mReference to non-existent field 'c11'.\n",
      "\u001b[0m"
     ]
    }
   ],
   "source": [
    "x = load('alphatitaniumsmall.mat');\n",
    "x.c11"
   ]
  },
  {
   "cell_type": "code",
   "execution_count": 83,
   "metadata": {
    "collapsed": true
   },
   "outputs": [],
   "source": [
    "x = load('morethanLP.mat');"
   ]
  },
  {
   "cell_type": "code",
   "execution_count": 90,
   "metadata": {
    "collapsed": true
   },
   "outputs": [],
   "source": [
    "LP = load('odf_LP.mat');"
   ]
  },
  {
   "cell_type": "code",
   "execution_count": 104,
   "metadata": {},
   "outputs": [
    {
     "name": "stdout",
     "output_type": "stream",
     "text": [
      "alpha =\n",
      "\n",
      "   1.0e-05 *\n",
      "\n",
      "    0.8180    0.0005    0.0000\n",
      "    0.0005    0.8334    0.0000\n",
      "    0.0000    0.0000    0.8047\n"
     ]
    }
   ],
   "source": [
    "alpha = reshape(thermalexpansion*LP.odf,3,3)"
   ]
  },
  {
   "cell_type": "code",
   "execution_count": 103,
   "metadata": {},
   "outputs": [
    {
     "name": "stdout",
     "output_type": "stream",
     "text": [
      "ans =\n",
      "\n",
      "   8.2740e-06\n"
     ]
    }
   ],
   "source": [
    "alpha(1,1)"
   ]
  },
  {
   "cell_type": "code",
   "execution_count": 89,
   "metadata": {},
   "outputs": [
    {
     "name": "stdout",
     "output_type": "stream",
     "text": [
      "ans =\n",
      "\n",
      "  Columns 1 through 7\n",
      "\n",
      "    4.9713    0.6409         0    1.4068         0    1.0799    1.4821\n",
      "\n",
      "  Columns 8 through 14\n",
      "\n",
      "         0         0    4.0763         0         0         0    0.9486\n",
      "\n",
      "  Columns 15 through 21\n",
      "\n",
      "         0         0         0         0   11.6876         0         0\n",
      "\n",
      "  Columns 22 through 28\n",
      "\n",
      "         0    3.5699    7.5641         0         0         0         0\n",
      "\n",
      "  Columns 29 through 35\n",
      "\n",
      "         0         0         0    6.1156         0         0         0\n",
      "\n",
      "  Columns 36 through 42\n",
      "\n",
      "         0    4.4249    5.5568         0         0         0   10.1806\n",
      "\n",
      "  Columns 43 through 49\n",
      "\n",
      "         0         0         0         0         0         0    0.0225\n",
      "\n",
      "  Column 50\n",
      "\n",
      "         0\n"
     ]
    }
   ],
   "source": [
    "x.odf"
   ]
  },
  {
   "cell_type": "code",
   "execution_count": 5,
   "metadata": {},
   "outputs": [
    {
     "name": "stdout",
     "output_type": "stream",
     "text": [
      "C =\n",
      "\n",
      "  167.7794   75.0425   69.3790   -0.0000    0.0000   -0.0000\n",
      "   75.0425  154.8312   77.6487   -0.0000   -0.0000   -0.0000\n",
      "   69.3790   77.6487  163.9781   -0.0000    0.0000    0.0000\n",
      "   -0.0000   -0.0000   -0.0000   40.6622   -0.0000    0.0000\n",
      "   -0.0000   -0.0000    0.0000   -0.0000   46.6555   -0.0000\n",
      "   -0.0000   -0.0000    0.0000    0.0000   -0.0000   41.6996\n"
     ]
    }
   ],
   "source": [
    "C = reshape(stiffness*maximum.odf',6,6)"
   ]
  },
  {
   "cell_type": "code",
   "execution_count": 6,
   "metadata": {},
   "outputs": [
    {
     "name": "stdout",
     "output_type": "stream",
     "text": [
      "ans =\n",
      "\n",
      "  167.7794\n",
      "\n",
      "\n",
      "ans =\n",
      "\n",
      "   75.0425\n"
     ]
    }
   ],
   "source": [
    "C(1,1),C(1,2)\n"
   ]
  },
  {
   "cell_type": "code",
   "execution_count": 88,
   "metadata": {},
   "outputs": [
    {
     "name": "stdout",
     "output_type": "stream",
     "text": [
      "ans =\n",
      "\n",
      "     1\n"
     ]
    }
   ],
   "source": [
    "sum(x.odf.*volumefraction)"
   ]
  },
  {
   "cell_type": "code",
   "execution_count": 14,
   "metadata": {},
   "outputs": [
    {
     "name": "stdout",
     "output_type": "stream",
     "text": [
      "C =\n",
      "\n",
      "  183.5631   82.9671   88.5836    2.7986    1.1372   -0.9082\n",
      "   82.9671  190.5425   84.1662   -2.5182   -1.4997   -0.5737\n",
      "   88.5836   84.1662  181.5218   -2.0695    1.2460    0.8856\n",
      "    2.7986   -2.5182   -2.0695   50.3526   -0.9322    1.1936\n",
      "    1.1372   -1.4997    1.2460   -0.9322   46.9598   -2.6554\n",
      "   -0.9082   -0.5737    0.8856    1.1936   -2.6554   51.7213\n"
     ]
    }
   ],
   "source": [
    "C = reshape(stiffness*odf',6,6)"
   ]
  },
  {
   "cell_type": "code",
   "execution_count": 15,
   "metadata": {},
   "outputs": [
    {
     "name": "stderr",
     "output_type": "stream",
     "text": [
      "\u001b[0;31mUndefined function or variable 'p'.\n",
      "\u001b[0m"
     ]
    }
   ],
   "source": [
    "C11(p) = C(1,1)"
   ]
  },
  {
   "cell_type": "code",
   "execution_count": 3,
   "metadata": {
    "collapsed": true
   },
   "outputs": [],
   "source": [
    "odfDim = 50;\n",
    "setFac = zeros(1,odfDim-1);"
   ]
  },
  {
   "cell_type": "code",
   "execution_count": 5,
   "metadata": {
    "collapsed": true
   },
   "outputs": [],
   "source": [
    "A = rand(2,2,2);"
   ]
  },
  {
   "cell_type": "code",
   "execution_count": 15,
   "metadata": {},
   "outputs": [
    {
     "name": "stdout",
     "output_type": "stream",
     "text": [
      "remainFac =\n",
      "\n",
      "  Columns 1 through 13\n",
      "\n",
      "     1     2     3     4     5     6     7     8     9    10    11    12    13\n",
      "\n",
      "  Columns 14 through 26\n",
      "\n",
      "    14    15    16    17    18    19    20    21    22    23    24    25    26\n",
      "\n",
      "  Columns 27 through 39\n",
      "\n",
      "    27    28    29    30    31    32    33    34    35    36    37    38    39\n",
      "\n",
      "  Columns 40 through 49\n",
      "\n",
      "    40    41    42    43    44    45    46    47    48    49\n"
     ]
    }
   ],
   "source": [
    "remainFac = 1:1:odfDim-1"
   ]
  },
  {
   "cell_type": "code",
   "execution_count": 16,
   "metadata": {},
   "outputs": [
    {
     "name": "stdout",
     "output_type": "stream",
     "text": [
      "ans =\n",
      "\n",
      "  logical\n",
      "\n",
      "   0\n"
     ]
    }
   ],
   "source": [
    "randDraw = randint(0,length(remainFac),5)"
   ]
  },
  {
   "cell_type": "code",
   "execution_count": 6,
   "metadata": {},
   "outputs": [
    {
     "name": "stdout",
     "output_type": "stream",
     "text": [
      "ans =\n",
      "\n",
      "  logical\n",
      "\n",
      "   0\n"
     ]
    }
   ],
   "source": [
    "isempty(A)"
   ]
  },
  {
   "cell_type": "code",
   "execution_count": 13,
   "metadata": {},
   "outputs": [
    {
     "name": "stdout",
     "output_type": "stream",
     "text": [
      "ans =\n",
      "\n",
      "  logical\n",
      "\n",
      "   0\n"
     ]
    }
   ],
   "source": [
    "isempty([0,0,0])"
   ]
  },
  {
   "cell_type": "code",
   "execution_count": 11,
   "metadata": {},
   "outputs": [
    {
     "name": "stdout",
     "output_type": "stream",
     "text": [
      "ans =\n",
      "\n",
      "  logical\n",
      "\n",
      "   0\n"
     ]
    }
   ],
   "source": [
    "isempty(setFac)"
   ]
  },
  {
   "cell_type": "code",
   "execution_count": 17,
   "metadata": {},
   "outputs": [
    {
     "name": "stdout",
     "output_type": "stream",
     "text": [
      "ans =\n",
      "\n",
      "     3\n",
      "     5\n",
      "     1\n"
     ]
    }
   ],
   "source": [
    "randsample(5,3)"
   ]
  },
  {
   "cell_type": "code",
   "execution_count": 73,
   "metadata": {
    "collapsed": true
   },
   "outputs": [],
   "source": [
    "constraint = [ 0.03153236,  0.08391342,  0.02473832,  0.02473832,  0.02473832,\n",
    "        0.02473832,  0.02473832,  0.02473832,  0.02473832,  0.02473832,\n",
    "        0.02473832,  0.02473832,  0.02473832,  0.02473832,  0.01320576,\n",
    "        0.01320576,  0.01320576,  0.01320576,  0.01320576,  0.01320576,\n",
    "        0.01320576,  0.01320576,  0.01320576,  0.01320576,  0.01320576,\n",
    "        0.01320576,  0.00985683,  0.00985683,  0.00985683,  0.00985683,\n",
    "        0.00985683,  0.00985683,  0.01016979,  0.01016979,  0.01016979,\n",
    "        0.01016979,  0.01016979,  0.01016979,  0.01016979,  0.01016979,\n",
    "        0.01016979,  0.01016979,  0.01016979,  0.01016979,  0.01197505,\n",
    "        0.01197505,  0.01197505,  0.01197505,  0.01197505,  0.01197505];"
   ]
  },
  {
   "cell_type": "code",
   "execution_count": 50,
   "metadata": {
    "collapsed": true
   },
   "outputs": [],
   "source": [
    "\n",
    "  sat = 0; count = 0;\n",
    "  propFunc = @alpha_Ti;\n",
    "  odfs = [];\n",
    "  Data = [];\n",
    "  notSat = [];"
   ]
  },
  {
   "cell_type": "code",
   "execution_count": 75,
   "metadata": {
    "collapsed": true
   },
   "outputs": [],
   "source": [
    "constraint = volumefraction;"
   ]
  },
  {
   "cell_type": "code",
   "execution_count": 79,
   "metadata": {},
   "outputs": [
    {
     "name": "stdout",
     "output_type": "stream",
     "text": [
      "thsd1\n",
      "thsd0.13708\n",
      "thsd0.0056361\n",
      "thsd0.00046161\n",
      "thsd2.4657e-06\n",
      "thsd1.2773e-07\n",
      "thsd1.401e-08\n",
      "thsd3.1625e-09\n",
      "thsd1.077e-09\n",
      "thsd1.0603e-10\n",
      "thsd1.7252e-11\n",
      "thsd7.7417e-12\n",
      "thsd3.5257e-12\n",
      "10000\n",
      "165.5304\n",
      "73.3171\n",
      "\n",
      "opt =\n",
      "\n",
      "      -10000\n",
      "\n",
      "3.24754     0.341713  1.70421e-10  9.50495e-09  1.12818e-07  7.88285e-09  4.03288e-09  2.33765e-05  3.78619e-08  3.58874e-09    0.0375258   0.00203289  1.15565e-05      1.89354     0.756061      19.8302  4.37747e-06     0.686173   8.5469e-05  3.03893e-08  8.24683e-09   0.00891119  9.12008e-08  4.15132e-08  2.32064e-09     0.360989    0.0607442      43.9101  2.86209e-06  4.89065e-06     0.184918  6.92876e-07  2.74252e-10  1.46733e-06   1.8161e-08    0.0104715    0.0116107     0.514281  6.00952e-08  2.91976e-05      9.11663     0.014733  9.35163e-10     0.168958  2.23687e-07  3.02703e-07   2.1148e-08  4.97131e-07   0.00194302  6.15165e-11\n",
      "Sum is1\n"
     ]
    }
   ],
   "source": [
    "\n",
    "  data_RandEvery5 = [];\n",
    "  odfDim = 50;\n",
    "  FACTOR = 5;\n",
    "  remainFac = 1:1:odfDim-1;\n",
    "  setFac = zeros(1,odfDim-1);\n",
    "  thsd = 1;\n",
    "\n",
    "  outerLp = 1;\n",
    "  while isempty(remainFac) == 0\n",
    "\n",
    "        if length(remainFac) < FACTOR\n",
    "            println('thsd',thsd)\n",
    "            r = 1;\n",
    "        else\n",
    "            println('thsd',thsd)\n",
    "            r = FACTOR;\n",
    "        end\n",
    "\n",
    "        randDraw = randsample(length(remainFac),r);\n",
    "        randFac = remainFac(randDraw); %This is the remaining fraction of the\n",
    "        remainFac(randDraw) = [];\n",
    "\n",
    "        randFacRand = rand(1,r).*thsd;\n",
    "\n",
    "        innerLp(outerLp) = 1;\n",
    "\n",
    "        while sum(randFacRand) > thsd\n",
    "            randFacRand = rand(1,r).*thsd; %This is the\n",
    "            innerLp(outerLp) = innerLp(outerLp) + 1;\n",
    "        end\n",
    "\n",
    "        thVector(outerLp) = thsd;\n",
    "\n",
    "        thsd = thsd - sum(randFacRand); %thsd is the remainder after removing the\n",
    "\n",
    "        setFac(randFac) = randFacRand./constraint(randFac);\n",
    "\n",
    "        outerLp = outerLp + 1;\n",
    "    end\n",
    "\n",
    "      odf = [setFac,thsd/constraint(end)];\n",
    "      if (odf>=0) == true(1,length(odf))\n",
    "          [val,C11,C12] = propFunc(odf);\n",
    "          println(odf);\n",
    "          if val == -10000;\n",
    "              count = count + 1;\n",
    "              notSat = [notSat;odf,C11,C12,-val];\n",
    "            else\n",
    "    \t        sat = sat + 1;\n",
    "    \t         disp(strcat('row',num2str(sat),'satisfied....'));\n",
    "               println(C11,'      ',C12,'       ',val);\n",
    "    \t          odfs = [odfs;odf,-val];\n",
    "                Data = [Data;odf,C11,C12,-val];\n",
    "            end\n",
    "        println('Sum is ', sum(odf.*volumefraction));\n",
    "        end"
   ]
  },
  {
   "cell_type": "code",
   "execution_count": 40,
   "metadata": {},
   "outputs": [
    {
     "name": "stdout",
     "output_type": "stream",
     "text": [
      "volumefraction =\n",
      "\n",
      "  Columns 1 through 7\n",
      "\n",
      "    0.0315    0.0839    0.0247    0.0247    0.0247    0.0247    0.0247\n",
      "\n",
      "  Columns 8 through 14\n",
      "\n",
      "    0.0247    0.0247    0.0247    0.0247    0.0247    0.0247    0.0247\n",
      "\n",
      "  Columns 15 through 21\n",
      "\n",
      "    0.0132    0.0132    0.0132    0.0132    0.0132    0.0132    0.0132\n",
      "\n",
      "  Columns 22 through 28\n",
      "\n",
      "    0.0132    0.0132    0.0132    0.0132    0.0132    0.0099    0.0099\n",
      "\n",
      "  Columns 29 through 35\n",
      "\n",
      "    0.0099    0.0099    0.0099    0.0099    0.0102    0.0102    0.0102\n",
      "\n",
      "  Columns 36 through 42\n",
      "\n",
      "    0.0102    0.0102    0.0102    0.0102    0.0102    0.0102    0.0102\n",
      "\n",
      "  Columns 43 through 49\n",
      "\n",
      "    0.0102    0.0102    0.0120    0.0120    0.0120    0.0120    0.0120\n",
      "\n",
      "  Column 50\n",
      "\n",
      "    0.0120\n"
     ]
    }
   ],
   "source": [
    "volumefraction"
   ]
  },
  {
   "cell_type": "code",
   "execution_count": 53,
   "metadata": {
    "collapsed": true
   },
   "outputs": [],
   "source": [
    "x = odf.*volumefraction;\n"
   ]
  },
  {
   "cell_type": "code",
   "execution_count": 82,
   "metadata": {},
   "outputs": [
    {
     "name": "stdout",
     "output_type": "stream",
     "text": [
      "10000\n",
      "243.7699\n",
      "117.2746\n",
      "\n",
      "opt =\n",
      "\n",
      "      -10000\n",
      "\n",
      "all invalid\n",
      "0\n",
      "Elapsed time is 0.006856 seconds.\n",
      "Invalid1\n",
      "Sum is1\n",
      "0.0071848\n"
     ]
    }
   ],
   "source": [
    "counter = [];\n",
    "odfs = [];\n",
    "Data = [];\n",
    "count = 0;  odfDim = 50;\n",
    "randsize=1;num=2;\n",
    "load alphatitaniumsmall;\n",
    "constraint = volumefraction;\n",
    "tic\n",
    "% 1 partition - odfDim outcomes 50 for Titanium, 76 for Galfenol\n",
    "if num == 1\n",
    "\tfor i = 1:odfDimq\n",
    "        odf_1 = zeros(1,odfDim);\n",
    "        odf_1(i) = 1./constraint(i);\n",
    "        odf = odf_1(i)\n",
    "        [val,C11,C12] = alpha_Ti(odf_1);\n",
    "        if val == -10000\n",
    "            count = count + 1;\n",
    "        else\n",
    "        odfs = [odfs;odf_1,-val];\n",
    "        Data = [Data;odf_1,val,C11,C12,-val];\n",
    "\n",
    "        end\n",
    "\tend\n",
    "\n",
    "else\n",
    "\n",
    "\t[odfarray,dataarray,invalid] = randSmallPartition(num,randsize,@alpha_Ti);\n",
    "  println(length(odfarray)) ;\n",
    "\todfs = [odfs;odfarray];\n",
    "\tData = [Data;dataarray];\n",
    "end\n",
    "toc\n",
    "t = toc;\n",
    "t_Y_RkI = t;\n",
    "println('Invalid',invalid);\n",
    "println('Sum is ', sum(odf.*volumefraction));\n",
    "println(t);"
   ]
  },
  {
   "cell_type": "code",
   "execution_count": 15,
   "metadata": {
    "collapsed": true
   },
   "outputs": [],
   "source": [
    "A = 'C11';\n",
    "A = 'alpha';"
   ]
  },
  {
   "cell_type": "code",
   "execution_count": 16,
   "metadata": {},
   "outputs": [
    {
     "name": "stdout",
     "output_type": "stream",
     "text": [
      "alpha\n"
     ]
    }
   ],
   "source": [
    "if strcmp(A,'alpha')\n",
    "    println('alpha');\n",
    "else\n",
    "    println('C11')\n",
    "end;"
   ]
  },
  {
   "cell_type": "code",
   "execution_count": 20,
   "metadata": {},
   "outputs": [
    {
     "name": "stdout",
     "output_type": "stream",
     "text": [
      "YieldStress =\n",
      "\n",
      "  242.7970\n"
     ]
    }
   ],
   "source": [
    "load linprog849_compliance_node\n",
    "compliance = propmat(1:36,:);\n",
    "volumefraction = propmat(end,:);\n",
    "\n",
    "n = 388; %number of independent nodes\n",
    "odf = zeros(n,1);\n",
    "\n",
    "p = 2;\n",
    "odf(p) = 1./volumefraction(1,p);\n",
    "S = reshape(compliance*odf,6,6);\n",
    "S11 = S(1,1);\n",
    "S22 = S(2,2);\n",
    "YieldStress = yield*odf"
   ]
  },
  {
   "cell_type": "code",
   "execution_count": 7,
   "metadata": {},
   "outputs": [
    {
     "name": "stdout",
     "output_type": "stream",
     "text": [
      "ans =\n",
      "\n",
      "     1   388\n"
     ]
    }
   ],
   "source": [
    "size(propmat)"
   ]
  },
  {
   "cell_type": "code",
   "execution_count": 10,
   "metadata": {},
   "outputs": [
    {
     "name": "stdout",
     "output_type": "stream",
     "text": [
      "a =\n",
      "\n",
      "     1     2     3     4     9     1     6     5     3     0\n"
     ]
    }
   ],
   "source": [
    "a = [1 2 3 4 9 1 6 5 3 0]"
   ]
  },
  {
   "cell_type": "code",
   "execution_count": 25,
   "metadata": {},
   "outputs": [
    {
     "name": "stdout",
     "output_type": "stream",
     "text": [
      "ans =\n",
      "\n",
      "    37   388\n"
     ]
    }
   ],
   "source": [
    "size(propmat)"
   ]
  },
  {
   "cell_type": "code",
   "execution_count": 26,
   "metadata": {},
   "outputs": [
    {
     "name": "stdout",
     "output_type": "stream",
     "text": [
      "ans =\n",
      "\n",
      "    36   388\n",
      "\n",
      "\n",
      "ans =\n",
      "\n",
      "     1   388\n"
     ]
    }
   ],
   "source": [
    "size(compliance), size(volumefraction)"
   ]
  },
  {
   "cell_type": "code",
   "execution_count": 1,
   "metadata": {},
   "outputs": [
    {
     "name": "stdout",
     "output_type": "stream",
     "text": [
      "\n",
      "data = \n",
      "\n",
      "  struct with fields:\n",
      "\n",
      "      volumefraction: [1�388 double]\n",
      "           stiffness: [36�388 double]\n",
      "    thermalexpansion: [9�388 double]\n",
      "\n"
     ]
    }
   ],
   "source": [
    "data = load('alphatitaniummedium.mat')\n"
   ]
  },
  {
   "cell_type": "code",
   "execution_count": 2,
   "metadata": {
    "collapsed": true
   },
   "outputs": [],
   "source": [
    "stiffness = data.stiffness;\n",
    "volumefraction = data.volumefraction;"
   ]
  },
  {
   "cell_type": "code",
   "execution_count": 9,
   "metadata": {
    "collapsed": true
   },
   "outputs": [],
   "source": [
    "odfDat = load('testYieldUpper.mat');\n",
    "Odf = odfDat.odf';\n"
   ]
  },
  {
   "cell_type": "code",
   "execution_count": 23,
   "metadata": {
    "collapsed": true
   },
   "outputs": [],
   "source": [
    "complianceFile = load('linprog849_compliance_node.mat');"
   ]
  },
  {
   "cell_type": "code",
   "execution_count": 24,
   "metadata": {
    "collapsed": true
   },
   "outputs": [],
   "source": [
    "vf = complianceFile.propmat(end,:);"
   ]
  },
  {
   "cell_type": "code",
   "execution_count": 25,
   "metadata": {},
   "outputs": [
    {
     "name": "stdout",
     "output_type": "stream",
     "text": [
      "\n",
      "ans =\n",
      "\n",
      "   388     1\n",
      "\n",
      "\n",
      "ans =\n",
      "\n",
      "    36   388\n",
      "\n",
      "\n",
      "ans =\n",
      "\n",
      "     1   388\n",
      "\n",
      "\n",
      "ans =\n",
      "\n",
      "     1   388\n",
      "\n"
     ]
    }
   ],
   "source": [
    "size(Odf), size(stiffness),size(volumefraction),size(vf)"
   ]
  },
  {
   "cell_type": "code",
   "execution_count": 16,
   "metadata": {
    "collapsed": true
   },
   "outputs": [],
   "source": [
    "C= reshape(stiffness*Odf,6,6);\n"
   ]
  },
  {
   "cell_type": "code",
   "execution_count": 18,
   "metadata": {
    "collapsed": true
   },
   "outputs": [],
   "source": [
    "S11 = S(1,1);\n",
    "S22 = S(2,2);"
   ]
  },
  {
   "cell_type": "code",
   "execution_count": 17,
   "metadata": {
    "collapsed": true
   },
   "outputs": [],
   "source": [
    "S = inv(C);"
   ]
  },
  {
   "cell_type": "code",
   "execution_count": 19,
   "metadata": {},
   "outputs": [
    {
     "name": "stdout",
     "output_type": "stream",
     "text": [
      "\n",
      "S11 =\n",
      "\n",
      "    0.0078\n",
      "\n"
     ]
    }
   ],
   "source": [
    "S11"
   ]
  },
  {
   "cell_type": "code",
   "execution_count": 3,
   "metadata": {},
   "outputs": [
    {
     "name": "stdout",
     "output_type": "stream",
     "text": [
      "\n",
      "population =\n",
      "\n",
      "  Columns 1 through 13\n",
      "\n",
      "   385   372   315   246   374    42   313   317   196   334   337   369   371\n",
      "\n",
      "  Columns 14 through 26\n",
      "\n",
      "   384     3   257   264   266   139   142   272   147   153   324    27   157\n",
      "\n",
      "  Columns 27 through 39\n",
      "\n",
      "    32   161   163    38   295   305   310   314   194   182   225   177   332\n",
      "\n",
      "  Columns 40 through 52\n",
      "\n",
      "   339   340   214   343    91   350   351   224   367   108   365   381   368\n",
      "\n",
      "  Columns 53 through 54\n",
      "\n",
      "   125   255\n",
      "\n"
     ]
    }
   ],
   "source": [
    "population = [385, 372, 315, 246, 374,  42, 313, 317, 196, 334, 337, 369, 371,384,   3, 257, 264, 266, 139, 142, 272, 147, 153, 324,  27, 157,32, 161, 163,  38, 295, 305, 310, 314, 194, 182, 225, 177, 332,339, 340, 214, 343,  91, 350, 351, 224, 367, 108, 365, 381, 368,125, 255]"
   ]
  },
  {
   "cell_type": "code",
   "execution_count": 7,
   "metadata": {
    "collapsed": true
   },
   "outputs": [],
   "source": [
    "save('populationYield_nonLinear.mat','population')"
   ]
  },
  {
   "cell_type": "code",
   "execution_count": 9,
   "metadata": {},
   "outputs": [
    {
     "name": "stdout",
     "output_type": "stream",
     "text": [
      "\n",
      "odfDim =\n",
      "\n",
      "   388\n",
      "\n"
     ]
    }
   ],
   "source": [
    "odfDim = 388"
   ]
  }
 ],
 "metadata": {
  "anaconda-cloud": {},
  "kernelspec": {
   "display_name": "Matlab",
   "language": "matlab",
   "name": "matlab"
  },
  "language_info": {
   "codemirror_mode": "octave",
   "file_extension": ".m",
   "help_links": [
    {
     "text": "MetaKernel Magics",
     "url": "https://github.com/calysto/metakernel/blob/master/metakernel/magics/README.md"
    }
   ],
   "mimetype": "text/x-matlab",
   "name": "matlab",
   "version": "0.14.3"
  }
 },
 "nbformat": 4,
 "nbformat_minor": 1
}
