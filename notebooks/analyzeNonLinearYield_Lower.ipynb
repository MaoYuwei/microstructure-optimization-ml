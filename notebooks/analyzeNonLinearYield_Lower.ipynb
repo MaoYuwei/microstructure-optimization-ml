{
 "cells": [
  {
   "cell_type": "code",
   "execution_count": 2,
   "metadata": {
    "collapsed": true
   },
   "outputs": [],
   "source": [
    "%matplotlib inline\n",
    "from scipy.io import loadmat,savemat\n",
    "from scipy.linalg import *\n",
    "from numpy import *\n",
    "from os import listdir\n",
    "from random import choice\n",
    "from math import sqrt,log10,floor\n",
    "import pickle,operator,pandas\n",
    "import matplotlib.pyplot as plt"
   ]
  },
  {
   "cell_type": "code",
   "execution_count": 3,
   "metadata": {
    "collapsed": true
   },
   "outputs": [],
   "source": [
    "from operator import itemgetter\n",
    "from collections import Counter"
   ]
  },
  {
   "cell_type": "code",
   "execution_count": 4,
   "metadata": {
    "collapsed": true
   },
   "outputs": [],
   "source": [
    "odfDim = 388"
   ]
  },
  {
   "cell_type": "markdown",
   "metadata": {},
   "source": [
    "### <font color=\"red\">Objective: Maximize the yield stress sigma(y)</font>\n",
    "\n",
    "\n",
    "### <font color=\"green\">max sigma(y)</font>\n",
    "subject to :\n",
    "#####  <font color=\"orange\">   a. 0<=S11<=0.15</font>\n",
    "#####  <font color=\"teal\">  b. 0<=S22<= 0.1</font>\n",
    "#####  <font color=\"orange\">   c. 0<=C11<=125</font>\n",
    "#####  <font color=\"teal\">  d. C12>=75</font>"
   ]
  },
  {
   "cell_type": "code",
   "execution_count": 1,
   "metadata": {
    "collapsed": true
   },
   "outputs": [],
   "source": [
    "def loadDat(File,path='nonLinearData'):\n",
    "    return loadmat(path+'/'+File)\n",
    "\n",
    "def posOdf(odf):\n",
    "    return nonzero(odf)[0].tolist()\n",
    "\n",
    "def FiveSig(x):\n",
    "    return float(\"{0:.5f}\".format(x))\n",
    "\n",
    "def getSum(odf):\n",
    "    Sum = 0\n",
    "    for i in range(50):\n",
    "        Sum += volumefraction[i]*odf[i]\n",
    "    return Sum\n",
    "\n",
    "def checkSum(odf):\n",
    "    Sum = FiveSig(getSum(odf))\n",
    "    if Sum !=1.0:\n",
    "        return False\n",
    "    else:\n",
    "        return True\n",
    "\n",
    "def Plot(x,y,labelX=\"\",labelY=\"\",title=\"\"):\n",
    "    plt.plot(x,y)\n",
    "    plt.xlabel(labelX)\n",
    "    plt.ylabel(labelY)\n",
    "    plt.title(title)\n",
    "    \n",
    "def round_sig(x, sig=3):\n",
    "    return round(x, sig-int(floor(log10(abs(x))))-1)\n",
    "\n",
    "def roundList(odf):\n",
    "    odfAdjusted = []\n",
    "    for elem in odf:\n",
    "        odfAdjusted += [round(elem,6)]\n",
    "    return array(odfAdjusted)\n",
    "    "
   ]
  },
  {
   "cell_type": "code",
   "execution_count": 8,
   "metadata": {
    "collapsed": true
   },
   "outputs": [],
   "source": [
    "def getMaxOptBoundsFromOdf(File,path='nonLinearData'):\n",
    "    Data = loadDat(File,path)['Data']\n",
    "    maxOpt = 0\n",
    "    maxOdf = []\n",
    "    maxOdfNz = 0\n",
    "    C11,C12,S11,S22 = 0,0,0,0\n",
    "    \n",
    "    for elem in Data:\n",
    "        odf = elem[:odfDim]\n",
    "        opt = elem[odfDim+4]\n",
    "        if opt>maxOpt:\n",
    "            maxOpt = opt\n",
    "            maxOdf = roundList(odf)\n",
    "            C11,C12 = elem[odfDim], elem[odfDim+1]\n",
    "            S11,S22 = elem[odfDim+2], elem[odfDim+3]\n",
    "            maxOdfNz = posOdf(maxOdf)\n",
    "            \n",
    "    print 'The optimal value is',maxOpt,'is a',str(len(maxOdfNz)),'crystal solution'\n",
    "    print 'The Non zero dimensions are',\n",
    "    for i in range(len(maxOdfNz)):\n",
    "        print maxOdfNz[i],\n",
    "    print'(Pinar max is 423.605 - 2 crystal solution 335,386 )'\n",
    "    print\n",
    "    print 'The C11 and C12 are',C11,'(0<=C11<=125) and',C12,'(C12>=75)'\n",
    "    print 'The S11 and S22 are',S11,'(0<=S11<=0.15) and',S22,'(0<=S22<= 0.1)'\n",
    "    #return roundList(maxOdf)"
   ]
  },
  {
   "cell_type": "code",
   "execution_count": 30,
   "metadata": {
    "collapsed": true
   },
   "outputs": [],
   "source": [
    "def loadNumpy(name,path='numpyData'):\n",
    "    fullPath = path+'/'+name+'.npy'\n",
    "    return load(fullPath)\n",
    "    \n",
    "\n",
    "def saveNumpy(obj, name, path='numpyData'):\n",
    "    fullPath = path+'/'+name\n",
    "    save(fullPath, obj)\n",
    "    print name,'saved successfully in',path"
   ]
  },
  {
   "cell_type": "code",
   "execution_count": 23,
   "metadata": {
    "collapsed": true
   },
   "outputs": [],
   "source": [
    "data = []\n",
    "Folder = 'nonLinearData'\n",
    "Filename = []\n",
    "for File in listdir(Folder):\n",
    "\n",
    "    Filename += [File]\n",
    "    data += [loadmat(Folder+'/'+File)]"
   ]
  },
  {
   "cell_type": "code",
   "execution_count": 6,
   "metadata": {
    "collapsed": true
   },
   "outputs": [],
   "source": [
    "volumefraction = loadmat('linprog_yield_node')['propmat'][0]"
   ]
  },
  {
   "cell_type": "code",
   "execution_count": 24,
   "metadata": {
    "collapsed": true
   },
   "outputs": [],
   "source": [
    "DIM = 388\n",
    "opts = []\n",
    "odfs = []\n",
    "c11 = []\n",
    "c12 = []\n",
    "s11 = []\n",
    "s22 = []\n",
    "\n",
    "maxOdf = [[0]*DIM]*len(data)#, maxOdf]#, maxOdf]#, maxOdf]\n",
    "maxOpt = [0]*len(data)#4\n",
    "\n",
    "maxC11= [0]*len(data)\n",
    "maxC12 = [0]*len(data)\n",
    "maxS11= [0]*len(data)\n",
    "maxS22 = [0]*len(data)\n",
    "\n",
    "\n",
    "count = 0\n",
    "total = 0\n",
    "\n",
    "for i in range(len(data)):\n",
    "    for odf in data[i]['Data']:\n",
    "        \n",
    "        odf = odf.tolist()\n",
    "        opts += [odf[DIM+4]]\n",
    "        c11 += [odf[DIM]]\n",
    "        c12 += [odf[DIM+1]]\n",
    "        s11 += [odf[DIM+2]]\n",
    "        s22 += [odf[DIM+3]]\n",
    "        \n",
    "        odfs += [odf[:DIM]]\n",
    "        \n",
    "        total += 1\n",
    "        \n",
    "        if checkSum(odf[:DIM]):\n",
    "            count += 1\n",
    "\n",
    "        if odf[DIM+4]>maxOpt[i]:\n",
    "            maxOpt[i] = odf[DIM+4]\n",
    "            maxC11[i] = odf[DIM]\n",
    "            maxC12[i] = odf[DIM+1]\n",
    "            maxS11[i] = odf[DIM+2]\n",
    "            maxS22[i] = odf[DIM+3]\n",
    "            \n",
    "            maxOdf[i] = odf[:DIM]"
   ]
  },
  {
   "cell_type": "code",
   "execution_count": 25,
   "metadata": {
    "collapsed": true
   },
   "outputs": [],
   "source": [
    "combined = zip(c11,c12,s11,s22,opts,odfs)\n",
    "#combined.sort(key=lambda i: int(i[1]), reverse=True)\n",
    "combined.sort(key=lambda x:map(float, str(float(x[-2])).split(\".\")), reverse=True)\n",
    "c11[:],c12[:],s11[:],s22[:],opts[:],odfs[:] = zip(*combined)"
   ]
  },
  {
   "cell_type": "code",
   "execution_count": null,
   "metadata": {
    "collapsed": true
   },
   "outputs": [],
   "source": [
    "saveNumpy(combined,'combinedNonLinearYield')"
   ]
  },
  {
   "cell_type": "code",
   "execution_count": null,
   "metadata": {
    "collapsed": true
   },
   "outputs": [],
   "source": [
    "len(combined)"
   ]
  },
  {
   "cell_type": "code",
   "execution_count": 26,
   "metadata": {},
   "outputs": [
    {
     "data": {
      "text/plain": [
       "(419.36895000000004, 421.48697500000003, 422.75779)"
      ]
     },
     "execution_count": 26,
     "metadata": {},
     "output_type": "execute_result"
    }
   ],
   "source": [
    "limit1 = 0.99 *423.605\n",
    "limit2 = 0.995 *423.605\n",
    "limit3 = 0.998 * 423.605\n",
    "limit1,limit2,limit3"
   ]
  },
  {
   "cell_type": "markdown",
   "metadata": {},
   "source": [
    "### Number of solutions in 1 % and 0.5 % margin of the best solution"
   ]
  },
  {
   "cell_type": "code",
   "execution_count": 27,
   "metadata": {},
   "outputs": [
    {
     "name": "stdout",
     "output_type": "stream",
     "text": [
      "510 85 5\n"
     ]
    }
   ],
   "source": [
    "count1,count2,count3 = 0,0,0\n",
    "flag,i = True,-1\n",
    "flag1,flag2 = -1,-1\n",
    "while flag:\n",
    "    i+=1\n",
    "    if opts[i]>limit1:\n",
    "        count1 += 1\n",
    "        if opts[i]>limit2:\n",
    "            count2 += 1\n",
    "            if opts[i]>limit3:\n",
    "                count3 += 1\n",
    "    else:\n",
    "        flag = False\n",
    "    #print opts[i],posOdf(odfs[i])\n",
    "print count1, count2, count3"
   ]
  },
  {
   "cell_type": "code",
   "execution_count": 28,
   "metadata": {
    "collapsed": true
   },
   "outputs": [],
   "source": [
    "def topDimensions(LIMIT):\n",
    "    List,counts = [],[]\n",
    "    count1,count2 = 0,0\n",
    "    for i in range(LIMIT): \n",
    "        if opts[i]>limit1:\n",
    "            count1 += 1\n",
    "            if opts[i]>limit2:\n",
    "                count2 += 1\n",
    "        else:\n",
    "            flag = False\n",
    "        List += posOdf(odfs[i])\n",
    "    sorted_counts = sorted( Counter(List).iteritems(), key=itemgetter(1),reverse=True)\n",
    "    for i in range(len(sorted_counts)):\n",
    "        counts += [sorted_counts[i][0]]\n",
    "    return array(counts)"
   ]
  },
  {
   "cell_type": "code",
   "execution_count": 19,
   "metadata": {},
   "outputs": [
    {
     "data": {
      "text/plain": [
       "array([385, 334, 337])"
      ]
     },
     "execution_count": 19,
     "metadata": {},
     "output_type": "execute_result"
    }
   ],
   "source": [
    "topDimensions(5)"
   ]
  },
  {
   "cell_type": "code",
   "execution_count": 20,
   "metadata": {},
   "outputs": [
    {
     "data": {
      "image/png": "[encoded data removed]",
      "text/plain": [
       "<matplotlib.figure.Figure at 0x10fa79290>"
      ]
     },
     "metadata": {},
     "output_type": "display_data"
    }
   ],
   "source": [
    "plt.hist(opts,bins=150)\n",
    "plt.title(\"Frequency Distribution of yield\")\n",
    "plt.xlabel(\"yield stress (in MPa)\")\n",
    "plt.ylabel(\"Frequency\")\n",
    "plt.show()"
   ]
  },
  {
   "cell_type": "code",
   "execution_count": 34,
   "metadata": {},
   "outputs": [
    {
     "data": {
      "image/png": "[encoded data removed]",
      "text/plain": [
       "<matplotlib.figure.Figure at 0x2fe818290>"
      ]
     },
     "metadata": {},
     "output_type": "display_data"
    }
   ],
   "source": [
    "indices = list(range(388))\n",
    "List = []\n",
    "for i in range(388):\n",
    "    List += [0]\n",
    "    \n",
    "for odf in odfs:\n",
    "    nz = nonzero(odf)[0].tolist()\n",
    "    for elem in nz:\n",
    "        List[elem] += 1\n",
    "\n",
    "average = []\n",
    "for i in indices:\n",
    "    average += [float(List[i])/float(len(odfs))]\n",
    "Plot(indices, average,\"ODF dimension\",\"fraction of non-zero values\",\"all ODFs\")"
   ]
  },
  {
   "cell_type": "code",
   "execution_count": 24,
   "metadata": {
    "collapsed": true
   },
   "outputs": [],
   "source": [
    "indices = list(range(388))\n",
    "topOdfs = odfs[:5000]\n",
    "topList = []\n",
    "for i in range(388):\n",
    "    topList += [0]\n",
    "    \n",
    "for odf in topOdfs:\n",
    "    nz = nonzero(odf)[0].tolist()\n",
    "    for elem in nz:\n",
    "        topList[elem] += 1\n",
    "\n",
    "topAverage = []\n",
    "for i in indices:\n",
    "    topAverage += [float(topList[i])/float(len(topOdfs))]"
   ]
  },
  {
   "cell_type": "code",
   "execution_count": 25,
   "metadata": {},
   "outputs": [
    {
     "data": {
      "image/png": "[encoded data removed]",
      "text/plain": [
       "<matplotlib.figure.Figure at 0x2ffd35b50>"
      ]
     },
     "metadata": {},
     "output_type": "display_data"
    }
   ],
   "source": [
    "Plot(indices, topAverage,\"ODF dimension\",\"fraction of non-zero values\",\"top ODFs\")"
   ]
  },
  {
   "cell_type": "markdown",
   "metadata": {},
   "source": [
    "### <font color=\"orange\"> Random Forest Classification to find the top features for determining value </font> "
   ]
  },
  {
   "cell_type": "code",
   "execution_count": 22,
   "metadata": {
    "collapsed": true
   },
   "outputs": [],
   "source": [
    "from sklearn.ensemble import RandomForestClassifier\n",
    "from sklearn.utils import shuffle"
   ]
  },
  {
   "cell_type": "code",
   "execution_count": 26,
   "metadata": {
    "collapsed": true
   },
   "outputs": [],
   "source": [
    "edgeOdfs = topOdfs+odfs[-5000:]\n",
    "edgeLabels = [1]*5000+[-1]*5000"
   ]
  },
  {
   "cell_type": "code",
   "execution_count": 27,
   "metadata": {
    "collapsed": true
   },
   "outputs": [],
   "source": [
    "edgeOdfs,edgeLabels = shuffle(edgeOdfs,edgeLabels)"
   ]
  },
  {
   "cell_type": "code",
   "execution_count": 28,
   "metadata": {},
   "outputs": [
    {
     "data": {
      "text/plain": [
       "RandomForestClassifier(bootstrap=True, class_weight=None, criterion='gini',\n",
       "            max_depth=2, max_features='auto', max_leaf_nodes=None,\n",
       "            min_impurity_split=1e-07, min_samples_leaf=1,\n",
       "            min_samples_split=2, min_weight_fraction_leaf=0.0,\n",
       "            n_estimators=10, n_jobs=1, oob_score=False, random_state=0,\n",
       "            verbose=0, warm_start=False)"
      ]
     },
     "execution_count": 28,
     "metadata": {},
     "output_type": "execute_result"
    }
   ],
   "source": [
    "clf = RandomForestClassifier(max_depth=2, random_state=0)\n",
    "clf.fit(edgeOdfs, edgeLabels)\n"
   ]
  },
  {
   "cell_type": "code",
   "execution_count": 29,
   "metadata": {},
   "outputs": [
    {
     "name": "stdout",
     "output_type": "stream",
     "text": [
      "148 : 0.18124123408\n",
      "385 : 0.0977531741073\n",
      "95 : 0.0909708224227\n",
      "73 : 0.0804119222892\n",
      "296 : 0.0785084891468\n",
      "334 : 0.0750123080792\n",
      "369 : 0.0615021000041\n",
      "54 : 0.0505315759466\n",
      "327 : 0.0502793294217\n",
      "244 : 0.0497206705783\n"
     ]
    }
   ],
   "source": [
    "features = clf.feature_importances_\n",
    "indices = argsort(features)[::-1]\n",
    "values = sorted(features, reverse=True)\n",
    "for i in range(10):\n",
    "    print indices[i], ':',values[i]"
   ]
  },
  {
   "cell_type": "markdown",
   "metadata": {},
   "source": [
    "### <font color=\"teal\"> Random Forest Regression to find the top features for determining value </font> "
   ]
  },
  {
   "cell_type": "code",
   "execution_count": 30,
   "metadata": {
    "collapsed": true
   },
   "outputs": [],
   "source": [
    "from sklearn.ensemble import RandomForestRegressor"
   ]
  },
  {
   "cell_type": "code",
   "execution_count": 31,
   "metadata": {
    "collapsed": true
   },
   "outputs": [],
   "source": [
    "edgeOdfs = odfs[:5000]+odfs[-5000:]\n",
    "edgeLabels = opts[:5000]+opts[-5000:]\n",
    "\n",
    "edgeOdfs,edgeLabels = shuffle(edgeOdfs,edgeLabels)"
   ]
  },
  {
   "cell_type": "code",
   "execution_count": 32,
   "metadata": {
    "collapsed": true
   },
   "outputs": [],
   "source": [
    "clf = RandomForestRegressor(max_depth=2, random_state=0)\n",
    "clf.fit(edgeOdfs, edgeLabels)\n",
    "features = clf.feature_importances_\n",
    "indices = argsort(features)[::-1]\n",
    "values = sorted(features, reverse=True)"
   ]
  },
  {
   "cell_type": "code",
   "execution_count": 33,
   "metadata": {},
   "outputs": [
    {
     "name": "stdout",
     "output_type": "stream",
     "text": [
      "385 : 0.878302097373\n",
      "337 : 0.0732974924785\n",
      "334 : 0.0484004101486\n"
     ]
    }
   ],
   "source": [
    "for i in range(3):\n",
    "    print indices[i], ':',values[i]"
   ]
  },
  {
   "cell_type": "markdown",
   "metadata": {},
   "source": [
    "### <font color=\"green\"> Finding maximum values from mat files </font>"
   ]
  },
  {
   "cell_type": "markdown",
   "metadata": {},
   "source": [
    "#### Small Partition 4"
   ]
  },
  {
   "cell_type": "code",
   "execution_count": 103,
   "metadata": {},
   "outputs": [
    {
     "name": "stdout",
     "output_type": "stream",
     "text": [
      "The optimal value is 376.464694974 is a 27 crystal solution\n",
      "The Non zero dimensions are 23 37 48 61 69 81 99 100 161 173 174 182 195 197 221 226 232 300 304 328 339 359 364 366 370 372 374 (Pinar max is 423.605 - 2 crystal solution 335,386 )\n",
      "\n",
      "The C11 and C12 are 105.312899165 (0<=C11<=125) and 88.5938218924 (C12>=75)\n",
      "The S11 and S22 are 0.0551561980655 (0<=S11<=0.15) and 0.0903110194981 (0<=S22<= 0.1)\n"
     ]
    }
   ],
   "source": [
    "getMaxOptBoundsFromOdf('nonLinear_greedyGenerator_1000.mat')"
   ]
  },
  {
   "cell_type": "code",
   "execution_count": 96,
   "metadata": {},
   "outputs": [
    {
     "name": "stdout",
     "output_type": "stream",
     "text": [
      "The optimal value is 411.641725012 is a 4 crystal solution\n",
      "The Non zero dimensions are 188 191 269 385 (Pinar max is 423.605 - 2 crystal solution 335,386 )\n",
      "\n",
      "The C11 and C12 are 110.383052356 (0<=C11<=125) and 86.265472799 (C12>=75)\n",
      "The S11 and S22 are 0.032332008155 (0<=S11<=0.15) and 0.0989561634043 (0<=S22<= 0.1)\n"
     ]
    }
   ],
   "source": [
    "getMaxOptBoundsFromOdf('nonLinear_SmallPartition4_200000.mat')"
   ]
  },
  {
   "cell_type": "code",
   "execution_count": 229,
   "metadata": {},
   "outputs": [
    {
     "name": "stdout",
     "output_type": "stream",
     "text": [
      "The optimal value is 419.270977284 is a 4 crystal solution\n",
      "The Non zero dimensions are 37 339 380 385 (Pinar max is 423.605 - 2 crystal solution 335,386 )\n",
      "\n",
      "The C11 and C12 are 114.162924976 (0<=C11<=125) and 83.270712773 (C12>=75)\n",
      "The S11 and S22 are 0.0273748063276 (0<=S11<=0.15) and 0.093734279849 (0<=S22<= 0.1)\n"
     ]
    }
   ],
   "source": [
    "getMaxOptBoundsFromOdf('nonLinear_SmallPartition4_1000000.mat')"
   ]
  },
  {
   "cell_type": "code",
   "execution_count": 228,
   "metadata": {},
   "outputs": [
    {
     "name": "stdout",
     "output_type": "stream",
     "text": [
      "The optimal value is 418.528410078 is a 4 crystal solution\n",
      "The Non zero dimensions are 65 157 374 385 (Pinar max is 423.605 - 2 crystal solution 335,386 )\n",
      "\n",
      "The C11 and C12 are 113.486842091 (0<=C11<=125) and 83.8431981719 (C12>=75)\n",
      "The S11 and S22 are 0.0277688798227 (0<=S11<=0.15) and 0.0915305056831 (0<=S22<= 0.1)\n"
     ]
    }
   ],
   "source": [
    "getMaxOptBoundsFromOdf('nonLinear_SmallPartition4_400000.mat')"
   ]
  },
  {
   "cell_type": "markdown",
   "metadata": {},
   "source": [
    "#### Small Partition 3"
   ]
  },
  {
   "cell_type": "code",
   "execution_count": 212,
   "metadata": {},
   "outputs": [
    {
     "name": "stdout",
     "output_type": "stream",
     "text": [
      "The optimal value is 422.57334426 is a 3 crystal solution\n",
      "The Non zero dimensions are 334 337 385 (Pinar max is 423.605 - 2 crystal solution 335,386 )\n",
      "\n",
      "The C11 and C12 are 118.407557807 (0<=C11<=125) and 81.3650945743 (C12>=75)\n",
      "The S11 and S22 are 0.0213100401949 (0<=S11<=0.15) and 0.098129846692 (0<=S22<= 0.1)\n"
     ]
    }
   ],
   "source": [
    "getMaxOptBoundsFromOdf('nonLinear_SmallPartition3_1000000.mat')"
   ]
  },
  {
   "cell_type": "code",
   "execution_count": 231,
   "metadata": {},
   "outputs": [
    {
     "name": "stdout",
     "output_type": "stream",
     "text": [
      "The optimal value is 420.489956331 is a 3 crystal solution\n",
      "The Non zero dimensions are 151 334 385 (Pinar max is 423.605 - 2 crystal solution 335,386 )\n",
      "\n",
      "The C11 and C12 are 116.803441741 (0<=C11<=125) and 82.2017090135 (C12>=75)\n",
      "The S11 and S22 are 0.0230247225829 (0<=S11<=0.15) and 0.0973266527005 (0<=S22<= 0.1)\n"
     ]
    }
   ],
   "source": [
    "getMaxOptBoundsFromOdf('nonLinear_SmallPartition3_1200000.mat')"
   ]
  },
  {
   "cell_type": "code",
   "execution_count": 97,
   "metadata": {},
   "outputs": [
    {
     "name": "stdout",
     "output_type": "stream",
     "text": [
      "The optimal value is 420.216132216 is a 3 crystal solution\n",
      "The Non zero dimensions are 196 317 385 (Pinar max is 423.605 - 2 crystal solution 335,386 )\n",
      "\n",
      "The C11 and C12 are 114.324658144 (0<=C11<=125) and 83.3399674663 (C12>=75)\n",
      "The S11 and S22 are 0.0265787688937 (0<=S11<=0.15) and 0.0921843590543 (0<=S22<= 0.1)\n"
     ]
    }
   ],
   "source": [
    "getMaxOptBoundsFromOdf('nonLinear_SmallPartition3_200000.mat')"
   ]
  },
  {
   "cell_type": "code",
   "execution_count": 99,
   "metadata": {},
   "outputs": [
    {
     "name": "stdout",
     "output_type": "stream",
     "text": [
      "The optimal value is 420.585178715 is a 3 crystal solution\n",
      "The Non zero dimensions are 372 381 385 (Pinar max is 423.605 - 2 crystal solution 335,386 )\n",
      "\n",
      "The C11 and C12 are 114.224584385 (0<=C11<=125) and 83.2916660995 (C12>=75)\n",
      "The S11 and S22 are 0.0269939856339 (0<=S11<=0.15) and 0.0920385432885 (0<=S22<= 0.1)\n"
     ]
    }
   ],
   "source": [
    "getMaxOptBoundsFromOdf('nonLinear_SmallPartition3_300000.mat')"
   ]
  },
  {
   "cell_type": "markdown",
   "metadata": {},
   "source": [
    "#### Small Partition 2"
   ]
  },
  {
   "cell_type": "code",
   "execution_count": 213,
   "metadata": {},
   "outputs": [
    {
     "name": "stdout",
     "output_type": "stream",
     "text": [
      "The optimal value is 422.827612418 is a 2 crystal solution\n",
      "The Non zero dimensions are 337 385 (Pinar max is 423.605 - 2 crystal solution 335,386 )\n",
      "\n",
      "The C11 and C12 are 119.777237741 (0<=C11<=125) and 80.7214189367 (C12>=75)\n",
      "The S11 and S22 are 0.0200494987775 (0<=S11<=0.15) and 0.0999533571782 (0<=S22<= 0.1)\n"
     ]
    }
   ],
   "source": [
    "getMaxOptBoundsFromOdf('nonLinear_SmallPartition2_1000000.mat')"
   ]
  },
  {
   "cell_type": "code",
   "execution_count": 230,
   "metadata": {},
   "outputs": [
    {
     "name": "stdout",
     "output_type": "stream",
     "text": [
      "The optimal value is 422.768861134 is a 2 crystal solution\n",
      "The Non zero dimensions are 334 385 (Pinar max is 423.605 - 2 crystal solution 335,386 )\n",
      "\n",
      "The C11 and C12 are 119.443973543 (0<=C11<=125) and 80.8789468401 (C12>=75)\n",
      "The S11 and S22 are 0.0203407599839 (0<=S11<=0.15) and 0.0995320161125 (0<=S22<= 0.1)\n"
     ]
    }
   ],
   "source": [
    "getMaxOptBoundsFromOdf('nonLinear_SmallPartition2_1100000.mat')"
   ]
  },
  {
   "cell_type": "code",
   "execution_count": 98,
   "metadata": {},
   "outputs": [
    {
     "name": "stdout",
     "output_type": "stream",
     "text": [
      "The optimal value is 422.594729181 is a 2 crystal solution\n",
      "The Non zero dimensions are 334 385 (Pinar max is 423.605 - 2 crystal solution 335,386 )\n",
      "\n",
      "The C11 and C12 are 118.526820808 (0<=C11<=125) and 81.3091269034 (C12>=75)\n",
      "The S11 and S22 are 0.0212040239376 (0<=S11<=0.15) and 0.0982832107578 (0<=S22<= 0.1)\n"
     ]
    }
   ],
   "source": [
    "getMaxOptBoundsFromOdf('nonLinear_SmallPartition2_300000.mat')"
   ]
  },
  {
   "cell_type": "code",
   "execution_count": 64,
   "metadata": {},
   "outputs": [
    {
     "name": "stdout",
     "output_type": "stream",
     "text": [
      "The optimal value is 421.552039446 is a 2 crystal solution\n",
      "The Non zero dimensions are 337 385 (Pinar max is 423.605 - 2 crystal solution 335,386 )\n",
      "\n",
      "The C11 and C12 are 114.638226054 (0<=C11<=125) and 83.0427910029 (C12>=75)\n",
      "The S11 and S22 are 0.0263731870194 (0<=S11<=0.15) and 0.0908054532208 (0<=S22<= 0.1)\n"
     ]
    }
   ],
   "source": [
    "getMaxOptBoundsFromOdf('nonLinear_SmallPartition2_200000.mat')"
   ]
  },
  {
   "cell_type": "markdown",
   "metadata": {},
   "source": [
    "#### Small Partition 5"
   ]
  },
  {
   "cell_type": "code",
   "execution_count": 65,
   "metadata": {},
   "outputs": [
    {
     "name": "stdout",
     "output_type": "stream",
     "text": [
      "The optimal value is 416.835675011 is a 5 crystal solution\n",
      "The Non zero dimensions are 200 337 365 377 385 (Pinar max is 423.605 - 2 crystal solution 335,386 )\n",
      "\n",
      "The C11 and C12 are 113.709185827 (0<=C11<=125) and 83.8966541273 (C12>=75)\n",
      "The S11 and S22 are 0.0272400857296 (0<=S11<=0.15) and 0.0983929795265 (0<=S22<= 0.1)\n"
     ]
    }
   ],
   "source": [
    "getMaxOptBoundsFromOdf('nonLinear_SmallPartition5_200000.mat')"
   ]
  },
  {
   "cell_type": "markdown",
   "metadata": {},
   "source": [
    "#### Small Partition 6"
   ]
  },
  {
   "cell_type": "code",
   "execution_count": 66,
   "metadata": {},
   "outputs": [
    {
     "name": "stdout",
     "output_type": "stream",
     "text": [
      "The optimal value is 401.407604389 is a 6 crystal solution\n",
      "The Non zero dimensions are 16 242 244 369 371 385 (Pinar max is 423.605 - 2 crystal solution 335,386 )\n",
      "\n",
      "The C11 and C12 are 108.951064149 (0<=C11<=125) and 86.8818500424 (C12>=75)\n",
      "The S11 and S22 are 0.0359730956811 (0<=S11<=0.15) and 0.0946575725334 (0<=S22<= 0.1)\n"
     ]
    }
   ],
   "source": [
    "getMaxOptBoundsFromOdf('nonLinear_SmallPartition6_200000.mat')"
   ]
  },
  {
   "cell_type": "markdown",
   "metadata": {},
   "source": [
    "#### First 5 Generator"
   ]
  },
  {
   "cell_type": "code",
   "execution_count": 226,
   "metadata": {},
   "outputs": [
    {
     "name": "stdout",
     "output_type": "stream",
     "text": [
      "The optimal value is 392.257559266 is a 48 crystal solution\n",
      "The Non zero dimensions are 10 11 23 28 63 71 80 86 88 91 94 100 110 120 125 131 142 143 152 167 172 186 195 205 209 215 220 229 234 236 238 260 272 290 300 307 309 312 327 338 345 352 358 359 369 370 384 385 (Pinar max is 423.605 - 2 crystal solution 335,386 )\n",
      "\n",
      "The C11 and C12 are 106.280940352 (0<=C11<=125) and 88.2569851472 (C12>=75)\n",
      "The S11 and S22 are 0.0463601070209 (0<=S11<=0.15) and 0.096790578473 (0<=S22<= 0.1)\n"
     ]
    }
   ],
   "source": [
    "getMaxOptBoundsFromOdf('nonLinear_first5Generator_100000.mat')"
   ]
  },
  {
   "cell_type": "code",
   "execution_count": 102,
   "metadata": {},
   "outputs": [
    {
     "name": "stdout",
     "output_type": "stream",
     "text": [
      "The optimal value is 367.178830497 is a 41 crystal solution\n",
      "The Non zero dimensions are 2 34 36 41 50 63 71 74 109 111 112 119 140 152 160 169 181 183 186 204 219 247 251 264 279 280 283 292 295 299 304 308 309 334 335 336 338 345 354 376 377 (Pinar max is 423.605 - 2 crystal solution 335,386 )\n",
      "\n",
      "The C11 and C12 are 105.004062086 (0<=C11<=125) and 89.1777839697 (C12>=75)\n",
      "The S11 and S22 are 0.0528106326342 (0<=S11<=0.15) and 0.0973094668717 (0<=S22<= 0.1)\n"
     ]
    }
   ],
   "source": [
    "odf = getMaxOptBoundsFromOdf('nonLinear_first5Generator_50000.mat')"
   ]
  },
  {
   "cell_type": "markdown",
   "metadata": {},
   "source": [
    "#### First 3 Generator"
   ]
  },
  {
   "cell_type": "code",
   "execution_count": 101,
   "metadata": {},
   "outputs": [
    {
     "name": "stdout",
     "output_type": "stream",
     "text": [
      "The optimal value is 409.629354777 is a 24 crystal solution\n",
      "The Non zero dimensions are 18 19 63 77 98 99 121 126 128 165 185 186 215 219 226 246 257 282 287 288 292 320 335 385 (Pinar max is 423.605 - 2 crystal solution 335,386 )\n",
      "\n",
      "The C11 and C12 are 110.955021332 (0<=C11<=125) and 85.3297643234 (C12>=75)\n",
      "The S11 and S22 are 0.0325829261075 (0<=S11<=0.15) and 0.0990391882978 (0<=S22<= 0.1)\n"
     ]
    }
   ],
   "source": [
    "odf = getMaxOptBoundsFromOdf('nonLinear_first3Generator_50000.mat')"
   ]
  },
  {
   "cell_type": "markdown",
   "metadata": {},
   "source": [
    "#### First 2 Generator"
   ]
  },
  {
   "cell_type": "code",
   "execution_count": 227,
   "metadata": {},
   "outputs": [
    {
     "name": "stdout",
     "output_type": "stream",
     "text": [
      "The optimal value is 419.879676629 is a 22 crystal solution\n",
      "The Non zero dimensions are 3 19 67 71 94 108 121 147 156 182 187 193 209 215 248 249 276 305 326 370 371 385 (Pinar max is 423.605 - 2 crystal solution 335,386 )\n",
      "\n",
      "The C11 and C12 are 114.045627285 (0<=C11<=125) and 83.4419638961 (C12>=75)\n",
      "The S11 and S22 are 0.027221348736 (0<=S11<=0.15) and 0.0913605652363 (0<=S22<= 0.1)\n"
     ]
    }
   ],
   "source": [
    "getMaxOptBoundsFromOdf('nonLinear_first2Generator_100000.mat')"
   ]
  },
  {
   "cell_type": "code",
   "execution_count": 100,
   "metadata": {},
   "outputs": [
    {
     "name": "stdout",
     "output_type": "stream",
     "text": [
      "The optimal value is 405.556178155 is a 33 crystal solution\n",
      "The Non zero dimensions are 6 11 16 34 35 40 66 111 139 157 176 180 193 207 213 216 219 225 228 231 248 251 255 258 265 266 301 302 312 348 363 378 385 (Pinar max is 423.605 - 2 crystal solution 335,386 )\n",
      "\n",
      "The C11 and C12 are 108.756840595 (0<=C11<=125) and 87.0629868783 (C12>=75)\n",
      "The S11 and S22 are 0.0364210705631 (0<=S11<=0.15) and 0.098248040171 (0<=S22<= 0.1)\n"
     ]
    }
   ],
   "source": [
    "getMaxOptBoundsFromOdf('nonLinear_first2Generator_50000.mat')"
   ]
  },
  {
   "cell_type": "markdown",
   "metadata": {},
   "source": [
    "### Intelligent Sampling "
   ]
  },
  {
   "cell_type": "code",
   "execution_count": 9,
   "metadata": {},
   "outputs": [
    {
     "name": "stdout",
     "output_type": "stream",
     "text": [
      "The optimal value is 376.364924509 is a 2 crystal solution\n",
      "The Non zero dimensions are 366 371 (Pinar max is 423.605 - 2 crystal solution 335,386 )\n",
      "\n",
      "The C11 and C12 are 107.22044139 (0<=C11<=125) and 87.5593128709 (C12>=75)\n",
      "The S11 and S22 are 0.0474116747121 (0<=S11<=0.15) and 0.0889897089325 (0<=S22<= 0.1)\n"
     ]
    }
   ],
   "source": [
    "getMaxOptBoundsFromOdf('nonLinearIntel_SmallPartition2_100.mat','nonLinearIntelData')"
   ]
  },
  {
   "cell_type": "code",
   "execution_count": 11,
   "metadata": {
    "collapsed": true
   },
   "outputs": [],
   "source": [
    "odfs = loadDat('nonLinearIntel_SmallPartition2_100.mat','nonLinearIntelData')"
   ]
  },
  {
   "cell_type": "code",
   "execution_count": 21,
   "metadata": {
    "collapsed": true
   },
   "outputs": [],
   "source": [
    "posOdfList = []\n",
    "for odf in odfs['odfs']:\n",
    "    posOdfList += posOdf(odf)"
   ]
  },
  {
   "cell_type": "code",
   "execution_count": null,
   "metadata": {
    "collapsed": true
   },
   "outputs": [],
   "source": []
  },
  {
   "cell_type": "code",
   "execution_count": 22,
   "metadata": {},
   "outputs": [
    {
     "data": {
      "text/plain": [
       "[384,\n",
       " 2,\n",
       " 388,\n",
       " 263,\n",
       " 265,\n",
       " 271,\n",
       " 195,\n",
       " 152,\n",
       " 156,\n",
       " 160,\n",
       " 162,\n",
       " 304,\n",
       " 309,\n",
       " 312,\n",
       " 314,\n",
       " 193,\n",
       " 323,\n",
       " 331,\n",
       " 333,\n",
       " 336,\n",
       " 338,\n",
       " 339,\n",
       " 213,\n",
       " 90,\n",
       " 349,\n",
       " 223,\n",
       " 364,\n",
       " 366,\n",
       " 367,\n",
       " 370,\n",
       " 371,\n",
       " 245,\n",
       " 254,\n",
       " 383]"
      ]
     },
     "execution_count": 22,
     "metadata": {},
     "output_type": "execute_result"
    }
   ],
   "source": [
    "list(set(posOdfList))"
   ]
  }
 ],
 "metadata": {
  "kernelspec": {
   "display_name": "Python 2",
   "language": "python",
   "name": "python2"
  },
  "language_info": {
   "codemirror_mode": {
    "name": "ipython",
    "version": 2
   },
   "file_extension": ".py",
   "mimetype": "text/x-python",
   "name": "python",
   "nbconvert_exporter": "python",
   "pygments_lexer": "ipython2",
   "version": "2.7.13"
  }
 },
 "nbformat": 4,
 "nbformat_minor": 2
}
