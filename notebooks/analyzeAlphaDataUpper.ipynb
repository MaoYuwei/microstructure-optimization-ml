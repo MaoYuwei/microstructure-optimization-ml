{
 "cells": [
  {
   "cell_type": "code",
   "execution_count": 12,
   "metadata": {
    "collapsed": true
   },
   "outputs": [],
   "source": [
    "%matplotlib inline\n",
    "from scipy.io import loadmat,savemat\n",
    "from scipy.linalg import *\n",
    "from numpy import *\n",
    "from os import listdir\n",
    "import pickle,operator\n",
    "import matplotlib.pyplot as plt\n",
    "from sklearn.utils import shuffle\n",
    "from sklearn.ensemble import RandomForestClassifier,RandomForestRegressor"
   ]
  },
  {
   "cell_type": "code",
   "execution_count": 13,
   "metadata": {
    "collapsed": true
   },
   "outputs": [],
   "source": [
    "titaniumDat = loadmat('alphatitaniumsmall.mat')\n",
    "volumefraction = constraint = titaniumDat['volumefraction'][0]"
   ]
  },
  {
   "cell_type": "markdown",
   "metadata": {},
   "source": [
    "### <font color=\"red\">Objective: Maximize the thermal expansion coefficient alpha</font>\n",
    "\n",
    "\n",
    "## <font color=\"blue\"> Optimization problem formulation:</font>\n",
    "\n",
    "### <font color=\"green\">max alpha</font>\n",
    "subject to :\n",
    "#####  <font color=\"orange\">   161<=C11<=165</font>\n",
    "#####  <font color=\"orange\">  75<=C12<=78</font>"
   ]
  },
  {
   "cell_type": "code",
   "execution_count": 14,
   "metadata": {
    "collapsed": true
   },
   "outputs": [],
   "source": [
    "def FiveSig(x):\n",
    "    return float(\"{0:.5f}\".format(x))"
   ]
  },
  {
   "cell_type": "code",
   "execution_count": 15,
   "metadata": {
    "collapsed": true
   },
   "outputs": [],
   "source": [
    "def Plot(x,y,labelX=\"\",labelY=\"\",title=\"\"):\n",
    "    plt.plot(x,y)\n",
    "    plt.xlabel(labelX)\n",
    "    plt.ylabel(labelY)\n",
    "    plt.title(title)"
   ]
  },
  {
   "cell_type": "code",
   "execution_count": 16,
   "metadata": {
    "collapsed": true
   },
   "outputs": [],
   "source": [
    "def getC11C12(odf):\n",
    "\n",
    "    C = stiffness.dot(odf).reshape(6,6);  # averaged stiffness matrix\n",
    "    C11 = C[0][0]\n",
    "    C12 = C[0][1]\n",
    "    return C11, C12"
   ]
  },
  {
   "cell_type": "code",
   "execution_count": 17,
   "metadata": {
    "collapsed": true
   },
   "outputs": [],
   "source": [
    "def posOdf(odf):\n",
    "    return nonzero(odf)[0].tolist()\n",
    "\n",
    "def getSum(odf):\n",
    "    Sum = 0\n",
    "    for i in range(50):\n",
    "        Sum += volumefraction[i]*odf[i]\n",
    "    return Sum\n",
    "\n",
    "def checkSum(odf):\n",
    "    Sum = FiveSig(getSum(odf))\n",
    "    if Sum !=1.0:\n",
    "        return False\n",
    "    else:\n",
    "        return True"
   ]
  },
  {
   "cell_type": "code",
   "execution_count": 18,
   "metadata": {
    "collapsed": true
   },
   "outputs": [],
   "source": [
    "def loadData(name,path):\n",
    "    '''\n",
    "    This loads a pickle file and returns the content which is a DICTIONARY object in our case.\n",
    "    '''\n",
    "    if \".pkl\" in name:\n",
    "            name = name.split(\".pkl\")[0]\n",
    "    if \"/\" in name:\n",
    "            name = name.split(\"/\",1)[1]\n",
    "\n",
    "    with open(path+\"/\"+name + '.pkl', 'rb') as f:\n",
    "          return pickle.load(f)\n",
    "\n",
    "def saveData(obj, name,path):\n",
    "    '''\n",
    "    This saves a object into a pickle file. In our case, it is generally a DICTIONARY object.\n",
    "    '''\n",
    "\n",
    "    with open(path+\"/\"+name + '.pkl', 'wb') as f:\n",
    "            pickle.dump(obj, f)#, pickle.HIGHEST_PROTOCOL)\n",
    "            \n",
    "def loadNumpy(name,path='numpyData'):\n",
    "    fullPath = path+'/'+name+'.npy'\n",
    "    return load(fullPath)\n",
    "    \n",
    "\n",
    "def saveNumpy(obj, name, path='numpyData'):\n",
    "    fullPath = path+'/'+name\n",
    "    save(fullPath, obj)\n",
    "    print name,'saved successfully in',path"
   ]
  },
  {
   "cell_type": "markdown",
   "metadata": {},
   "source": [
    "### <font color=\"red\">Optimum polycrystal solution alpha = 8.5506e-06</font>\n",
    "#### with \n",
    "##### <font color=\"blue\"> C11 = 161.0000 GPa, C12 = 75.0000 GPa</font>"
   ]
  },
  {
   "cell_type": "code",
   "execution_count": 19,
   "metadata": {},
   "outputs": [],
   "source": [
    "data = []\n",
    "\n",
    "Filename = []\n",
    "for File in listdir('alphaUpperData'):\n",
    "\n",
    "    Filename += [File]\n",
    "    data += [loadmat('alphaUpperData/'+File)]"
   ]
  },
  {
   "cell_type": "code",
   "execution_count": 22,
   "metadata": {},
   "outputs": [
    {
     "data": {
      "text/plain": [
       "391"
      ]
     },
     "execution_count": 22,
     "metadata": {},
     "output_type": "execute_result"
    }
   ],
   "source": [
    "len(data[0]['Data'][0])"
   ]
  },
  {
   "cell_type": "code",
   "execution_count": 9,
   "metadata": {
    "collapsed": true
   },
   "outputs": [],
   "source": [
    "opts = []\n",
    "odfs = []\n",
    "constraint1 = []\n",
    "constraint2 = []\n",
    "# sortedOpts = []\n",
    "# sortedConstraints = []\n",
    "\n",
    "maxOdf = [[0]*50]*len(data)#, maxOdf]#, maxOdf]#, maxOdf]\n",
    "maxOpt = [0]*len(data)#4\n",
    "maxConstraint1= [0]*len(data)\n",
    "maxConstraint2 = [0]*len(data)\n",
    "\n",
    "count = 0\n",
    "total = 0\n",
    "\n",
    "for i in range(len(data)):\n",
    "    for odf in data[i]['Data']:\n",
    "        \n",
    "        odf = odf.tolist()\n",
    "        opts += [odf[52]]\n",
    "        constraint1 += [odf[50]]\n",
    "        constraint2 += [odf[51]]\n",
    "        \n",
    "        odfs += [odf[:50]]\n",
    "        \n",
    "        total += 1\n",
    "        \n",
    "        if checkSum(odf[:50]):\n",
    "            count += 1\n",
    "\n",
    "        if odf[52]>maxOpt[i]:\n",
    "            maxOpt[i] = odf[52]\n",
    "            maxConstraint1[i] = odf[50]\n",
    "            maxConstraint2[i] = odf[51]\n",
    "            maxOdf[i] = odf[:50]"
   ]
  },
  {
   "cell_type": "code",
   "execution_count": 10,
   "metadata": {
    "collapsed": true
   },
   "outputs": [],
   "source": [
    "combined = zip(constraint1,constraint2,opts,odfs)\n",
    "#combined.sort(key=lambda i: int(i[1]), reverse=True)\n",
    "combined.sort(key=lambda x:map(float, str(float(x[2])).split(\".\")), reverse=True)\n",
    "constraint1[:],constraint2[:],opts[:],odfs[:] = zip(*combined)"
   ]
  },
  {
   "cell_type": "code",
   "execution_count": 15,
   "metadata": {},
   "outputs": [
    {
     "name": "stdout",
     "output_type": "stream",
     "text": [
      "sortedConstraint1_alpha_v3 saved successfully in numpyData\n",
      "sortedConstraint2_alpha_v3 saved successfully in numpyData\n",
      "sortedOdfs_alpha_v3 saved successfully in numpyData\n",
      "sortedOpts_alpha_v3 saved successfully in numpyData\n"
     ]
    }
   ],
   "source": [
    "saveNumpy(constraint1,'sortedConstraint1_alpha_v3')\n",
    "saveNumpy(constraint2,'sortedConstraint2_alpha_v3')\n",
    "saveNumpy(odfs,'sortedOdfs_alpha_v3')\n",
    "saveNumpy(opts,'sortedOpts_alpha_v3')"
   ]
  },
  {
   "cell_type": "code",
   "execution_count": 16,
   "metadata": {
    "collapsed": true
   },
   "outputs": [],
   "source": [
    "orderOpts = []\n",
    "for opt in opts:\n",
    "    orderOpts += [opt*pow(10,6)]"
   ]
  },
  {
   "cell_type": "code",
   "execution_count": 17,
   "metadata": {
    "collapsed": true
   },
   "outputs": [],
   "source": [
    "edgeOdfs = odfs[:5000]+odfs[-5000:]\n",
    "edgeLabels = orderOpts[:5000]+orderOpts[-5000:]\n",
    "\n",
    "edgeOdfs,edgeLabels = shuffle(edgeOdfs,edgeLabels)"
   ]
  },
  {
   "cell_type": "code",
   "execution_count": 18,
   "metadata": {},
   "outputs": [
    {
     "name": "stdout",
     "output_type": "stream",
     "text": [
      "21 : 0.517455555584\n",
      "20 : 0.482544444416\n",
      "49 : 0.0\n"
     ]
    }
   ],
   "source": [
    "clf = RandomForestRegressor(max_depth=2, random_state=0)\n",
    "clf.fit(edgeOdfs, edgeLabels)\n",
    "features = clf.feature_importances_\n",
    "indices = argsort(features)[::-1]\n",
    "values = sorted(features, reverse=True)\n",
    "for i in range(3):\n",
    "    print indices[i], ':',values[i]"
   ]
  },
  {
   "cell_type": "code",
   "execution_count": 20,
   "metadata": {},
   "outputs": [
    {
     "data": {
      "text/plain": [
       "(8.379588e-06, 8.465094e-06, 8.507847e-06)"
      ]
     },
     "execution_count": 20,
     "metadata": {},
     "output_type": "execute_result"
    }
   ],
   "source": [
    "LP = 8.5506e-06\n",
    "limit1 = 0.98 *LP\n",
    "limit2 = 0.99 *LP\n",
    "limit3 = 0.995 *LP\n",
    "limit1,limit2,limit3"
   ]
  },
  {
   "cell_type": "code",
   "execution_count": 21,
   "metadata": {},
   "outputs": [
    {
     "name": "stdout",
     "output_type": "stream",
     "text": [
      "76 6 0\n"
     ]
    }
   ],
   "source": [
    "count1,count2,count3,count4 = 0,0,0,0\n",
    "flag,i = True,-1\n",
    "flag1,flag2 = -1,-1\n",
    "while flag:\n",
    "    i+=1\n",
    "    if opts[i]>limit1:\n",
    "        count1 += 1\n",
    "        if opts[i]>limit2:\n",
    "            count2 += 1\n",
    "            if opts[i]>limit3:\n",
    "                count3 += 1\n",
    "#                 if opts[i]>limit4:\n",
    "#                     count4 += 1\n",
    "    else:\n",
    "        flag = False\n",
    "\n",
    "print count1, count2,count3"
   ]
  },
  {
   "cell_type": "code",
   "execution_count": 22,
   "metadata": {},
   "outputs": [
    {
     "data": {
      "image/png": "[encoded data removed]",
      "text/plain": [
       "<matplotlib.figure.Figure at 0x147815410>"
      ]
     },
     "metadata": {},
     "output_type": "display_data"
    }
   ],
   "source": [
    "plt.hist(opts,bins=150)\n",
    "plt.title(\"Frequency Distribution of yield\")\n",
    "plt.xlabel(\"alpha x 10^-6\")\n",
    "plt.ylabel(\"Frequency\")\n",
    "plt.show()"
   ]
  },
  {
   "cell_type": "code",
   "execution_count": 15,
   "metadata": {},
   "outputs": [
    {
     "name": "stdout",
     "output_type": "stream",
     "text": [
      "0 alpha_SmallPartition2_1000.mat 8.17374449993e-06\n",
      "1 alpha_SmallPartition2_150000.mat 8.23894653981e-06\n",
      "2 alpha_SmallPartition4_300000.mat 8.47473013943e-06\n",
      "3 alpha_SmallPartition7_1000000.mat 8.40968298254e-06\n",
      "4 alpha_SmallPartition9_300000.mat 8.36464489658e-06\n",
      "5 data1_first3Generator_50000.mat 8.39280126781e-06\n",
      "6 data1_first4Generator_3000.mat 8.28683195813e-06\n",
      "7 data1_first4Generator_50000.mat 8.38230117219e-06\n",
      "8 data1_first5Generator_2000.mat 8.29848883699e-06\n",
      "9 data1_first5Generator_200000.mat 8.36518413247e-06\n",
      "10 data1_first5Generator_3000.mat 8.28203062114e-06\n",
      "11 data1_first6Generator_200000.mat 8.37637156554e-06\n",
      "12 data1_first7Generator_50000.mat 8.34820481704e-06\n",
      "13 data_SmallPartition15_500000.mat 8.34448619876e-06\n",
      "14 data_SmallPartition2_1000000.mat 8.25465173964e-06\n",
      "15 data_SmallPartition2_250000.mat 8.26886780278e-06\n",
      "16 data_SmallPartition3_1000000.mat 8.43336742794e-06\n",
      "17 data_SmallPartition3_250000.mat 8.39730431225e-06\n",
      "18 data_SmallPartition4_1000000.mat 8.46295370202e-06\n",
      "19 data_SmallPartition4_20000.mat 8.41932988692e-06\n",
      "20 data_SmallPartition4_250000.mat 8.46813346944e-06\n",
      "21 data_SmallPartition5_1000000.mat 8.44659852091e-06\n",
      "22 data_SmallPartition5_20000.mat 8.29004704549e-06\n",
      "23 data_SmallPartition5_250000.mat 8.395070163e-06\n",
      "24 data_SmallPartition6_1000000.mat 8.46663493502e-06\n",
      "25 data_SmallPartition7_1000000.mat 8.45092287992e-06\n",
      "26 data_SmallPartition8_1000000.mat 8.42066974912e-06\n"
     ]
    }
   ],
   "source": [
    "for i in range(len(data)):\n",
    "    print i,Filename[i],maxOpt[i]"
   ]
  },
  {
   "cell_type": "code",
   "execution_count": 24,
   "metadata": {},
   "outputs": [
    {
     "data": {
      "image/png": "[encoded data removed]",
      "text/plain": [
       "<matplotlib.figure.Figure at 0x14a02ba10>"
      ]
     },
     "metadata": {},
     "output_type": "display_data"
    }
   ],
   "source": [
    "indices = list(range(50))\n",
    "List = []\n",
    "for i in range(50):\n",
    "    List += [0]\n",
    "    \n",
    "for odf in odfs:\n",
    "    nz = nonzero(odf)[0].tolist()\n",
    "    for elem in nz:\n",
    "        List[elem] += 1\n",
    "\n",
    "average = []\n",
    "for i in indices:\n",
    "    average += [float(List[i])/float(len(odfs))]\n",
    "Plot(indices, average,\"ODF dimension\",\"fraction of non-zero values\",\"all ODFs\")"
   ]
  },
  {
   "cell_type": "code",
   "execution_count": 26,
   "metadata": {},
   "outputs": [
    {
     "data": {
      "image/png": "[encoded data removed]",
      "text/plain": [
       "<matplotlib.figure.Figure at 0x147508f90>"
      ]
     },
     "metadata": {},
     "output_type": "display_data"
    }
   ],
   "source": [
    "topOdfs = odfs[:5000]\n",
    "topList = []\n",
    "for i in range(50):\n",
    "    topList += [0]\n",
    "    \n",
    "for odf in topOdfs:\n",
    "    nz = nonzero(odf)[0].tolist()\n",
    "    for elem in nz:\n",
    "        topList[elem] += 1\n",
    "\n",
    "topAverage = []\n",
    "for i in indices:\n",
    "    topAverage += [float(topList[i])/float(len(topOdfs))]\n",
    "Plot(indices, topAverage,\"ODF dimension\",\"fraction of non-zero values\",\"ODFs yielding highest yield stress for given Constraint\")"
   ]
  },
  {
   "cell_type": "code",
   "execution_count": 27,
   "metadata": {},
   "outputs": [
    {
     "data": {
      "text/plain": [
       "[(0, 0.6872),\n",
       " (1, 0.4618),\n",
       " (29, 0.3876),\n",
       " (18, 0.3572),\n",
       " (10, 0.3546),\n",
       " (19, 0.3538),\n",
       " (7, 0.3528),\n",
       " (6, 0.3514),\n",
       " (11, 0.3494),\n",
       " (23, 0.3234)]"
      ]
     },
     "execution_count": 27,
     "metadata": {},
     "output_type": "execute_result"
    }
   ],
   "source": [
    "dictionary = {}\n",
    "for i in range(len(indices)):\n",
    "    dictionary[indices[i]]=topAverage[i]\n",
    "sorted_dict = sorted(dictionary.items(), key=operator.itemgetter(1),reverse=True)\n",
    "sorted_dict[:10]"
   ]
  },
  {
   "cell_type": "code",
   "execution_count": 28,
   "metadata": {},
   "outputs": [
    {
     "name": "stdout",
     "output_type": "stream",
     "text": [
      "[0, 1, 2, 3, 4, 5, 6, 7, 8, 9, 10, 11, 12, 13, 14, 15, 16, 17, 18, 19, 20, 21, 22, 23, 24, 25, 26, 27, 28, 29, 30, 31, 32, 33, 34, 35, 36, 37, 38, 39, 40, 41, 42, 43, 44, 45, 46, 47, 48, 49]\n",
      "[0, 9, 18, 29]\n",
      "[0, 18, 22, 29]\n",
      "[0, 19, 29, 33]\n",
      "[0, 14, 18, 25, 29, 33]\n",
      "[0, 6, 8, 19, 24, 29]\n",
      "[0, 10, 18, 29]\n",
      "[0, 18, 19, 29, 31, 38]\n",
      "[0, 7, 18, 27, 29, 43, 44]\n",
      "[0, 7, 19, 29, 40]\n",
      "[0, 10, 18, 23, 29]\n",
      "[0, 19, 29, 33, 47]\n",
      "[0, 10, 19, 29]\n",
      "[1, 23, 29]\n",
      "[0, 19, 29]\n",
      "[0, 8, 18, 20, 29, 45]\n",
      "[0, 7, 12, 18, 19, 29, 40]\n",
      "[0, 23, 29]\n",
      "[0, 12, 19, 29, 34, 36, 44, 46]\n",
      "[0, 4, 23, 29, 30]\n"
     ]
    }
   ],
   "source": [
    "for i in range(20):\n",
    "    print posOdf(odfs[i])"
   ]
  }
 ],
 "metadata": {
  "anaconda-cloud": {},
  "kernelspec": {
   "display_name": "Python 2",
   "language": "python",
   "name": "python2"
  },
  "language_info": {
   "codemirror_mode": {
    "name": "ipython",
    "version": 2
   },
   "file_extension": ".py",
   "mimetype": "text/x-python",
   "name": "python",
   "nbconvert_exporter": "python",
   "pygments_lexer": "ipython2",
   "version": "2.7.13"
  }
 },
 "nbformat": 4,
 "nbformat_minor": 1
}
