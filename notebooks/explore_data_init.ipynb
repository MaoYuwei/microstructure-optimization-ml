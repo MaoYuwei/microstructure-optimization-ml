{
 "cells": [
  {
   "cell_type": "code",
   "execution_count": 2,
   "metadata": {
    "collapsed": true
   },
   "outputs": [],
   "source": [
    "load linprog849_compliance_node\n",
    "compliance = propmat(1:36,:);\n",
    "\n",
    "load linprog_yield_node\n",
    "yield = propmat;"
   ]
  },
  {
   "cell_type": "code",
   "execution_count": 3,
   "metadata": {},
   "outputs": [
    {
     "name": "stdout",
     "output_type": "stream",
     "text": [
      "\n",
      "odf = \n",
      "\n",
      "  struct with fields:\n",
      "\n",
      "    randsize: 50\n",
      "        odfs: [40�389 double]\n",
      "        Data: [40�391 double]\n",
      "     t_Y_REk: 3.1870\n",
      "\n"
     ]
    }
   ],
   "source": [
    "odf = load('yield_first5Generator_50.mat')"
   ]
  },
  {
   "cell_type": "code",
   "execution_count": 4,
   "metadata": {
    "collapsed": true
   },
   "outputs": [],
   "source": [
    "ODF = odf.odfs(1,1:388);"
   ]
  },
  {
   "cell_type": "code",
   "execution_count": 36,
   "metadata": {},
   "outputs": [
    {
     "name": "stdout",
     "output_type": "stream",
     "text": [
      "\n",
      "ans =\n",
      "\n",
      "     1   388\n",
      "\n",
      "\n",
      "ans =\n",
      "\n",
      "    36   388\n",
      "\n",
      "\n",
      "ans =\n",
      "\n",
      "   388     1\n",
      "\n"
     ]
    }
   ],
   "source": [
    "size(yield), size(compliance), size(ODF')"
   ]
  },
  {
   "cell_type": "code",
   "execution_count": 35,
   "metadata": {},
   "outputs": [
    {
     "name": "stdout",
     "output_type": "stream",
     "text": [
      "\n",
      "ans =\n",
      "\n",
      "  205.7612\n",
      "\n"
     ]
    }
   ],
   "source": [
    "yield*ODF'"
   ]
  },
  {
   "cell_type": "code",
   "execution_count": 5,
   "metadata": {
    "collapsed": true
   },
   "outputs": [],
   "source": [
    "S = compliance*ODF';"
   ]
  },
  {
   "cell_type": "code",
   "execution_count": 6,
   "metadata": {},
   "outputs": [
    {
     "name": "stdout",
     "output_type": "stream",
     "text": [
      "\n",
      "S11 =\n",
      "\n",
      "    0.1436\n",
      "\n"
     ]
    }
   ],
   "source": [
    "S11 = S(1,:) "
   ]
  },
  {
   "cell_type": "code",
   "execution_count": 8,
   "metadata": {},
   "outputs": [
    {
     "name": "stdout",
     "output_type": "stream",
     "text": [
      "\n",
      "S22 =\n",
      "\n",
      "    0.1236\n",
      "\n"
     ]
    }
   ],
   "source": [
    "S22 = S(8,:) "
   ]
  },
  {
   "cell_type": "code",
   "execution_count": 9,
   "metadata": {},
   "outputs": [
    {
     "name": "stdout",
     "output_type": "stream",
     "text": [
      "\n",
      "ans =\n",
      "\n",
      "    36\n",
      "\n"
     ]
    }
   ],
   "source": [
    "length(S)"
   ]
  },
  {
   "cell_type": "code",
   "execution_count": 10,
   "metadata": {
    "collapsed": true
   },
   "outputs": [],
   "source": [
    "Smatrix = reshape(S,6,6);"
   ]
  },
  {
   "cell_type": "code",
   "execution_count": 2,
   "metadata": {
    "collapsed": true
   },
   "outputs": [],
   "source": [
    "x = load('linprog_yield_node');"
   ]
  },
  {
   "cell_type": "code",
   "execution_count": 3,
   "metadata": {},
   "outputs": [
    {
     "name": "stderr",
     "output_type": "stream",
     "text": [
      "\u001b[0;31mError using eval\n",
      "Undefined function or variable 'volumefraction'.\n",
      "\n",
      "\u001b[0m"
     ]
    }
   ],
   "source": [
    "x.volume"
   ]
  },
  {
   "cell_type": "code",
   "execution_count": 8,
   "metadata": {
    "collapsed": true
   },
   "outputs": [],
   "source": [
    "odfDim = 388;"
   ]
  },
  {
   "cell_type": "code",
   "execution_count": 3,
   "metadata": {
    "collapsed": true
   },
   "outputs": [],
   "source": [
    "dsize = 100;\n",
    "fsize = 3;"
   ]
  },
  {
   "cell_type": "code",
   "execution_count": 4,
   "metadata": {
    "collapsed": true
   },
   "outputs": [],
   "source": [
    "cutsize = fsize - 1;\n",
    "randSep = sort(rand(1,cutsize));\n",
    "\n"
   ]
  },
  {
   "cell_type": "code",
   "execution_count": 5,
   "metadata": {
    "collapsed": true
   },
   "outputs": [],
   "source": [
    "randIntvl = diff([0,randSep,1]);"
   ]
  },
  {
   "cell_type": "code",
   "execution_count": 9,
   "metadata": {
    "collapsed": true
   },
   "outputs": [],
   "source": [
    "randInd = randperm(odfDim,fsize);"
   ]
  },
  {
   "cell_type": "code",
   "execution_count": 4,
   "metadata": {},
   "outputs": [
    {
     "name": "stdout",
     "output_type": "stream",
     "text": [
      "\n",
      "population =\n",
      "\n",
      "  Columns 1 through 13\n",
      "\n",
      "   385   372   315   246   374    42   313   317   196   334   337   369   371\n",
      "\n",
      "  Columns 14 through 26\n",
      "\n",
      "   384     3   257   264   266   139   142   272   147   153   324    27   157\n",
      "\n",
      "  Columns 27 through 39\n",
      "\n",
      "    32   161   163    38   295   305   310   314   194   182   225   177   332\n",
      "\n",
      "  Columns 40 through 52\n",
      "\n",
      "   339   340   214   343    91   350   351   224   367   108   365   381   368\n",
      "\n",
      "  Columns 53 through 54\n",
      "\n",
      "   125   255\n",
      "\n"
     ]
    }
   ],
   "source": [
    "load populationYield_nonLinear;\n",
    "population"
   ]
  },
  {
   "cell_type": "code",
   "execution_count": 6,
   "metadata": {
    "collapsed": true
   },
   "outputs": [],
   "source": [
    "data = load('alphatitaniummedium.mat');"
   ]
  },
  {
   "cell_type": "code",
   "execution_count": null,
   "metadata": {},
   "outputs": [
    {
     "name": "stdout",
     "output_type": "stream",
     "text": [
      "\n",
      "data = \n",
      "\n",
      "  struct with fields:\n",
      "\n",
      "      volumefraction: [1�388 double]\n",
      "           stiffness: [36�388 double]\n",
      "    thermalexpansion: [9�388 double]\n",
      "\n"
     ]
    }
   ],
   "source": [
    "data"
   ]
  },
  {
   "cell_type": "code",
   "execution_count": 9,
   "metadata": {},
   "outputs": [
    {
     "name": "stdout",
     "output_type": "stream",
     "text": [
      "\n",
      "b = \n",
      "\n",
      "    \"hellohi\"\n",
      "\n"
     ]
    }
   ],
   "source": [
    "a = \"hello\";\n",
    "b = a+\"hi\";\n",
    "b"
   ]
  }
 ],
 "metadata": {
  "kernelspec": {
   "display_name": "Matlab",
   "language": "matlab",
   "name": "matlab"
  },
  "language_info": {
   "codemirror_mode": "octave",
   "file_extension": ".m",
   "help_links": [
    {
     "text": "MetaKernel Magics",
     "url": "https://github.com/calysto/metakernel/blob/master/metakernel/magics/README.md"
    }
   ],
   "mimetype": "text/x-matlab",
   "name": "matlab",
   "version": "0.14.3"
  }
 },
 "nbformat": 4,
 "nbformat_minor": 2
}
