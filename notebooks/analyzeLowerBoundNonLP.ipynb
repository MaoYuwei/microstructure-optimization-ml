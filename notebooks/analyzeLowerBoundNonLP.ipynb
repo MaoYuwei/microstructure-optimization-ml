{
 "cells": [
  {
   "cell_type": "code",
   "execution_count": 1,
   "metadata": {
    "collapsed": true
   },
   "outputs": [],
   "source": [
    "%matplotlib inline\n",
    "from scipy.io import loadmat,savemat\n",
    "from scipy.linalg import *\n",
    "from numpy import *\n",
    "from os import listdir\n",
    "import pickle,operator\n",
    "import matplotlib.pyplot as plt"
   ]
  },
  {
   "cell_type": "markdown",
   "metadata": {},
   "source": [
    "## Max yield stress\n",
    "##### Subject to:\n",
    "### S11>= 0.015 (1/GPa)\n",
    "### S22>= 0.10 (1/GPa)\n",
    "#### Unit volumefraction constraint\n"
   ]
  },
  {
   "cell_type": "code",
   "execution_count": 4,
   "metadata": {
    "collapsed": true
   },
   "outputs": [],
   "source": [
    "def loadData(name,path):\n",
    "    '''\n",
    "    This loads a pickle file and returns the content which is a DICTIONARY object in our case.\n",
    "    '''\n",
    "    if \".pkl\" in name:\n",
    "            name = name.split(\".pkl\")[0]\n",
    "    if \"/\" in name:\n",
    "            name = name.split(\"/\",1)[1]\n",
    "\n",
    "    with open(path+\"/\"+name + '.pkl', 'rb') as f:\n",
    "          return pickle.load(f)\n",
    "\n",
    "def saveData(obj, name,path):\n",
    "    '''\n",
    "    This saves a object into a pickle file. In our case, it is generally a DICTIONARY object.\n",
    "    '''\n",
    "\n",
    "    with open(path+\"/\"+name + '.pkl', 'wb') as f:\n",
    "            pickle.dump(obj, f)#, pickle.HIGHEST_PROTOCOL)"
   ]
  },
  {
   "cell_type": "code",
   "execution_count": 3,
   "metadata": {
    "collapsed": true
   },
   "outputs": [],
   "source": [
    "def Plot(x,y,labelX=\"\",labelY=\"\",title=\"\"):\n",
    "    plt.plot(x,y)\n",
    "    plt.xlabel(labelX)\n",
    "    plt.ylabel(labelY)\n",
    "    plt.title(title)"
   ]
  },
  {
   "cell_type": "markdown",
   "metadata": {},
   "source": [
    "## Optimum single crystal\n",
    "Yield Stress = 414.9554\n",
    "S11 = 0.0645\n",
    "S22 = 0.2122\n",
    "\n",
    "## Optimum polycrystal (LP)\n",
    "Yield Stress = 423.8462\n",
    "S11 = 0.0150\n",
    "S22 = 0.1073\n"
   ]
  },
  {
   "cell_type": "code",
   "execution_count": 2,
   "metadata": {
    "collapsed": true
   },
   "outputs": [],
   "source": [
    "def FiveSig(x):\n",
    "    return float(\"{0:.5f}\".format(x))"
   ]
  },
  {
   "cell_type": "code",
   "execution_count": 5,
   "metadata": {
    "collapsed": true
   },
   "outputs": [],
   "source": [
    "def getS11S22(odf):\n",
    "\n",
    "    S = compliance.dot(odf).reshape(6,6)  # averaged compliance matrix\n",
    "    S11 = S[0][0]\n",
    "    S22 = S[1][1]\n",
    "    return S11, S22"
   ]
  },
  {
   "cell_type": "code",
   "execution_count": 29,
   "metadata": {},
   "outputs": [],
   "source": [
    "data = []\n",
    "\n",
    "Filename = []\n",
    "for File in listdir('yieldData'):\n",
    "\n",
    "    Filename += [File]\n",
    "    data += [loadmat('yieldData/'+File)]"
   ]
  },
  {
   "cell_type": "code",
   "execution_count": 21,
   "metadata": {},
   "outputs": [
    {
     "data": {
      "text/plain": [
       "389"
      ]
     },
     "execution_count": 21,
     "metadata": {},
     "output_type": "execute_result"
    }
   ],
   "source": [
    "len(data[0]['odfs'][0].tolist())"
   ]
  },
  {
   "cell_type": "code",
   "execution_count": 33,
   "metadata": {},
   "outputs": [],
   "source": [
    "count =0\n",
    "for i in range(len(data)):\n",
    "    for j in range(len(data[i]['Data'])):\n",
    "        S = data[i]['Data'][j].tolist()\n",
    "        S11 = S[388]\n",
    "        S22 = S[389]\n",
    "        count += 1\n",
    "        if S11<0.015 or S22<0.1:\n",
    "            print S11,S22\n",
    "# print count"
   ]
  }
 ],
 "metadata": {
  "anaconda-cloud": {},
  "kernelspec": {
   "display_name": "Python 2",
   "language": "python",
   "name": "python2"
  },
  "language_info": {
   "codemirror_mode": {
    "name": "ipython",
    "version": 2
   },
   "file_extension": ".py",
   "mimetype": "text/x-python",
   "name": "python",
   "nbconvert_exporter": "python",
   "pygments_lexer": "ipython2",
   "version": "2.7.13"
  }
 },
 "nbformat": 4,
 "nbformat_minor": 1
}
