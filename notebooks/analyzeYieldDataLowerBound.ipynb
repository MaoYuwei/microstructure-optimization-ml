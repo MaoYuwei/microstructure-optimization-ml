{
 "cells": [
  {
   "cell_type": "code",
   "execution_count": 2,
   "metadata": {
    "collapsed": true
   },
   "outputs": [],
   "source": [
    "%matplotlib inline\n",
    "from scipy.io import loadmat,savemat\n",
    "from scipy.linalg import *\n",
    "from numpy import *\n",
    "from os import listdir\n",
    "from random import choice\n",
    "import pickle,operator,pandas\n",
    "import matplotlib.pyplot as plt\n",
    "from sklearn.utils import shuffle\n",
    "from sklearn.ensemble import RandomForestClassifier,RandomForestRegressor"
   ]
  },
  {
   "cell_type": "code",
   "execution_count": 3,
   "metadata": {
    "collapsed": true
   },
   "outputs": [],
   "source": [
    "import matplotlib as mpl\n",
    "\n",
    "#To make sure we have always the same matplotlib settings\n",
    "#(the ones in comments are the ipython notebook settings)\n",
    "\n",
    "mpl.rcParams['figure.figsize']=(8.0,6.0)    #(6.0,4.0)\n",
    "mpl.rcParams['font.size']=12                #10 \n",
    "mpl.rcParams['savefig.dpi']=100             #72 \n",
    "mpl.rcParams['figure.subplot.bottom']=.1    #.125"
   ]
  },
  {
   "cell_type": "code",
   "execution_count": 4,
   "metadata": {
    "collapsed": true
   },
   "outputs": [],
   "source": [
    "DIM = 388"
   ]
  },
  {
   "cell_type": "markdown",
   "metadata": {},
   "source": [
    "### <font color=\"red\">Objective: Maximize the yield stress sigma(y)</font>\n",
    "\n",
    "\n",
    "### <font color=\"green\">max sigma(y)</font>\n",
    "subject to :\n",
    "#####  <font color=\"orange\">   a. 0<=S11<=0.015</font>\n",
    "#####  <font color=\"teal\">  b. 0<=S22<= 0.01</font>\n"
   ]
  },
  {
   "cell_type": "code",
   "execution_count": 5,
   "metadata": {
    "collapsed": true
   },
   "outputs": [],
   "source": [
    "complianceMat = loadmat('linprog849_compliance_node.mat')"
   ]
  },
  {
   "cell_type": "code",
   "execution_count": 6,
   "metadata": {
    "collapsed": true
   },
   "outputs": [],
   "source": [
    "yieldMat = loadmat('linprog_yield_node')\n",
    "Yield = yieldMat['propmat']"
   ]
  },
  {
   "cell_type": "code",
   "execution_count": 7,
   "metadata": {
    "collapsed": true
   },
   "outputs": [],
   "source": [
    "compliance = complianceMat['propmat'][:36]\n",
    "volumefraction = complianceMat['propmat'][36]"
   ]
  },
  {
   "cell_type": "code",
   "execution_count": 8,
   "metadata": {
    "collapsed": true
   },
   "outputs": [],
   "source": [
    "def Plot(x,y,labelX=\"\",labelY=\"\",title=\"\",size=(6,4)):\n",
    "    choiceColor = str(choice(['r','b','y','c','g','m']))\n",
    "    fig = plt.figure(figsize=size)\n",
    "    plt.plot(x,y,choiceColor)\n",
    "    plt.xlabel(labelX)\n",
    "    plt.ylabel(labelY)\n",
    "    plt.title(title)"
   ]
  },
  {
   "cell_type": "code",
   "execution_count": 9,
   "metadata": {
    "collapsed": true
   },
   "outputs": [],
   "source": [
    "def getAverage(odfs):\n",
    "    List = []\n",
    "    indices = list(range(DIM))\n",
    "    for i in range(DIM):\n",
    "        List += [0]\n",
    "\n",
    "    for odf in odfs:\n",
    "        nz = nonzero(odf)[0].tolist()\n",
    "        for elem in nz:\n",
    "            List[elem] += 1\n",
    "\n",
    "    average = []\n",
    "    for i in indices:\n",
    "        average += [float(List[i])/float(len(odfs))]\n",
    "    return average\n",
    "        \n",
    "def getTopAverage(odfs):\n",
    "    topOdfs = odfs[:5000]\n",
    "    topList = []\n",
    "    indices = list(range(DIM))\n",
    "\n",
    "\n",
    "    for i in range(DIM):\n",
    "        topList += [0]\n",
    "\n",
    "    for odf in topOdfs:\n",
    "        nz = nonzero(odf)[0].tolist()\n",
    "        for elem in nz:\n",
    "            topList[elem] += 1\n",
    "\n",
    "    topAverage = []\n",
    "    for i in indices:\n",
    "        topAverage += [float(topList[i])/float(len(topOdfs))]\n",
    "    \n",
    "    return topAverage"
   ]
  },
  {
   "cell_type": "code",
   "execution_count": 10,
   "metadata": {
    "collapsed": true
   },
   "outputs": [],
   "source": [
    "def loadData(name,path):\n",
    "    '''\n",
    "    This loads a pickle file and returns the content which is a DICTIONARY object in our case.\n",
    "    '''\n",
    "    if \".pkl\" in name:\n",
    "            name = name.split(\".pkl\")[0]\n",
    "    if \"/\" in name:\n",
    "            name = name.split(\"/\",1)[1]\n",
    "\n",
    "    with open(path+\"/\"+name + '.pkl', 'rb') as f:\n",
    "          return pickle.load(f)\n",
    "\n",
    "def saveData(obj, name,path):\n",
    "    '''\n",
    "    This saves a object into a pickle file. In our case, it is generally a DICTIONARY object.\n",
    "    '''\n",
    "\n",
    "    with open(path+\"/\"+name + '.pkl', 'wb') as f:\n",
    "            pickle.dump(obj, f)#, pickle.HIGHEST_PROTOCOL)"
   ]
  },
  {
   "cell_type": "code",
   "execution_count": 11,
   "metadata": {
    "collapsed": true
   },
   "outputs": [],
   "source": [
    "def loadNumpy(name,path='numpyData'):\n",
    "    fullPath = path+'/'+name+'.npy'\n",
    "    return load(fullPath)\n",
    "    \n",
    "\n",
    "def saveNumpy(obj, name, path='numpyData'):\n",
    "    fullPath = path+'/'+name\n",
    "    save(fullPath, obj)\n",
    "    print name,'saved successfully in',path"
   ]
  },
  {
   "cell_type": "code",
   "execution_count": 41,
   "metadata": {
    "collapsed": true
   },
   "outputs": [],
   "source": [
    "def posOdf(odf):\n",
    "    return nonzero(odf)[0].tolist()\n",
    "\n",
    "def printOdfVal(odf):\n",
    "    List = posOdf(odf)\n",
    "    for elem in List:\n",
    "        print elem,':',odf[elem],\n",
    "    print\n",
    "\n",
    "def getSum(odf):\n",
    "    Sum = 0\n",
    "    for i in range(DIM):\n",
    "        Sum += volumefraction[i]*odf[i]\n",
    "    return Sum\n",
    "\n",
    "def checkSum(odf):\n",
    "    Sum = FiveSig(getSum(odf))\n",
    "    if Sum !=1.0:\n",
    "        return False\n",
    "    else:\n",
    "        return True\n",
    "def FiveSig(x):\n",
    "    return float(\"{0:.5f}\".format(x))"
   ]
  },
  {
   "cell_type": "code",
   "execution_count": null,
   "metadata": {
    "collapsed": true
   },
   "outputs": [],
   "source": [
    "dictionary = {}\n",
    "for i in range(len(indices)):\n",
    "    dictionary[indices[i]]=topAverage[i]\n",
    "sorted_dict = sorted(dictionary.items(), key=operator.itemgetter(1),reverse=True)\n",
    "sorted_dict[:10]"
   ]
  },
  {
   "cell_type": "markdown",
   "metadata": {},
   "source": [
    "## Suggested Analysis\n",
    "1. Speed is slow because of \n",
    "2. Percentage satisfied across different techniques\n",
    "3. As it is finer mesh, it would take more time \n",
    "4. Write code to modify the simulation algorithms "
   ]
  },
  {
   "cell_type": "code",
   "execution_count": null,
   "metadata": {
    "collapsed": true
   },
   "outputs": [],
   "source": [
    "for i in range(10):\n",
    "    print int(exp(random.uniform(log(10), log(4000))))\n",
    "    \n"
   ]
  },
  {
   "cell_type": "code",
   "execution_count": null,
   "metadata": {
    "collapsed": true
   },
   "outputs": [],
   "source": [
    "opts[:20]"
   ]
  },
  {
   "cell_type": "code",
   "execution_count": null,
   "metadata": {
    "collapsed": true
   },
   "outputs": [],
   "source": [
    "maxPoly = 423.8462\n",
    "NearLimit = maxPoly * 0.001\n",
    "FarLimit = maxPoly * 0.005"
   ]
  },
  {
   "cell_type": "code",
   "execution_count": null,
   "metadata": {
    "collapsed": true
   },
   "outputs": [],
   "source": [
    "countNear, countFar = 0,0\n",
    "for opt in opts[:30]:\n",
    "    if opt >maxPoly-NearLimit:\n",
    "        countNear += 1\n",
    "    elif opt >maxPoly-FarLimit:\n",
    "        countFar += 1"
   ]
  },
  {
   "cell_type": "code",
   "execution_count": null,
   "metadata": {
    "collapsed": true
   },
   "outputs": [],
   "source": [
    "countNear, countFar"
   ]
  },
  {
   "cell_type": "markdown",
   "metadata": {},
   "source": [
    "### <font color=\"red\">Objective: Maximize the yield stress sigma(y)</font>\n",
    "\n",
    "\n",
    "### <font color=\"green\">max sigma(y)</font>\n",
    "subject to :\n",
    "#####  <font color=\"orange\">   a. 0<=S11<=0.15</font>\n",
    "#####  <font color=\"teal\">  b. 0<=S22<= 0.1</font>"
   ]
  },
  {
   "cell_type": "markdown",
   "metadata": {},
   "source": [
    "### Initial List of Files"
   ]
  },
  {
   "cell_type": "code",
   "execution_count": null,
   "metadata": {
    "collapsed": true
   },
   "outputs": [],
   "source": [
    "data = []\n",
    "\n",
    "Filename = []\n",
    "for File in listdir('yieldLinearData'):\n",
    "\n",
    "    Filename += [File]\n",
    "    data += [loadmat('yieldLinearData/'+File)]\n"
   ]
  },
  {
   "cell_type": "markdown",
   "metadata": {},
   "source": [
    "### Adding new Files"
   ]
  },
  {
   "cell_type": "code",
   "execution_count": 57,
   "metadata": {},
   "outputs": [],
   "source": [
    "newFiles = list(set(listdir('yieldLinearData'))-set(Filename))\n",
    "for File in newFiles:\n",
    "\n",
    "    Filename += [File]\n",
    "    data += [loadmat('yieldLinearData/'+File)]"
   ]
  },
  {
   "cell_type": "code",
   "execution_count": 58,
   "metadata": {
    "collapsed": true
   },
   "outputs": [],
   "source": [
    "opts = []\n",
    "odfs = []\n",
    "constraint1 = []\n",
    "constraint2 = []\n",
    "# sortedOpts = []\n",
    "# sortedConstraints = []\n",
    "\n",
    "maxOdf = [[0]*DIM]*len(data)#, maxOdf]#, maxOdf]#, maxOdf]\n",
    "maxOpt = [0]*len(data)#4\n",
    "maxConstraint1= [0]*len(data)\n",
    "maxConstraint2 = [0]*len(data)\n",
    "\n",
    "count = 0\n",
    "total = 0\n",
    "\n",
    "for i in range(len(data)):\n",
    "    for odf in data[i]['Data']:\n",
    "        \n",
    "        odf = odf.tolist()\n",
    "        opts += [odf[DIM+2]]\n",
    "        constraint1 += [odf[DIM]]\n",
    "        constraint2 += [odf[DIM+1]]\n",
    "        \n",
    "        odfs += [odf[:DIM]]\n",
    "        \n",
    "        total += 1\n",
    "        \n",
    "        if checkSum(odf[:DIM]):\n",
    "            count += 1\n",
    "        if odf[DIM+2]>maxOpt[i]:\n",
    "            maxOpt[i] = odf[DIM+2]\n",
    "            maxConstraint1[i] = odf[DIM]\n",
    "            maxConstraint2[i] = odf[DIM+1]\n",
    "            maxOdf[i] = odf[:DIM]"
   ]
  },
  {
   "cell_type": "code",
   "execution_count": 59,
   "metadata": {
    "collapsed": true
   },
   "outputs": [],
   "source": [
    "combined = zip(constraint1,constraint2,opts,odfs)\n",
    "#combined.sort(key=lambda i: int(i[1]), reverse=True)\n",
    "combined.sort(key=lambda x:map(float, str(float(x[2])).split(\".\")), reverse=True)\n",
    "constraint1[:],constraint2[:],opts[:],odfs[:] = zip(*combined)"
   ]
  },
  {
   "cell_type": "code",
   "execution_count": 47,
   "metadata": {},
   "outputs": [
    {
     "name": "stdout",
     "output_type": "stream",
     "text": [
      "sorted_NB_Constraint1 saved successfully in numpyData\n",
      "sorted_NB_Constraint2 saved successfully in numpyData\n",
      "sorted_NB_Opts saved successfully in numpyData\n",
      "sorted_NB_Odfs saved successfully in numpyData\n"
     ]
    }
   ],
   "source": [
    "saveNumpy(constraint1,'sorted_NB_Constraint1')\n",
    "saveNumpy(constraint2,'sorted_NB_Constraint2')\n",
    "saveNumpy(opts,'sorted_NB_Opts')\n",
    "saveNumpy(odfs,'sorted_NB_Odfs')"
   ]
  },
  {
   "cell_type": "code",
   "execution_count": 60,
   "metadata": {},
   "outputs": [
    {
     "name": "stdout",
     "output_type": "stream",
     "text": [
      "sorted_NB_Constraint1_v2 saved successfully in numpyData\n",
      "sorted_NB_Constraint2_v2 saved successfully in numpyData\n",
      "sorted_NB_Opts_v2 saved successfully in numpyData\n",
      "sorted_NB_Odfs_v2 saved successfully in numpyData\n"
     ]
    }
   ],
   "source": [
    "saveNumpy(constraint1,'sorted_NB_Constraint1_v2')\n",
    "saveNumpy(constraint2,'sorted_NB_Constraint2_v2')\n",
    "saveNumpy(opts,'sorted_NB_Opts_v2')\n",
    "saveNumpy(odfs,'sorted_NB_Odfs_v2')"
   ]
  },
  {
   "cell_type": "code",
   "execution_count": 48,
   "metadata": {
    "collapsed": true
   },
   "outputs": [],
   "source": [
    "opts = loadNumpy('sorted_NB_Opts')"
   ]
  },
  {
   "cell_type": "code",
   "execution_count": 64,
   "metadata": {},
   "outputs": [
    {
     "name": "stdout",
     "output_type": "stream",
     "text": [
      "334 : 606.516879586 385 : 402.381564628\n"
     ]
    },
    {
     "data": {
      "text/plain": [
       "(422.7688611340812, 0.020340759983943885, 0.09953201611250206)"
      ]
     },
     "execution_count": 64,
     "metadata": {},
     "output_type": "execute_result"
    }
   ],
   "source": [
    "printOdfVal(odfs[0])\n",
    "opts[0], constraint1[0],constraint2[0]"
   ]
  },
  {
   "cell_type": "markdown",
   "metadata": {},
   "source": [
    "### <font color=\"green\"> Random Forest Regression to find the top features for determining value </font> "
   ]
  },
  {
   "cell_type": "code",
   "execution_count": 61,
   "metadata": {
    "collapsed": true
   },
   "outputs": [],
   "source": [
    "\n",
    "edgeOdfs = odfs[:5000]+odfs[-5000:]\n",
    "edgeLabels = opts[:5000]+opts[-5000:]\n",
    "\n",
    "edgeOdfs,edgeLabels = shuffle(edgeOdfs,edgeLabels)"
   ]
  },
  {
   "cell_type": "code",
   "execution_count": 62,
   "metadata": {},
   "outputs": [
    {
     "data": {
      "text/plain": [
       "RandomForestRegressor(bootstrap=True, criterion='mse', max_depth=2,\n",
       "           max_features='auto', max_leaf_nodes=None,\n",
       "           min_impurity_split=1e-07, min_samples_leaf=1,\n",
       "           min_samples_split=2, min_weight_fraction_leaf=0.0,\n",
       "           n_estimators=10, n_jobs=1, oob_score=False, random_state=0,\n",
       "           verbose=0, warm_start=False)"
      ]
     },
     "execution_count": 62,
     "metadata": {},
     "output_type": "execute_result"
    }
   ],
   "source": [
    "clf = RandomForestRegressor(max_depth=2, random_state=0)\n",
    "clf.fit(edgeOdfs, edgeLabels)"
   ]
  },
  {
   "cell_type": "code",
   "execution_count": 65,
   "metadata": {},
   "outputs": [
    {
     "name": "stdout",
     "output_type": "stream",
     "text": [
      "385 : 0.81324030973\n",
      "334 : 0.131131493414\n",
      "337 : 0.0556281968565\n"
     ]
    }
   ],
   "source": [
    "features = clf.feature_importances_\n",
    "indices = argsort(features)[::-1]\n",
    "values = sorted(features, reverse=True)\n",
    "for i in range(3):\n",
    "    print indices[i], ':',values[i]"
   ]
  },
  {
   "cell_type": "code",
   "execution_count": 69,
   "metadata": {},
   "outputs": [
    {
     "data": {
      "text/plain": [
       "(418.6057750955329, 420.7199456768235, 422.41128214185596)"
      ]
     },
     "execution_count": 69,
     "metadata": {},
     "output_type": "execute_result"
    }
   ],
   "source": [
    "LP = 422.8341162581141\n",
    "limit1 = 0.99 *LP\n",
    "limit2 = 0.995 *LP\n",
    "limit3 = 0.999 * LP\n",
    "\n",
    "limit1,limit2,limit3"
   ]
  },
  {
   "cell_type": "code",
   "execution_count": 71,
   "metadata": {},
   "outputs": [
    {
     "name": "stdout",
     "output_type": "stream",
     "text": [
      "192 65 5\n"
     ]
    }
   ],
   "source": [
    "count1,count2,count3,count4 = 0,0,0,0\n",
    "flag,i = True,-1\n",
    "flag1,flag2 = -1,-1\n",
    "while flag:\n",
    "    i+=1\n",
    "    if opts[i]>limit1:\n",
    "        count1 += 1\n",
    "        if opts[i]>limit2:\n",
    "            count2 += 1\n",
    "            if opts[i]>limit3:\n",
    "                count3 += 1\n",
    "                \n",
    "    else:\n",
    "        flag = False\n",
    "\n",
    "print count1, count2, count3"
   ]
  },
  {
   "cell_type": "markdown",
   "metadata": {},
   "source": [
    "### <font color=\"magenta\"> Plots </font>"
   ]
  },
  {
   "cell_type": "code",
   "execution_count": 66,
   "metadata": {},
   "outputs": [
    {
     "data": {
      "image/png": "[encoded data removed]",
      "text/plain": [
       "<matplotlib.figure.Figure at 0x12389cd10>"
      ]
     },
     "metadata": {},
     "output_type": "display_data"
    }
   ],
   "source": [
    "plt.hist(opts,bins=150)\n",
    "plt.title(\"Frequency Distribution of yield\")\n",
    "plt.xlabel(\"yield stress (in MPa)\")\n",
    "plt.ylabel(\"Frequency\")\n",
    "plt.show()"
   ]
  },
  {
   "cell_type": "code",
   "execution_count": 74,
   "metadata": {},
   "outputs": [
    {
     "data": {
      "image/png": "[encoded data removed]",
      "text/plain": [
       "<matplotlib.figure.Figure at 0x1239d68d0>"
      ]
     },
     "metadata": {},
     "output_type": "display_data"
    }
   ],
   "source": [
    "indices = list(range(388))\n",
    "List = []\n",
    "for i in range(388):\n",
    "    List += [0]\n",
    "    \n",
    "for odf in odfs:\n",
    "    nz = nonzero(odf)[0].tolist()\n",
    "    for elem in nz:\n",
    "        List[elem] += 1\n",
    "\n",
    "average = []\n",
    "for i in indices:\n",
    "    average += [float(List[i])/float(len(odfs))]\n",
    "Plot(indices, average,\"ODF dimension\",\"fraction of non-zero values\",\"all ODFs\")"
   ]
  },
  {
   "cell_type": "code",
   "execution_count": 72,
   "metadata": {
    "collapsed": true
   },
   "outputs": [],
   "source": [
    "indices = list(range(388))\n",
    "topOdfs = odfs[:500]\n",
    "topList = []\n",
    "for i in range(388):\n",
    "    topList += [0]\n",
    "    \n",
    "for odf in topOdfs:\n",
    "    nz = nonzero(odf)[0].tolist()\n",
    "    for elem in nz:\n",
    "        topList[elem] += 1\n",
    "\n",
    "topAverage = []\n",
    "for i in indices:\n",
    "    topAverage += [float(topList[i])/float(len(topOdfs))]"
   ]
  },
  {
   "cell_type": "code",
   "execution_count": 73,
   "metadata": {},
   "outputs": [
    {
     "data": {
      "image/png": "[encoded data removed]",
      "text/plain": [
       "<matplotlib.figure.Figure at 0x123896190>"
      ]
     },
     "metadata": {},
     "output_type": "display_data"
    }
   ],
   "source": [
    "Plot(indices, topAverage,\"ODF dimension\",\"fraction of non-zero values\",\"top ODFs\")"
   ]
  }
 ],
 "metadata": {
  "anaconda-cloud": {},
  "kernelspec": {
   "display_name": "Python 2",
   "language": "python",
   "name": "python2"
  },
  "language_info": {
   "codemirror_mode": {
    "name": "ipython",
    "version": 2
   },
   "file_extension": ".py",
   "mimetype": "text/x-python",
   "name": "python",
   "nbconvert_exporter": "python",
   "pygments_lexer": "ipython2",
   "version": "2.7.13"
  }
 },
 "nbformat": 4,
 "nbformat_minor": 1
}
