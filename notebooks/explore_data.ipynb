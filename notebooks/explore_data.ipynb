{
 "cells": [
  {
   "cell_type": "code",
   "execution_count": 138,
   "metadata": {
    "collapsed": true
   },
   "outputs": [],
   "source": [
    "%matplotlib inline\n",
    "from scipy.io import loadmat,savemat\n",
    "from scipy.linalg import *\n",
    "from numpy import *\n",
    "from os import listdir\n",
    "#from sklearn.externals import joblib as pickle\n",
    "import pickle"
   ]
  },
  {
   "cell_type": "markdown",
   "metadata": {},
   "source": [
    "### <font color=\"red\">Objective: Maximize the stiffness coefficient C11</font>\n",
    "\n",
    "### <font color=\"orange\"> Design Constraint: C12 stiffness coefficient should be greater than 75 GPa.</font>\n",
    "\n",
    "## <font color=\"blue\"> Optimization problem formulation:</font>\n",
    "\n",
    "#### <font color=\"green\">max C11</font>\n",
    "<font color=\"green\"subject to :</font>\n",
    "<font color=\"purple\">  C12>75 GPa</font>\n"
   ]
  },
  {
   "cell_type": "code",
   "execution_count": 2,
   "metadata": {
    "collapsed": true
   },
   "outputs": [],
   "source": [
    "def loadData(name,path):\n",
    "    '''\n",
    "    This loads a pickle file and returns the content which is a DICTIONARY object in our case.\n",
    "    '''\n",
    "    if \".pkl\" in name:\n",
    "            name = name.split(\".pkl\")[0]\n",
    "    if \"/\" in name:\n",
    "            name = name.split(\"/\",1)[1]\n",
    "\n",
    "    with open(path+\"/\"+name + '.pkl', 'rb') as f:\n",
    "          return pickle.load(f)\n",
    "\n",
    "def saveData(obj, name,path):\n",
    "    '''\n",
    "    This saves a object into a pickle file. In our case, it is generally a DICTIONARY object.\n",
    "    '''\n",
    "\n",
    "    with open(path+\"/\"+name + '.pkl', 'wb') as f:\n",
    "            pickle.dump(obj, f)#, pickle.HIGHEST_PROTOCOL)"
   ]
  },
  {
   "cell_type": "markdown",
   "metadata": {},
   "source": [
    "### <font color=\"red\">Optimum polycrystal solution C11 =  167.7773  GPa</font>\n",
    "#### with \n",
    "##### <font color=\"blue\">C12 = 75.2360 GPa</font>"
   ]
  },
  {
   "cell_type": "markdown",
   "metadata": {},
   "source": [
    "### <font color=\"green\">Optimum single crystal solution</font>\n",
    "\n",
    "##### αx = 7.144e-6 (1/K)\n",
    "##### C11 = 164.9332 GPa\n",
    "##### C12 = 75.0058 GPa"
   ]
  },
  {
   "cell_type": "code",
   "execution_count": 11,
   "metadata": {
    "collapsed": true
   },
   "outputs": [],
   "source": [
    "titaniumData = loadmat('alphatitaniumsmall.mat')"
   ]
  },
  {
   "cell_type": "markdown",
   "metadata": {},
   "source": [
    "### <font color=\"blue\"> Extracting the data files </font>"
   ]
  },
  {
   "cell_type": "code",
   "execution_count": 12,
   "metadata": {},
   "outputs": [],
   "source": [
    "volumefraction = titaniumData['volumefraction'][0]\n",
    "thermalexpansion = titaniumData['thermalexpansion']\n",
    "stiffness = titaniumData['stiffness']"
   ]
  },
  {
   "cell_type": "code",
   "execution_count": 5,
   "metadata": {
    "collapsed": true
   },
   "outputs": [],
   "source": [
    "def results(odf):\n",
    "    \n",
    "    C11 = odf[50]\n",
    "    C12 = odf[51]\n",
    "    opt = odf[52]\n",
    "    return 'C11=',C11,'C12=',C12,'opt=',opt"
   ]
  },
  {
   "cell_type": "code",
   "execution_count": 7,
   "metadata": {},
   "outputs": [
    {
     "name": "stdout",
     "output_type": "stream",
     "text": [
      "C11= 156.856680219 C12= 79.6111939505 opt= 10000.0\n"
     ]
    }
   ],
   "source": [
    "C11 = odf[50]\n",
    "C12 = odf[51]\n",
    "opt = odf[52]\n",
    "print 'C11=',C11,'C12=',C12,'opt=',opt"
   ]
  },
  {
   "cell_type": "code",
   "execution_count": 50,
   "metadata": {},
   "outputs": [],
   "source": [
    "data = loadmat('data1_first5Generator_2000.mat')"
   ]
  },
  {
   "cell_type": "code",
   "execution_count": 52,
   "metadata": {},
   "outputs": [
    {
     "name": "stdout",
     "output_type": "stream",
     "text": [
      "1.0\n",
      "1.0\n",
      "1.0\n",
      "1.0\n",
      "1.0\n",
      "1.0\n",
      "1.0\n",
      "1.0\n",
      "1.0\n",
      "1.0\n",
      "1.0\n",
      "1.0\n",
      "1.0\n",
      "1.0\n",
      "1.0\n",
      "1.0\n",
      "1.0\n",
      "1.0\n",
      "1.0\n",
      "1.0\n",
      "1.0\n",
      "1.0\n",
      "1.0\n",
      "1.0\n",
      "1.0\n",
      "1.0\n",
      "1.0\n",
      "1.0\n",
      "1.0\n",
      "1.0\n",
      "1.0\n",
      "1.0\n",
      "1.0\n",
      "1.0\n",
      "1.0\n",
      "1.0\n"
     ]
    }
   ],
   "source": [
    "for odf in data['odfs']:\n",
    "    print getSum(odf[:50])"
   ]
  },
  {
   "cell_type": "code",
   "execution_count": 12,
   "metadata": {},
   "outputs": [
    {
     "data": {
      "text/plain": [
       "array([  2.85543098e-07,   7.38964043e-07,   2.06758806e-07,\n",
       "         2.28572458e-07,   2.28572458e-07,   2.06758806e-07,\n",
       "         1.82582886e-07,   1.82582886e-07,   2.26210191e-07,\n",
       "         2.26210191e-07,   1.80220619e-07,   1.80220619e-07,\n",
       "         2.02034271e-07,   2.02034271e-07,   1.14082861e-07,\n",
       "         1.14082861e-07,   9.94945119e-08,   9.94945119e-08,\n",
       "         1.23524102e-07,   1.23524102e-07,   9.43474030e-08,\n",
       "         9.43474030e-08,   1.18376993e-07,   1.18376993e-07,\n",
       "         1.03788644e-07,   1.03788644e-07,   8.36864040e-08,\n",
       "         6.61339175e-08,   9.24626472e-08,   5.73576743e-08,\n",
       "         8.36864040e-08,   6.61339175e-08,   7.84867566e-08,\n",
       "         9.33234456e-08,   7.84867566e-08,   9.33234456e-08,\n",
       "         6.36462118e-08,   6.36462118e-08,   9.33195898e-08,\n",
       "         9.33195898e-08,   6.36423560e-08,   6.36423560e-08,\n",
       "         7.84790450e-08,   7.84790450e-08,   1.01741053e-07,\n",
       "         8.06872806e-08,   1.12267939e-07,   7.01603945e-08,\n",
       "         1.01741053e-07,   8.06872806e-08])"
      ]
     },
     "execution_count": 12,
     "metadata": {},
     "output_type": "execute_result"
    }
   ],
   "source": [
    "titaniumDat = loadmat('alphatitaniumsmall.mat')\n",
    "titaniumDat['thermalexpansion'][0]"
   ]
  },
  {
   "cell_type": "code",
   "execution_count": 17,
   "metadata": {},
   "outputs": [
    {
     "data": {
      "text/plain": [
       "array([ 0.03153236,  0.08391342,  0.02473832,  0.02473832,  0.02473832,\n",
       "        0.02473832,  0.02473832,  0.02473832,  0.02473832,  0.02473832,\n",
       "        0.02473832,  0.02473832,  0.02473832,  0.02473832,  0.01320576,\n",
       "        0.01320576,  0.01320576,  0.01320576,  0.01320576,  0.01320576,\n",
       "        0.01320576,  0.01320576,  0.01320576,  0.01320576,  0.01320576,\n",
       "        0.01320576,  0.00985683,  0.00985683,  0.00985683,  0.00985683,\n",
       "        0.00985683,  0.00985683,  0.01016979,  0.01016979,  0.01016979,\n",
       "        0.01016979,  0.01016979,  0.01016979,  0.01016979,  0.01016979,\n",
       "        0.01016979,  0.01016979,  0.01016979,  0.01016979,  0.01197505,\n",
       "        0.01197505,  0.01197505,  0.01197505,  0.01197505,  0.01197505])"
      ]
     },
     "execution_count": 17,
     "metadata": {},
     "output_type": "execute_result"
    }
   ],
   "source": [
    "constraint = titaniumDat['volumefraction'][0]\n",
    "constraint"
   ]
  },
  {
   "cell_type": "code",
   "execution_count": 186,
   "metadata": {},
   "outputs": [],
   "source": [
    "data = []\n",
    "\n",
    "Filename = []\n",
    "for File in listdir('Data'):\n",
    "\n",
    "    Filename += [File]\n",
    "    data += [loadmat('Data/'+File)]\n",
    "\n"
   ]
  },
  {
   "cell_type": "code",
   "execution_count": 187,
   "metadata": {},
   "outputs": [],
   "source": [
    "opt = []\n",
    "opts = []\n",
    "odfs = []\n",
    "maxOdf = [0]*50\n",
    "maxOdfI = [[0]*50]*len(data)#, maxOdf]#, maxOdf]#, maxOdf]\n",
    "maxOpt = 0\n",
    "maxOptI = [0]*len(data)#4\n",
    "count = 0\n",
    "total = 0\n",
    "wrong = [[]]*len(data)\n",
    "countwrong = [0]*len(data)\n",
    "for i in range(len(data)):\n",
    "    for odf in data[i]['odfs']:\n",
    "        opt += [odf[50]]\n",
    "        odfs += [odf[:50]]\n",
    "        total += 1\n",
    "        if checkSum(odf[:50]):\n",
    "            count += 1\n",
    "        else:\n",
    "            wrong[i] += [odf[:50]]\n",
    "#             countwrong[i] += 1\n",
    "        if odf[50]>maxOpt:\n",
    "            maxOptI[i] = odf[50]\n",
    "            maxOdfI[i] = odf[:50]\n",
    "\n",
    "\n"
   ]
  },
  {
   "cell_type": "code",
   "execution_count": 188,
   "metadata": {},
   "outputs": [
    {
     "name": "stdout",
     "output_type": "stream",
     "text": [
      "0 C11_first4Generator_100000.mat 160.929742103 75.0047001813\n",
      "1 C11_first6Generator_20000.mat 159.121480109 75.5620115699\n",
      "2 C11_SmallPartition2_300000.mat 165.339382545 75.0454599649\n",
      "3 C11_SmallPartition3_300000.mat 159.571185539 76.9185158886\n",
      "4 C11_SmallPartition4_300000.mat 159.429380086 77.039245703\n",
      "5 C11_SmallPartition5_100000.mat 156.763634568 75.2168620574\n",
      "6 C11_SmallPartition5_300000.mat 159.592938815 75.5974784823\n",
      "7 C11_SmallPartition6_100000.mat 160.191147529 75.4785294383\n",
      "8 C11_SmallPartition7_100000.mat 157.199073186 77.1953144912\n",
      "9 data_SmallPartition2_1000.mat 155.667076773 76.209123008\n"
     ]
    }
   ],
   "source": [
    "for i in range(len(data)):\n",
    "    print i,Filename[i],maxOptI[i],getC12(maxOdfI[i])"
   ]
  },
  {
   "cell_type": "code",
   "execution_count": 189,
   "metadata": {},
   "outputs": [
    {
     "data": {
      "text/plain": [
       "(138487, 138487)"
      ]
     },
     "execution_count": 189,
     "metadata": {},
     "output_type": "execute_result"
    }
   ],
   "source": [
    "total,count"
   ]
  },
  {
   "cell_type": "code",
   "execution_count": 172,
   "metadata": {},
   "outputs": [
    {
     "data": {
      "text/plain": [
       "1.0"
      ]
     },
     "execution_count": 172,
     "metadata": {},
     "output_type": "execute_result"
    }
   ],
   "source": [
    "getSum(maxOdfI[4])"
   ]
  },
  {
   "cell_type": "code",
   "execution_count": 173,
   "metadata": {},
   "outputs": [
    {
     "data": {
      "text/plain": [
       "array([  4.97128194,   0.6408896 ,   0.        ,   1.40677917,\n",
       "         0.        ,   1.07988966,   1.4821351 ,   0.        ,\n",
       "         0.        ,   4.07633161,   0.        ,   0.        ,\n",
       "         0.        ,   0.94861838,   0.        ,   0.        ,\n",
       "         0.        ,   0.        ,  11.68759484,   0.        ,\n",
       "         0.        ,   0.        ,   3.56989487,   7.56411631,\n",
       "         0.        ,   0.        ,   0.        ,   0.        ,\n",
       "         0.        ,   0.        ,   0.        ,   6.11562875,\n",
       "         0.        ,   0.        ,   0.        ,   0.        ,\n",
       "         4.42492838,   5.55682217,   0.        ,   0.        ,\n",
       "         0.        ,  10.1806    ,   0.        ,   0.        ,\n",
       "         0.        ,   0.        ,   0.        ,   0.        ,\n",
       "         0.02254541,   0.        ])"
      ]
     },
     "execution_count": 173,
     "metadata": {},
     "output_type": "execute_result"
    }
   ],
   "source": [
    "maxOdfI[4]"
   ]
  },
  {
   "cell_type": "code",
   "execution_count": 170,
   "metadata": {},
   "outputs": [],
   "source": [
    "maxVal = {'odf':maxOdfI[4]}\n",
    "savemat('morethanLP.mat',maxVal)"
   ]
  },
  {
   "cell_type": "code",
   "execution_count": 120,
   "metadata": {},
   "outputs": [
    {
     "name": "stdout",
     "output_type": "stream",
     "text": [
      "1.03263293248\n",
      "1.04115590815\n",
      "1.01879753351\n",
      "1.04612337986\n",
      "1.00791291571\n",
      "1.01766999225\n",
      "1.0262664485\n",
      "1.03203885708\n",
      "1.02451084223\n",
      "1.04653812524\n"
     ]
    }
   ],
   "source": [
    "for odf in wrong[0][:10]:\n",
    "    print getSum(odf)"
   ]
  },
  {
   "cell_type": "code",
   "execution_count": 129,
   "metadata": {},
   "outputs": [
    {
     "data": {
      "text/plain": [
       "(1024, 1024)"
      ]
     },
     "execution_count": 129,
     "metadata": {},
     "output_type": "execute_result"
    }
   ],
   "source": [
    "total,count"
   ]
  },
  {
   "cell_type": "code",
   "execution_count": 30,
   "metadata": {},
   "outputs": [],
   "source": [
    "count = 0\n",
    "validOdf = []\n",
    "for odf in data[0]['odfs']:\n",
    "    if checkSum(odf)==True:\n",
    "        count += 1\n",
    "        validOdf += [odf]"
   ]
  },
  {
   "cell_type": "code",
   "execution_count": 180,
   "metadata": {},
   "outputs": [],
   "source": [
    "def getC12(odf):\n",
    "\n",
    "    C = stiffness.dot(odf).reshape(6,6);  # averaged stiffness matrix\n",
    "    C12 = C[0][1]\n",
    "    return C12\n",
    "#     alpha = thermalexpansion.dot(odf).reshape(3,3); # thermal expansion tensor\n",
    "#     alphaxx = alpha[0][0];\n",
    "#     print alphaxx\n",
    "\n",
    "# def getC2():\n",
    "    \n",
    "# def getExpansion():\n",
    "    \n",
    "    "
   ]
  },
  {
   "cell_type": "code",
   "execution_count": 111,
   "metadata": {},
   "outputs": [
    {
     "data": {
      "text/plain": [
       "[[], [], []]"
      ]
     },
     "execution_count": 111,
     "metadata": {},
     "output_type": "execute_result"
    }
   ],
   "source": [
    "x = [[]]*3\n",
    "x"
   ]
  },
  {
   "cell_type": "code",
   "execution_count": 12,
   "metadata": {
    "collapsed": true
   },
   "outputs": [],
   "source": [
    "maximumOdf = {'odf':maxOdf}\n",
    "savemat('maximumOdf',maximumOdf)"
   ]
  },
  {
   "cell_type": "code",
   "execution_count": 26,
   "metadata": {},
   "outputs": [
    {
     "data": {
      "text/plain": [
       "array([[  0.        ,   0.        ,   0.        ,   0.        ,\n",
       "          0.        ,   0.        ,   0.        ,   0.        ,\n",
       "          0.        ,   0.        ,   0.        ,   0.        ,\n",
       "          0.        ,   0.        ,   0.        ,   0.        ,\n",
       "          0.        ,   0.        ,  25.2821043 ,   6.81563517,\n",
       "          0.        ,   0.        ,   0.        ,   0.        ,\n",
       "          0.        ,   0.        ,   0.        ,   0.        ,\n",
       "         65.02285068,   0.        ,   0.        ,   0.        ,\n",
       "          0.        ,   0.        ,   0.        ,   0.        ,\n",
       "          0.        ,   0.        ,   0.        ,   0.        ,\n",
       "          0.        ,   0.        ,   0.        ,   0.        ,\n",
       "          0.        ,   0.        ,   0.        ,   0.        ,\n",
       "          0.        ,   0.        ]])"
      ]
     },
     "execution_count": 26,
     "metadata": {},
     "output_type": "execute_result"
    }
   ],
   "source": [
    "x = loadmat('maximumOdf.mat')\n",
    "x['odf']"
   ]
  },
  {
   "cell_type": "code",
   "execution_count": 48,
   "metadata": {},
   "outputs": [
    {
     "data": {
      "text/plain": [
       "['volumefraction',\n",
       " 'thermalexpansion',\n",
       " '__header__',\n",
       " '__globals__',\n",
       " 'stiffness',\n",
       " '__version__']"
      ]
     },
     "execution_count": 48,
     "metadata": {},
     "output_type": "execute_result"
    }
   ],
   "source": [
    "y = loadmat('alphatitaniumsmall.mat')\n",
    "y.keys('v')"
   ]
  },
  {
   "cell_type": "code",
   "execution_count": 33,
   "metadata": {},
   "outputs": [],
   "source": [
    "Sum = 0\n",
    "newOdf = [0]*50\n",
    "for i in range(50):\n",
    "    a = volumefraction[i]*maxOdf[i]\n",
    "    if Sum+a>1:\n",
    "        newOdf[i]=(1-Sum)/volumefraction[i]\n",
    "        break\n",
    "    else:\n",
    "        newOdf[i] = maxOdf[i]\n",
    "    Sum = Sum + a\n"
   ]
  },
  {
   "cell_type": "code",
   "execution_count": 15,
   "metadata": {
    "collapsed": true
   },
   "outputs": [],
   "source": [
    "def getSum(odf):\n",
    "    Sum = 0\n",
    "    for i in range(50):\n",
    "        Sum += volumefraction[i]*odf[i]\n",
    "    return Sum"
   ]
  },
  {
   "cell_type": "code",
   "execution_count": 26,
   "metadata": {},
   "outputs": [],
   "source": [
    "def checkSum(odf):\n",
    "    Sum = FiveSig(getSum(odf))\n",
    "    if Sum !=1.0:\n",
    "        return False\n",
    "    else:\n",
    "        return True\n",
    "#     return Sum"
   ]
  },
  {
   "cell_type": "code",
   "execution_count": 35,
   "metadata": {},
   "outputs": [
    {
     "name": "stdout",
     "output_type": "stream",
     "text": [
      "1.00737149974\n",
      "1.02332485318\n",
      "1.01006479154\n",
      "1.03523175208\n"
     ]
    }
   ],
   "source": [
    "for i in range(4):\n",
    "    print getSum(maxOdfI[i])"
   ]
  },
  {
   "cell_type": "code",
   "execution_count": 18,
   "metadata": {},
   "outputs": [
    {
     "data": {
      "text/plain": [
       "array([[ 183.56311018,   82.9671108 ,   88.58359421,    2.79862418,\n",
       "           1.13720681,   -0.90823487],\n",
       "       [  82.9671108 ,  190.54247559,   84.16617111,   -2.51820258,\n",
       "          -1.49969147,   -0.57366663],\n",
       "       [  88.58359421,   84.16617111,  181.52176458,   -2.06949264,\n",
       "           1.24595028,    0.88562018],\n",
       "       [   2.79862418,   -2.51820258,   -2.06949264,   50.352582  ,\n",
       "          -0.93216944,    1.19359208],\n",
       "       [   1.13720681,   -1.49969147,    1.24595028,   -0.93216944,\n",
       "          46.95981205,   -2.65543704],\n",
       "       [  -0.90823487,   -0.57366663,    0.88562018,    1.19359208,\n",
       "          -2.65543704,   51.7212652 ]])"
      ]
     },
     "execution_count": 18,
     "metadata": {},
     "output_type": "execute_result"
    }
   ],
   "source": [
    "stiffness_avg = stiffness.dot(odf)\n",
    "stiffness_avg.reshape(6,6)\n"
   ]
  },
  {
   "cell_type": "code",
   "execution_count": 25,
   "metadata": {},
   "outputs": [
    {
     "name": "stdout",
     "output_type": "stream",
     "text": [
      "531.971421333 269.995687525\n",
      "2.98660717028e-05\n"
     ]
    }
   ],
   "source": [
    "getC11C12([  0.00000000e+00,   4.04139735e+01,   0.00000000e+00,\n",
    "          0.00000000e+00,   0.00000000e+00,   0.00000000e+00,\n",
    "          0.00000000e+00,   0.00000000e+00,   0.00000000e+00,\n",
    "          0.00000000e+00,   0.00000000e+00,   0.00000000e+00,\n",
    "          0.00000000e+00,   0.00000000e+00,   0.00000000e+00,\n",
    "          0.00000000e+00,   0.00000000e+00,   0.00000000e+00,\n",
    "          0.00000000e+00,   0.00000000e+00,   0.00000000e+00,\n",
    "          0.00000000e+00,   0.00000000e+00,   0.00000000e+00,\n",
    "          0.00000000e+00,   0.00000000e+00,   0.00000000e+00,\n",
    "          0.00000000e+00,   0.00000000e+00,   0.00000000e+00,\n",
    "          0.00000000e+00,   0.00000000e+00,   0.00000000e+00,\n",
    "          1.71282918e-02,   0.00000000e+00,   0.00000000e+00,\n",
    "          0.00000000e+00,   0.00000000e+00,   0.00000000e+00,\n",
    "          0.00000000e+00,   0.00000000e+00,   0.00000000e+00,\n",
    "          0.00000000e+00,   0.00000000e+00,   0.00000000e+00,\n",
    "          0.00000000e+00,   0.00000000e+00,   0.00000000e+00,\n",
    "          0.00000000e+00,   0.00000000e+00])"
   ]
  },
  {
   "cell_type": "code",
   "execution_count": 18,
   "metadata": {},
   "outputs": [],
   "source": [
    "maxodf = {'odf':maxOdf}\n",
    "savemat('maxOdfTitanium',maxodf)"
   ]
  },
  {
   "cell_type": "code",
   "execution_count": 46,
   "metadata": {},
   "outputs": [],
   "source": [
    "data = {'odfs':odfs,'opt':opt}\n",
    "saveData(data,'titaniumData2','Data')"
   ]
  },
  {
   "cell_type": "code",
   "execution_count": 35,
   "metadata": {
    "collapsed": true
   },
   "outputs": [],
   "source": [
    "name='titaniumData'\n",
    "path = 'Data'\n",
    "obj = data"
   ]
  },
  {
   "cell_type": "code",
   "execution_count": 38,
   "metadata": {},
   "outputs": [],
   "source": [
    " with open(path+\"/\"+name + '.pkl', 'wb') as f:\n",
    "        pickle.dump(obj, f)#, pickle.HIGHEST_PROTOCOL)"
   ]
  },
  {
   "cell_type": "code",
   "execution_count": 100,
   "metadata": {},
   "outputs": [
    {
     "data": {
      "text/plain": [
       "[[1, 0], [1, 0]]"
      ]
     },
     "execution_count": 100,
     "metadata": {},
     "output_type": "execute_result"
    }
   ],
   "source": [
    "[[1,0]]*2"
   ]
  },
  {
   "cell_type": "code",
   "execution_count": 3,
   "metadata": {},
   "outputs": [
    {
     "data": {
      "text/plain": [
       "['__version__', '__header__', 'odf', '__globals__']"
      ]
     },
     "execution_count": 3,
     "metadata": {},
     "output_type": "execute_result"
    }
   ],
   "source": [
    "y = loadmat('odf_LP.mat')\n",
    "y.keys()\n"
   ]
  },
  {
   "cell_type": "code",
   "execution_count": 6,
   "metadata": {},
   "outputs": [],
   "source": [
    "odf = []\n",
    "for item in y['odf']:\n",
    "    odf += [item[0]]"
   ]
  },
  {
   "cell_type": "code",
   "execution_count": 17,
   "metadata": {},
   "outputs": [
    {
     "data": {
      "text/plain": [
       "0.99999999999999989"
      ]
     },
     "execution_count": 17,
     "metadata": {},
     "output_type": "execute_result"
    }
   ],
   "source": [
    "getSum(odf)"
   ]
  },
  {
   "cell_type": "code",
   "execution_count": 20,
   "metadata": {
    "collapsed": true
   },
   "outputs": [],
   "source": [
    "def FiveSig(x):\n",
    "    return float(\"{0:.5f}\".format(x))"
   ]
  },
  {
   "cell_type": "code",
   "execution_count": 25,
   "metadata": {},
   "outputs": [
    {
     "data": {
      "text/plain": [
       "0.99999"
      ]
     },
     "execution_count": 25,
     "metadata": {},
     "output_type": "execute_result"
    }
   ],
   "source": [
    "FiveSig(0.999989)"
   ]
  }
 ],
 "metadata": {
  "anaconda-cloud": {},
  "kernelspec": {
   "display_name": "Python 2",
   "language": "python",
   "name": "python2"
  },
  "language_info": {
   "codemirror_mode": {
    "name": "ipython",
    "version": 2
   },
   "file_extension": ".py",
   "mimetype": "text/x-python",
   "name": "python",
   "nbconvert_exporter": "python",
   "pygments_lexer": "ipython2",
   "version": "2.7.13"
  }
 },
 "nbformat": 4,
 "nbformat_minor": 1
}
